{
  "nbformat": 4,
  "nbformat_minor": 0,
  "metadata": {
    "colab": {
      "provenance": [],
      "authorship_tag": "ABX9TyMipHpGNFMFnvU2OYPSanFj",
      "include_colab_link": true
    },
    "kernelspec": {
      "name": "python3",
      "display_name": "Python 3"
    },
    "language_info": {
      "name": "python"
    }
  },
  "cells": [
    {
      "cell_type": "markdown",
      "metadata": {
        "id": "view-in-github",
        "colab_type": "text"
      },
      "source": [
        "<a href=\"https://colab.research.google.com/github/Fidaaz2521/_CTGAN_Major_Project/blob/main/CTGAN_MajorProject_HypothesisT_Modelling.ipynb\" target=\"_parent\"><img src=\"https://colab.research.google.com/assets/colab-badge.svg\" alt=\"Open In Colab\"/></a>"
      ]
    },
    {
      "cell_type": "markdown",
      "source": [
        "---------------------------\n",
        "\n",
        "# **Project Title:**\n",
        "\n",
        "# **MEDSYNTH: PREDICTIVE ANALYTICS FOR SYNTHETIC PATIENT DATA**\n",
        "\n",
        "**PART-2 (MODELLING)**\n",
        "\n",
        "\n",
        "\n",
        "-------------------------------------------------------------"
      ],
      "metadata": {
        "id": "n5la1T5ScnxH"
      }
    },
    {
      "cell_type": "markdown",
      "source": [
        "**Project Type :**\n",
        " EDA + Hypothesis Testing + Supervised & Unsupervised Models+ Synthetic data Generation (CTGAN)+ Neural Network + Deployment(streamlit).\n",
        "\n",
        "**Contribution:** Team\n",
        "\n",
        "**Team Members:**\n",
        "\n",
        "\n",
        "1.   Fida Taneem\n",
        "2.   Isha Shrivastava\n",
        "3.   Manthan M Y\n",
        "4.   Nischitha K N\n",
        "5.   Padakandla Venkata Naga Sai Hasini\n",
        "\n",
        "**Submitted To:**\n",
        "\n",
        "Global Next Consulting India Private Limited (GNCIPL)\n",
        "\n",
        "www.gncipl.com\n",
        "\n",
        "\n",
        "\n",
        "---------------------------------------------------------"
      ],
      "metadata": {
        "id": "Mh6zzeMzbhAR"
      }
    },
    {
      "cell_type": "markdown",
      "source": [
        "## **PART-1 SUMMARY**\n",
        "\n",
        "## **EDA (Exploratory Data Analysis)**\n",
        "\n",
        "- Explored the synthetic health dataset to understand its structure, quality, value distributions, and class balance.\n",
        "\n",
        "- Used visualizations and summary statistics to spot trends, outliers, and missing data.\n",
        "\n",
        "- Identified relationships between clinical, demographic, and outcome features that are relevant for prediction.\n",
        "\n",
        "- Purpose: Set a strong data foundation and guide modelling by revealing insights and potential pitfalls.\n",
        "\n"
      ],
      "metadata": {
        "id": "YWxY_TiUu4t0"
      }
    },
    {
      "cell_type": "markdown",
      "source": [
        "----------------\n",
        "## **Dataset Characteristics:**\n",
        "\n",
        "Size: 1,462 unique patients\n",
        "\n",
        "Features: 28+ engineered features from 11 source tables\n",
        "\n",
        "Challenge: Significant class imbalance (multimorbid patients are minority class)\n",
        "\n",
        "Solution Approach: CTGAN synthetic data augmentation to balance classes\n",
        "\n",
        "**Type of Problem:** Binary Classification\n",
        "\n",
        "**Output Variable:** Multimorbid Flag\n",
        "\n",
        "1 → Patient has ≥2 concurrent medical conditions (Multimorbid)\n",
        "\n",
        "0 → Patient has <2 medical conditions (Non-multimorbid)\n",
        "\n",
        "---------------------------------------\n"
      ],
      "metadata": {
        "id": "Ee1bNxP-aI5k"
      }
    },
    {
      "cell_type": "markdown",
      "source": [
        "# **Project Summary(PART-2)**\n",
        "\n",
        "**1. Hypothesis Testing**\n",
        "\n",
        "H₀: No significant difference in clinical features between multimorbid and non-multimorbid patients\n",
        "\n",
        "H₁: Significant differences exist, supporting model predictions\n",
        "\n",
        "- Tests validate that age, healthcare utilization, and medication complexity significantly distinguish multimorbid patients (p < 0.001)\n",
        "\n",
        "\n",
        "**2. Robust Multimorbidity Predictive Modelling**\n",
        "\n",
        "- Built classification models (Random Forests, XGBoost, Neural Networks, etc.) to predict whether a patient has multiple (co-occurring) chronic conditions (multimorbidity).\n",
        "\n",
        "- Addressed factors like class imbalance, feature selection, and model evaluation through accuracy, ROC-AUC, recall, etc.\n",
        "\n",
        "- Assessed feature importances to interpret what drives risk predictions.\n",
        "\n",
        "- Purpose: Developed a system that can accurately pinpoint patients at higher risk for multiple diseases.\n",
        "\n",
        "**3. Balancing with CTGAN Synthetic Samples**\n",
        "\n",
        "- Identified that multimorbid patients are much rarer (class imbalance).\n",
        "\n",
        "- Used CTGAN (Conditional Tabular GAN), a deep generative model, to synthesize realistic but artificial examples of these rare cases.\n",
        "\n",
        "- Augmented the training data with CTGAN-generated samples to enable the model to learn nuanced patterns from the minority class.\n",
        "\n",
        "- This advanced oversampling technique preserves true data distributions better than classic tools like SMOTE.\n",
        "\n",
        "- Purpose: Ensure the model is fair and does not underperform for the most clinically critical (but rare) high-risk patients.\n",
        "\n",
        "**4. Model Deployment Package**\n",
        "\n",
        "- Best-performing model automatically selected and saved with metadata\n",
        "\n",
        "- Includes feature importance rankings, performance metrics, and deployment timestamp\n",
        "\n",
        "- Ready for production integration with clinical decision support systems\n",
        "\n",
        "- Purpose: Provide statistical rigor and ensure reproducible, deployable healthcare AI solutions.\n",
        "\n",
        "-------------------------------------"
      ],
      "metadata": {
        "id": "rSrjXMVtadIw"
      }
    },
    {
      "cell_type": "markdown",
      "source": [
        "# **Let's Begin!**\n",
        "\n",
        "## **Basic imports used throughout**"
      ],
      "metadata": {
        "id": "noDkUVEOcCh7"
      }
    },
    {
      "cell_type": "code",
      "execution_count": null,
      "metadata": {
        "id": "NGJ5kfyf3jBM"
      },
      "outputs": [],
      "source": [
        "\n",
        "import pandas as pd\n",
        "import numpy as np\n",
        "import matplotlib.pyplot as plt\n",
        "import seaborn as sns\n",
        "import plotly.express as px\n",
        "import plotly.graph_objects as go\n",
        "from sklearn.model_selection import train_test_split, StratifiedKFold, GridSearchCV, RandomizedSearchCV\n",
        "from sklearn.preprocessing import StandardScaler, OneHotEncoder\n",
        "from sklearn.pipeline import Pipeline\n",
        "from sklearn.compose import ColumnTransformer\n",
        "from sklearn.metrics import (accuracy_score, f1_score, roc_auc_score, precision_score,\n",
        "                             recall_score, confusion_matrix, classification_report)\n",
        "from sklearn.decomposition import PCA\n",
        "from sklearn.cluster import KMeans\n",
        "from sklearn.mixture import GaussianMixture\n",
        "from sklearn.metrics import silhouette_score\n",
        "import joblib\n",
        "import warnings\n",
        "warnings.filterwarnings('ignore')\n"
      ]
    },
    {
      "cell_type": "markdown",
      "source": [
        "## **1. Load cleaned master dataset (from earlier step)**\n",
        "\n"
      ],
      "metadata": {
        "id": "0VeVniSL4MWa"
      }
    },
    {
      "cell_type": "code",
      "source": [
        "\n",
        "df = pd.read_csv(\"https://raw.githubusercontent.com/Fidaaz2521/_CTGAN_Major_Project/main/cleaned_scaled_dataset.csv\")\n",
        "\n"
      ],
      "metadata": {
        "id": "bPrca3I44Ipc"
      },
      "execution_count": null,
      "outputs": []
    },
    {
      "cell_type": "markdown",
      "source": [
        "------------------------------\n",
        "\n",
        "## **Why Multi-Morbidity?**"
      ],
      "metadata": {
        "id": "jGMIiG7icZBd"
      }
    },
    {
      "cell_type": "markdown",
      "source": [
        "Why is Multimorbidity Important?\n",
        "\n",
        "1. Aging populations:\n",
        "\n",
        " As people live longer, they are more likely to develop multiple health problems, making multimorbidity a growing public health concern.\n",
        "\n",
        "2. Care coordination:\n",
        "\n",
        " Understanding multimorbidity is crucial for healthcare providers to manage patients' complex needs effectively and avoid overprescribing or potentially harmful interventions.\n",
        "\n",
        "3. Focus on the person:\n",
        "\n",
        " The concept emphasizes a patient-centered approach, promoting shared decision-making and supporting self-management skills"
      ],
      "metadata": {
        "id": "xtM_h_nFcpzW"
      }
    },
    {
      "cell_type": "markdown",
      "source": [
        "----------------------------\n",
        "\n",
        "## **2. Hypothesis Testing**\n",
        "\n",
        "Hypothesis testing validates that key patterns in your dataset (like cost differences or correlations) are statistically sound—not just the result of random variation. This gives you confidence that the relationships your model learns are real and actionable, not just artifacts of noise in the data.\n",
        "\n",
        "--------------------------\n",
        "\n",
        "**1. Hypothesis 1**\n",
        "\n",
        " H1: Patients with >2 conditions have higher mean total_claims\n",
        "\n",
        " H₀: mean_claims (multi_morbid=1) = mean_claims (multi_morbid=0)\n",
        "\n",
        "H₁: mean_claims (multi_morbid=1) > mean_claims (multi_morbid=0)\n",
        "\n",
        "\n",
        "**2. Hypothesis 2**\n",
        "\n",
        "H2: Correlation between num_conditions and num_meds\n",
        "\n",
        " H₀: ρ = 0 (no correlation)\n",
        "\n",
        " H₁: ρ ≠ 0 (significant correlation exists)\n",
        "\n",
        "\n",
        "\n",
        "\n",
        "**3. Hypothesis 3**\n",
        "\n",
        " H3: Is prevalence of multi_morbidity independent of gender?\n",
        "\n",
        " H₀: gender ⟂ multi_morbid (independent)\n",
        "\n",
        " H₁: gender and multi_morbid are associated"
      ],
      "metadata": {
        "id": "c19p9vjLLFIJ"
      }
    },
    {
      "cell_type": "code",
      "source": [
        "import pandas as pd\n",
        "from scipy.stats import ttest_ind, pearsonr, chi2_contingency\n",
        "\n",
        "alpha = 0.05\n",
        "results = []\n",
        "\n",
        "# -------------------------------------------------------\n",
        "# Step 1: Create multi_morbid column\n",
        "df['multi_morbid'] = (df['num_conditions'] > 2).astype(int)\n",
        "\n",
        "# -------------------------------------------------------\n",
        "# H1: t-test (claims vs multimorbidity)\n",
        "grp1 = df[df['multi_morbid']==1]['total_claims']\n",
        "grp0 = df[df['multi_morbid']==0]['total_claims']\n",
        "\n",
        "tstat, p_two_sided = ttest_ind(grp1, grp0, equal_var=False, nan_policy='omit')\n",
        "p_one_sided = p_two_sided/2 if tstat > 0 else 1 - (p_two_sided/2)\n",
        "\n",
        "results.append({\n",
        "    \"Hypothesis\": \"H1: Patients with >2 conditions have higher claims\",\n",
        "    \"Test\": \"t-test (independent, one-sided)\",\n",
        "    \"Statistic\": f\"{tstat:.3f}\",\n",
        "    \"p-value\": f\"{p_one_sided:.4f}\",\n",
        "    \"Conclusion\": \"Reject H₀\" if p_one_sided < alpha else \"Fail to reject H₀\"\n",
        "})\n",
        "\n",
        "# -------------------------------------------------------\n",
        "# H2: Pearson correlation (conditions vs meds)\n",
        "corr_coef, p_corr = pearsonr(df['num_conditions'], df['num_meds'])\n",
        "\n",
        "results.append({\n",
        "    \"Hypothesis\": \"H2: Correlation between num_conditions and num_meds\",\n",
        "    \"Test\": \"Pearson correlation\",\n",
        "    \"Statistic\": f\"r = {corr_coef:.3f}\",\n",
        "    \"p-value\": f\"{p_corr:.4f}\",\n",
        "    \"Conclusion\": \"Reject H₀\" if p_corr < alpha else \"Fail to reject H₀\"\n",
        "})\n",
        "\n",
        "# -------------------------------------------------------\n",
        "# H3: Chi-square (gender vs multimorbidity)\n",
        "ct = pd.crosstab(df['gender'], df['multi_morbid'])\n",
        "chi2, p_chi, dof, ex = chi2_contingency(ct)\n",
        "\n",
        "results.append({\n",
        "    \"Hypothesis\": \"H3: Association between gender and multi_morbidity\",\n",
        "    \"Test\": \"Chi-square test\",\n",
        "    \"Statistic\": f\"{chi2:.3f} (dof={dof})\",\n",
        "    \"p-value\": f\"{p_chi:.4f}\",\n",
        "    \"Conclusion\": \"Reject H₀\" if p_chi < alpha else \"Fail to reject H₀\"\n",
        "})\n",
        "\n",
        "# -------------------------------------------------------\n",
        "# Convert to DataFrame for display\n",
        "results_df = pd.DataFrame(results)\n",
        "print(results_df)\n",
        "\n"
      ],
      "metadata": {
        "colab": {
          "base_uri": "https://localhost:8080/"
        },
        "id": "a5QF4iu84ImQ",
        "outputId": "4d087f9e-ac10-40ed-fccd-8929519b36dc"
      },
      "execution_count": null,
      "outputs": [
        {
          "output_type": "stream",
          "name": "stdout",
          "text": [
            "                                          Hypothesis  \\\n",
            "0  H1: Patients with >2 conditions have higher cl...   \n",
            "1  H2: Correlation between num_conditions and num...   \n",
            "2  H3: Association between gender and multi_morbi...   \n",
            "\n",
            "                              Test       Statistic p-value Conclusion  \n",
            "0  t-test (independent, one-sided)           6.496  0.0000  Reject H₀  \n",
            "1              Pearson correlation       r = 0.460  0.0000  Reject H₀  \n",
            "2                  Chi-square test  11.335 (dof=1)  0.0008  Reject H₀  \n"
          ]
        }
      ]
    },
    {
      "cell_type": "markdown",
      "source": [
        "**H1: Patients with >2 conditions have higher claims**\n",
        "\n",
        "\n",
        "**Conclusion:** Reject H₀ — Multimorbid patients (with >2 conditions) have significantly higher total claims compared to non-multimorbid patients.\n",
        "\n",
        "**H2: Correlation between number of conditions and medications**\n",
        "\n",
        "\n",
        "\n",
        "**Conclusion:** Reject H₀ — There is a significant positive correlation between the number of conditions and number of medications.\n",
        "\n",
        "**H3: Is multi-morbidity prevalence independent of gender?**\n",
        "\n",
        "\n",
        "\n",
        "**Conclusion:** Reject H₀ — Gender and multi-morbidity are associated; prevalence of multimorbidity is not independent of gender.\n",
        "\n",
        "**Summary:**\n",
        "\n",
        "All key hypotheses are statistically significant — multimorbidity relates to higher costs, correlates with medication load, and varies by gender in this synthetic healthcare dataset.\n",
        "\n",
        "-----------------------"
      ],
      "metadata": {
        "id": "H8RRshZ1eha9"
      }
    },
    {
      "cell_type": "markdown",
      "source": [
        "## **4. Prepare data for supervised models**\n",
        "\n",
        "- Split patient-wise (no leakage)\n",
        "\n",
        "- Preprocessing pipeline: numeric scaling and categorical one-hot as needed"
      ],
      "metadata": {
        "id": "8hFCqRV44kkt"
      }
    },
    {
      "cell_type": "code",
      "source": [
        "from sklearn.ensemble import RandomForestClassifier\n",
        "from xgboost import XGBClassifier\n",
        "from sklearn.metrics import classification_report, roc_auc_score, accuracy_score\n",
        "from sklearn.compose import ColumnTransformer\n",
        "from sklearn.preprocessing import StandardScaler, OneHotEncoder\n",
        "from sklearn.pipeline import Pipeline\n"
      ],
      "metadata": {
        "id": "4ZlkoN4HqXYi"
      },
      "execution_count": null,
      "outputs": []
    },
    {
      "cell_type": "markdown",
      "source": [
        "### **Feature Selection & Data Split**\n",
        "\n",
        "Prepare clean input features and target variable for multimorbidity prediction modeling."
      ],
      "metadata": {
        "id": "iRLwveg21z6f"
      }
    },
    {
      "cell_type": "code",
      "source": [
        "# Columns\n",
        "numeric_features = ['age','total_claims','num_meds','num_encounters']  # removed 'num_conditions'\n",
        "categorical_features = ['gender','race']\n",
        "\n",
        "# Combine features\n",
        "features = numeric_features + categorical_features\n",
        "\n",
        "# Define X, y\n",
        "X = df[features].copy()\n",
        "y = df['multi_morbid'].copy()\n",
        "\n",
        "# Train-test split\n",
        "X_train, X_test, y_train, y_test = train_test_split(\n",
        "    X, y, test_size=0.2, random_state=42, stratify=y\n",
        ")\n",
        "\n"
      ],
      "metadata": {
        "id": "BTlWJbwB4Icr"
      },
      "execution_count": null,
      "outputs": []
    },
    {
      "cell_type": "markdown",
      "source": [
        "\n",
        "\n",
        "\n",
        "Features: 6 variables — age, total_claims, num_meds, num_encounters, gender, race\n",
        "\n",
        "Target: Binary multimorbidity indicator (>2 conditions)\n",
        "\n",
        "Split: 80/20 train-test with stratification to preserve class balance\n",
        "\n",
        "Key Decision: Excluded num_conditions to prevent data leakage\n",
        "\n",
        "Result: Clean dataset ready for modeling with no shortcuts or bias.\n",
        "\n",
        "------------------------------"
      ],
      "metadata": {
        "id": "CTjOFV7E2Rqc"
      }
    },
    {
      "cell_type": "markdown",
      "source": [
        "### **Numeric and categorical transformers**"
      ],
      "metadata": {
        "id": "fXKStUE63E25"
      }
    },
    {
      "cell_type": "code",
      "source": [
        "# Numeric and categorical transformers\n",
        "numeric_transformer = StandardScaler()\n",
        "categorical_transformer = OneHotEncoder(handle_unknown=\"ignore\")\n",
        "\n",
        "# Column transformer\n",
        "preprocessor = ColumnTransformer(\n",
        "    transformers=[\n",
        "        ('num', numeric_transformer, numeric_features),\n",
        "        ('cat', categorical_transformer, categorical_features)\n",
        "    ]\n",
        ")"
      ],
      "metadata": {
        "id": "bjp3H6ohuUMy"
      },
      "execution_count": null,
      "outputs": []
    },
    {
      "cell_type": "markdown",
      "source": [
        "Purpose: Sets up preprocessing for model input.\n",
        "\n",
        "Numeric features: Standardized (mean=0, std=1) for fair scaling.\n",
        "\n",
        "Categorical features: One-hot encoded for algorithm compatibility.\n",
        "\n",
        "ColumnTransformer: Applies each transformer to the right columns, producing a fully numeric, model-ready dataset.\n",
        "\n",
        "Result: Consistent, unbiased input features for downstream machine learning.\n",
        "\n",
        "-------------------------------"
      ],
      "metadata": {
        "id": "up3sAp9E25PZ"
      }
    },
    {
      "cell_type": "code",
      "source": [],
      "metadata": {
        "id": "fYH7UeSPrylD"
      },
      "execution_count": null,
      "outputs": []
    },
    {
      "cell_type": "markdown",
      "source": [
        "## **5. Supervised Modelling**"
      ],
      "metadata": {
        "id": "CPStwUCu3R9q"
      }
    },
    {
      "cell_type": "markdown",
      "source": [
        "### **Random Forest Classifier**\n",
        "\n",
        "Handles mixed data types( numeric + categorical) well."
      ],
      "metadata": {
        "id": "F51rnPk43hGD"
      }
    },
    {
      "cell_type": "code",
      "source": [
        "\n",
        "from sklearn.pipeline import Pipeline\n",
        "from sklearn.ensemble import RandomForestClassifier\n",
        "\n",
        "\n",
        "rf = Pipeline(steps=[('preprocess', preprocessor),\n",
        "                    ('clf', RandomForestClassifier(random_state=42))])\n",
        "rf.fit(X_train, y_train)\n",
        "rf_pred = rf.predict(X_test)\n",
        "print(\"RandomForest Accuracy:\", accuracy_score(y_test, rf_pred))\n",
        "print(\"RandomForest ROC-AUC:\", roc_auc_score(y_test, rf.predict_proba(X_test)[:,1]))\n",
        "print(classification_report(y_test, rf_pred))\n",
        "\n",
        "\n"
      ],
      "metadata": {
        "colab": {
          "base_uri": "https://localhost:8080/"
        },
        "id": "pvKfjbMCRS2E",
        "outputId": "1e73a888-969f-4267-a05c-7fee0e6086e3"
      },
      "execution_count": null,
      "outputs": [
        {
          "output_type": "stream",
          "name": "stdout",
          "text": [
            "RandomForest Accuracy: 0.9385665529010239\n",
            "RandomForest ROC-AUC: 0.8039835164835165\n",
            "              precision    recall  f1-score   support\n",
            "\n",
            "           0       0.96      0.97      0.97       280\n",
            "           1       0.27      0.23      0.25        13\n",
            "\n",
            "    accuracy                           0.94       293\n",
            "   macro avg       0.62      0.60      0.61       293\n",
            "weighted avg       0.93      0.94      0.94       293\n",
            "\n"
          ]
        }
      ]
    },
    {
      "cell_type": "markdown",
      "source": [
        "**Random Forest Performance Report**\n",
        "\n",
        "**Pipeline:** Preprocesses features (scaling, encoding) and applies a RandomForestClassifier.\n",
        "\n",
        "**Test Accuracy:** 93.8% (high overall)\n",
        "\n",
        "**ROC-AUC**: 0.80 (good discrimination for rare class)\n",
        "\n",
        "**Majority class (0) metrics:** Precision/recall >0.95 — the model predicts non-multimorbid patients very well.\n",
        "\n",
        "**Minority class (1) metrics:** Low recall (0.23) and f1-score (0.25) — underdetects high-risk multimorbid cases despite good accuracy.\n",
        "\n",
        "**Interpretation:** Class imbalance limits detection of patients with multimorbidity, highlighting need for resampling or synthetic data (e.g., CTGAN). Model otherwise robust for dominant class.\n",
        "\n",
        "--------------------------------------------"
      ],
      "metadata": {
        "id": "Y6E4Q-j44id3"
      }
    },
    {
      "cell_type": "markdown",
      "source": [
        "### **XGBoost**\n",
        "\n",
        "\n",
        "\n",
        "Gradient boosting handles complex patterns and feature interactions,\n",
        "Often outperforms other algorithms on tabular data and\n",
        "built-in regularization prevents overfitting\n",
        "\n"
      ],
      "metadata": {
        "id": "e2rNCVL45YQ3"
      }
    },
    {
      "cell_type": "code",
      "source": [
        "# XGBoost\n",
        "xgb = Pipeline(steps=[('preprocess', preprocessor),\n",
        "                     ('clf', XGBClassifier(use_label_encoder=False, eval_metric='logloss',\n",
        "                                           random_state=42))])\n",
        "xgb.fit(X_train, y_train)\n",
        "xgb_pred = xgb.predict(X_test)\n",
        "print(\"XGB Accuracy:\", accuracy_score(y_test, xgb_pred))\n",
        "print(\"XGB ROC-AUC:\", roc_auc_score(y_test, xgb.predict_proba(X_test)[:,1]))\n",
        "print(classification_report(y_test, xgb_pred))"
      ],
      "metadata": {
        "colab": {
          "base_uri": "https://localhost:8080/"
        },
        "id": "6k7tP4rgRdbU",
        "outputId": "46906807-5943-49d1-fb98-643b8183e0ca"
      },
      "execution_count": null,
      "outputs": [
        {
          "output_type": "stream",
          "name": "stdout",
          "text": [
            "XGB Accuracy: 0.9180887372013652\n",
            "XGB ROC-AUC: 0.8200549450549451\n",
            "              precision    recall  f1-score   support\n",
            "\n",
            "           0       0.96      0.95      0.96       280\n",
            "           1       0.18      0.23      0.20        13\n",
            "\n",
            "    accuracy                           0.92       293\n",
            "   macro avg       0.57      0.59      0.58       293\n",
            "weighted avg       0.93      0.92      0.92       293\n",
            "\n"
          ]
        }
      ]
    },
    {
      "cell_type": "markdown",
      "source": [
        "**XGBoost vs Random Forest Comparison:**\n",
        "\n",
        "- Lower accuracy (91.8% vs 93.8%) but higher ROC-AUC (0.82 vs 0.80)\n",
        "\n",
        "- Same recall (0.23) for minority class — still missing 77% of multimorbid patients\n",
        "\n",
        "- Lower precision (0.18 vs 0.27) for minority class — more false positives\n",
        "\n",
        "**Key Insight:**\n",
        "\n",
        "XGBoost shows better discrimination (higher AUC) but same fundamental problem — class imbalance severely limits detection of high-risk patients. Both models need synthetic data augmentation to be clinically useful.\n",
        "\n",
        "---------------------------"
      ],
      "metadata": {
        "id": "_q0wWUGE6fey"
      }
    },
    {
      "cell_type": "markdown",
      "source": [
        "## **6. Dimensionality Reduction**"
      ],
      "metadata": {
        "id": "G7hMY8I47FUB"
      }
    },
    {
      "cell_type": "markdown",
      "source": [
        "**PCA ( Principal Component Analysis )**\n",
        "\n",
        "Why PCA?\n",
        "\n",
        "- Reduces preprocessed features to 2 key components for easy visualization.\n",
        "\n",
        "- Reveals clusters or separability between multimorbid and non-multimorbid patients."
      ],
      "metadata": {
        "id": "IShVqaIX86OP"
      }
    },
    {
      "cell_type": "code",
      "source": [
        "# Use preprocessed numeric matrix we used for NN (X_train_p or entire X)\n",
        "X_all_p = preprocessor.transform(X)  # full dataset transform\n",
        "\n",
        "# PCA (2 components) for visualization\n",
        "pca = PCA(n_components=2, random_state=42)\n",
        "X_pca = pca.fit_transform(X_all_p)\n",
        "df_pca = pd.DataFrame(X_pca, columns=['PC1','PC2'])\n",
        "df_pca['multi_morbid'] = y.values\n",
        "\n",
        "px.scatter(df_pca, x='PC1', y='PC2', color='multi_morbid', title='PCA 2D projection')\n",
        "\n"
      ],
      "metadata": {
        "colab": {
          "base_uri": "https://localhost:8080/",
          "height": 542
        },
        "id": "Vqmx2mnz47r6",
        "outputId": "cb7bb890-c5a3-4e2a-e631-1304658f3781"
      },
      "execution_count": null,
      "outputs": [
        {
          "output_type": "display_data",
          "data": {
            "text/html": [
              "<html>\n",
              "<head><meta charset=\"utf-8\" /></head>\n",
              "<body>\n",
              "    <div>            <script src=\"https://cdnjs.cloudflare.com/ajax/libs/mathjax/2.7.5/MathJax.js?config=TeX-AMS-MML_SVG\"></script><script type=\"text/javascript\">if (window.MathJax && window.MathJax.Hub && window.MathJax.Hub.Config) {window.MathJax.Hub.Config({SVG: {font: \"STIX-Web\"}});}</script>                <script type=\"text/javascript\">window.PlotlyConfig = {MathJaxConfig: 'local'};</script>\n",
              "        <script charset=\"utf-8\" src=\"https://cdn.plot.ly/plotly-2.35.2.min.js\"></script>                <div id=\"125d8928-3356-40ab-b385-b1df331d3132\" class=\"plotly-graph-div\" style=\"height:525px; width:100%;\"></div>            <script type=\"text/javascript\">                                    window.PLOTLYENV=window.PLOTLYENV || {};                                    if (document.getElementById(\"125d8928-3356-40ab-b385-b1df331d3132\")) {                    Plotly.newPlot(                        \"125d8928-3356-40ab-b385-b1df331d3132\",                        [{\"hovertemplate\":\"PC1=%{x}\\u003cbr\\u003ePC2=%{y}\\u003cbr\\u003emulti_morbid=%{marker.color}\\u003cextra\\u003e\\u003c\\u002fextra\\u003e\",\"legendgroup\":\"\",\"marker\":{\"color\":[0,0,0,0,0,0,1,0,1,0,0,0,0,0,0,0,0,0,0,0,0,0,0,0,0,1,1,0,0,0,0,1,0,1,0,0,0,1,0,0,0,0,0,0,1,0,0,1,0,0,0,0,0,0,0,0,0,0,0,0,0,0,0,0,0,0,0,0,0,0,0,0,0,0,0,0,1,0,0,0,0,0,0,0,0,0,0,0,0,0,0,0,0,0,1,0,0,0,0,0,0,0,0,0,0,0,0,0,0,0,0,0,0,0,0,0,0,0,0,0,0,0,0,0,0,0,0,0,0,0,0,0,0,0,0,0,0,0,0,0,0,0,0,0,0,0,0,0,0,0,0,0,0,0,0,0,0,0,0,0,0,0,0,0,0,0,0,0,0,0,0,0,0,0,0,0,0,0,0,0,0,0,0,0,0,0,0,0,0,0,0,0,0,0,0,0,0,0,0,0,0,0,0,0,0,0,0,0,0,0,0,0,0,0,0,0,0,0,0,0,0,0,0,0,0,0,1,0,0,0,0,0,0,0,0,0,0,0,0,0,0,1,0,0,1,0,0,0,0,0,0,0,0,0,0,0,0,0,0,0,0,0,0,0,0,0,0,0,0,0,0,0,0,0,0,0,0,0,0,0,0,0,0,0,0,0,0,1,0,0,0,0,0,0,0,0,0,0,0,0,0,0,0,0,0,0,0,0,0,0,0,0,0,0,0,0,0,0,0,0,0,0,0,0,0,0,0,0,0,0,0,0,0,0,0,0,0,1,0,0,0,0,0,0,0,1,0,0,0,0,0,0,0,0,0,0,0,0,0,0,0,0,0,0,0,0,0,0,0,1,0,0,0,0,0,0,0,0,0,0,0,0,0,0,0,0,0,0,0,0,0,0,0,0,0,0,0,0,0,0,0,0,0,0,0,0,0,0,0,0,0,0,0,0,0,0,0,0,0,0,0,0,0,0,0,0,0,0,0,0,0,0,0,0,0,0,0,0,0,0,0,0,0,0,0,0,0,0,0,0,0,0,0,0,0,0,0,0,0,0,0,0,0,0,0,1,0,0,0,0,0,0,0,0,0,0,0,0,0,0,0,0,0,0,0,0,0,0,0,0,0,0,0,0,0,0,0,0,0,0,0,0,0,0,0,0,0,0,0,0,0,0,0,0,0,0,0,0,0,0,0,0,0,0,0,0,0,0,0,0,0,0,0,0,0,0,0,0,0,0,0,0,0,0,0,0,0,0,0,0,0,0,0,0,0,0,0,0,0,0,0,0,0,0,0,0,0,0,0,0,0,0,0,0,0,0,0,0,0,0,0,0,0,0,0,0,0,0,0,0,0,0,0,0,0,0,0,0,0,0,0,0,0,0,0,0,0,0,0,0,0,0,0,0,0,0,0,0,0,0,0,0,0,0,1,0,0,0,0,0,0,0,0,0,0,0,0,0,0,0,0,0,0,0,0,0,0,0,0,0,0,0,0,0,0,0,0,0,0,0,0,0,0,0,0,0,0,0,0,0,0,0,0,0,0,0,0,0,0,0,0,0,0,0,0,0,0,0,0,0,0,0,0,0,0,0,0,1,0,0,0,0,0,0,0,0,0,0,0,0,0,0,0,0,0,0,0,0,0,0,0,0,0,0,0,0,0,0,0,0,0,0,0,0,0,0,0,0,0,0,0,0,0,0,0,0,0,0,0,0,0,0,0,0,0,0,0,0,0,0,0,0,0,0,0,0,0,0,0,0,0,0,0,0,0,0,0,0,0,0,0,0,0,0,0,0,0,0,0,0,0,0,0,0,0,0,0,0,0,0,0,0,0,0,0,0,0,1,0,0,0,0,0,0,0,0,0,0,0,0,1,0,0,0,0,0,0,0,0,0,0,0,0,0,0,0,0,0,0,0,0,1,0,0,0,0,0,0,0,0,0,0,1,0,1,0,0,0,0,0,0,0,0,0,0,0,0,0,0,0,0,0,0,1,0,0,0,0,0,0,0,0,0,0,0,0,0,0,0,0,0,0,0,0,0,0,1,0,1,0,0,0,0,0,0,0,1,0,0,1,0,0,0,0,0,0,0,0,0,0,0,0,1,0,0,0,0,1,0,0,0,0,0,0,0,0,0,0,0,0,1,0,0,0,1,0,0,0,0,0,0,0,0,0,0,1,0,0,1,1,0,0,1,0,0,0,0,0,0,0,0,0,0,0,0,0,0,0,0,0,0,0,0,1,0,0,0,0,0,0,0,0,0,0,0,0,0,0,0,0,0,0,0,0,1,0,0,0,0,0,1,0,1,0,0,0,0,0,0,0,0,0,0,0,0,0,0,0,0,0,0,0,0,0,0,0,0,0,0,0,0,0,0,0,0,0,0,0,0,0,0,0,0,1,0,0,0,0,0,0,0,0,0,0,0,0,0,0,0,0,0,0,0,0,0,0,0,0,0,0,0,1,0,0,0,0,0,0,0,0,0,0,0,0,0,0,0,0,0,1,0,0,0,0,0,1,0,0,0,0,0,0,0,0,0,0,0,0,0,0,0,0,0,0,0,0,1,0,0,0,0,0,0,0,0,0,0,0,0,0,0,0,0,0,0,0,0,0,0,0,0,0,0,0,0,0,0,0,0,0,0,0,0,0,0,0,0,0,0,0,0,0,0,0,0,0,0,0,0,0,0,0,0,0,0,0,0,0,0,0,0,0,0,0,0,0,0,0,0,0,0,0,0,0,0,0,0,0,0,1,0,0,0,0,0,0,0,0,0,0,0,0,0,0,0,0,0,0,0,0,0,0,0,0,0,0,0,0,0,0,0,0,0,0,1,0,0,0,0,0,0,0,0,0,0,0,1,0,0,0,0,1,0,0,0,0,0,0,0,0,0,0,0,0,0,0,0,0,0,0,0,0,0,0,0,0,0,0,0,0,1,0,0,0,0,0,0,0,0,0,0,0,0,0,0,0,0,0,0,0,0,0,0,0,0,0,0,0,0,0,0,0,0,0,0,0,0,0,0,0,0,0,0,0,0,0,1,0,0,0,0,0,1,0,0,0,0,0,0,1,0,0,0,0,0,0,0,0,0,0,0,1,0,0,0,0,0,0,0,0,0,0,0,0,0,0,0,0,0,0,0,0,0,1,0,0,1,0,0,1,0,0,0,0,0,0,0,1,0,0,0,0,0,1,1,0,0,0,0,0,0,0,0,0,0,1,0,0,0,0,0,0,0,0,0,0,0,0,0,0,0,1,0,0,1,0,0,0,0,0,0,0,0,0,0,0,0,0,0,0,0,0,0,1,0,0,0,0,0,0,0,0],\"coloraxis\":\"coloraxis\",\"symbol\":\"circle\"},\"mode\":\"markers\",\"name\":\"\",\"showlegend\":false,\"x\":[-1.7493397236887542,-1.3308738104881002,0.5579907943448729,1.409027275053537,0.35095861194250316,-0.34988324347338245,0.4610500385483191,1.0181628876258235,0.6991417042875846,0.46064408401893137,-0.07282220765874053,-0.25991120426887326,-0.05154162752359565,6.222753508844211,3.5939684374904095,0.6575512500771247,0.5695636095113832,0.18396462683020892,-0.6640313090705278,5.410655210704991,0.2438692596310616,-0.19921962677934144,0.6889306593674502,1.460079284456234,-0.5359652728074347,-0.3449738645160381,1.0294564272845987,3.1244808506553,0.15589650940816185,3.7886489613988306,-0.5104012908317346,0.08577567167724992,0.375825822262636,0.7887038226973127,0.3754198677332482,-0.06750746263863659,-0.8392156792479377,0.6586281392209243,-0.41747989540518077,-0.4853606391603011,-0.32314892689755603,0.43464580534498193,-0.33313046366966226,0.2494040272385668,6.461512986529186,11.984844706361924,-1.0899745402051368,0.8683561374881807,-0.5042706704874615,-0.3091330404905599,2.247954531234111,-0.3699202184162844,-0.8331213201199154,-0.3590244456260471,0.7449265810500193,-1.2132683776459359,-0.14822825449636312,-1.081656543957402,0.02640782100668386,-0.40229367439805835,1.8384913392434905,-0.8874549240970121,-0.5615706760093103,-1.0721785319090857,-0.9441441865392516,1.7276538007085427,-0.606044689312171,-0.8829271237655874,-0.6510074995967706,-0.1633201777322983,-1.137297579277871,-0.5580446829440412,-0.3461542731434194,-0.8107267169536613,-1.189586147496481,0.10258159663944269,-0.41361417202631046,-0.7452873165453033,-0.7029757147758082,-0.946560726896403,-0.13466189882479657,-0.9128236893827255,-0.572432073949702,0.6633173371181855,4.722483205389258,-1.1298957888064765,0.974392976559291,-0.4593492814290376,-0.9058105239135805,-0.5991929214088627,-1.1246303840599374,-0.8067436177999122,-0.8742358979332684,-0.9231177352278929,-1.3656107689015282,-1.1587928606100069,-0.8819104261565903,-0.6612185445169051,-0.557883126905523,-1.2998561754635227,-0.8574045630160629,0.6994870216972535,-0.984446586680368,-0.542452507407531,0.8997364194495654,-1.2261502740608607,-1.4170193925600485,-0.9495122380983136,-1.3067493645930066,-1.2319391704921518,2.653559546124543,-1.39562659665995,-0.66362535454114,-0.8797480146232249,-0.7304842406773382,4.395336294688451,-1.3866832117620544,-1.3892929990509832,-1.6594852216396092,-0.5265528994160804,-1.3890486005601137,-0.4873563346452234,2.1697903785990365,-1.2561809921621239,-1.4586342226739766,-1.7143784171372232,-1.183848402624282,-1.2945243851207116,-1.4607023364361547,-1.1480484113583511,0.2589908772530714,-1.501302438699295,-1.334043189297546,-0.5803191512979528,-1.889843447021753,-0.9891529883730187,-1.5529140396225092,-1.4632992031404515,0.24475712323854032,-0.9060497623945251,-1.731930026942405,-1.5690414307760685,-1.108224488179124,-1.4197265052710897,-0.9924760041735938,-0.5306333239919416,-1.3544290179215641,-1.4857352275328812,-1.1301158113938778,-0.23002636549183594,-1.552980425218781,-1.3160192393667043,-1.5826248317703426,-1.4400227690477025,-1.6568754343506804,0.24356025775507967,-1.3797900226325703,-1.7748426414585927,-1.656440979179749,-1.7132592340961887,-1.4901258477292556,-1.4359294238872091,-1.5882795757175086,-1.1805668080498823,-1.5058966246269918,-1.894371247353178,-1.295186034987123,-1.8490932440389305,-0.013363756868919885,-1.5346248254022128,-1.3906514205729619,-1.4359294238872091,-1.3213837546543192,-1.1715112073870328,-1.298289616666925,-1.7250368378129208,-1.776648438736135,-1.5538966309951217,-1.440457224218634,-0.8748556809885881,-1.1165324103996037,-1.5708472280536105,-1.8445654437075059,-1.1543162118376744,-1.5822432531444228,-1.3997070212358114,-1.1870028910908863,-1.2077336100384306,-1.1923444117666142,-1.832108986328973,-1.4332074208333268,-1.2059278127608886,-1.2304750971275915,-1.7495841221796238,-1.6480642321787005,-1.5919248309240617,-1.679514436007804,-1.8038152407246832,-0.006113953483612544,-1.5828692302612122,-1.6344808311844263,-1.393617822117714,-1.4298402247691118,-1.7313704354218877,-0.9849818022974169,-0.5750287821813171,-1.3662066216382962,-1.3012560182116772,-1.5263482503806536,-1.6161252313678578,-1.3254564186554736,-1.334512019318323,-1.3329169598801818,-1.6236194332440346,-1.2715779510086471,-1.889843447021753,-0.10052595315806098,-1.2421502154122863,-0.962587199131163,-1.4596953691600743,-1.1987804948076184,-1.668897436558282,-1.4694298234847245,-1.352623220644022,-1.8445654437075059,-1.5509302294503695,-0.1784147645686218,-1.1941502090441565,-1.0375854801538702,-1.2831448168859783,-1.5538966309951217,-1.5557024282726637,-1.096581751144894,-1.7431480391386196,-1.4588128240352023,-0.8745087970656814,-1.752203639801469,-1.5919248309240617,-1.8672044453646295,-1.3299842189868982,-1.3265833622712149,-1.3001978993765047,-1.2059278127608886,-1.677036831444791,-1.2191296351292429,-1.275895013500671,-1.8626766450332048,-0.9870319980658288,-0.34049937072357156,-1.234900412026979,-1.5222020286751485,-1.2684008116244943,-1.5007428471787778,-0.7278133891825479,-1.679514436007804,-0.28592136825560566,-1.0407396249261363,-1.593833113633641,-1.5557024282726637,-1.2665950143469522,-1.65711983284155,-1.4920688251418481,-1.5082370490549546,-1.7675928380732855,-1.5007428471787778,-1.2955676136130427,-1.5509302294503695,-1.7431480391386196,-1.3148394192059514,-1.5373468284560954,-1.5346248254022128,-1.2423946139031556,0.06633085181918308,-1.1473108069432365,-1.3118730176611995,-0.4192777736353344,-1.561791627390761,-1.6073140291958778,-1.4327729656623953,-1.219755612246032,-1.6661754335043995,-1.5464024291189447,-0.2471020988999108,-1.485598047397831,-1.808343041056108,-1.637202834238309,-1.2740892162231288,-1.4678684246980518,-1.559985830113219,-1.6187100542866901,-1.738620238807195,-1.6435364318472758,-1.3182066152701664,-1.29400621482637,-1.6616476331729746,-1.688814435161523,-1.6704588353449545,-1.6978700358243726,-1.5255692247393633,-1.2209354324067851,-1.6661754335043995,-1.34084561692729,-1.6356077748001676,-1.5390154455985872,-1.2578862976070093,-1.565937849096266,-1.304623214275892,-1.5417374486524698,-1.8536210443703554,-1.463340624366627,-1.1380108077895175,-1.4894493075200028,-1.7313704354218877,-1.8264542423818069,-0.941509596260712,-1.3075896158206441,-1.3383680123642767,-1.4931957687575894,-1.3906514205729619,-1.6115974310364332,-1.551174627941239,-1.647819833687831,-1.6251808320307073,-1.0718996000956889,-1.3042416356499724,-1.7811762390675596,-1.5464024291189447,-1.2530116133526779,-1.6842866348300982,-1.675231034167249,-1.6161252313678578,-1.670703233835824,-1.1380108077895175,-1.362568412808073,-1.5011244258046976,-1.399569841100761,-1.7177870344276134,-1.551174627941239,-1.501368824295567,-1.1647960311521461,-1.372540219247263,-1.288852437378156,-0.3631383723806952,-1.493440167248459,-1.639008631515851,-1.198678009375581,-1.6537189761258666,-1.688814435161523,-1.69514803277049,-1.5421190272783896,-1.205790632625838,-0.23002636549183594,-1.535751769017954,-1.3829671620167232,-1.8034336620987634,-1.4090070203895302,-1.3218182098252507,-1.4968410239641423,-1.4081933000452271,-1.4720146464035566,-1.4919316450067979,-1.5613571722198298,-1.6205158515642324,-1.525432044604313,-1.551174627941239,-1.5149522252898413,-1.7630650377418609,-1.2435744340639088,-1.4452294230409282,-0.9623428006402933,-1.4875410248104235,-1.569285829266938,-1.65711983284155,-1.5812741708230709,-1.551174627941239,-1.5708472280536105,-1.5285356262841154,-1.4582118112885096,-1.5240078259526906,-1.5647580289355132,-1.3172904094938258,-1.3453734172587146,-1.569285829266938,-0.39820017076488323,-1.5842934489128346,-1.399951419726681,-1.257783812174972,-1.3544290179215641,-1.4576522197679924,-1.6661754335043995,-1.3317900162644405,-1.4968410239641423,-1.2976178093814543,-0.9034813963317719,-1.234900412026979,-1.466707820430842,-1.5296625698998567,-1.4739576238161491,-1.0907898270626777,-1.7061119161429186,-1.2506364942217019,-1.4968410239641423,-1.203205809707006,-1.3879294175190793,-1.460374222821875,-1.0202879991724747,-1.2705534928249431,-0.8627311933489493,-1.6435364318472758,-1.5299598449357377,-1.7268426350904629,-1.24767009267695,-1.4467908218276009,-1.395423619395256,-1.4425074199870456,-1.2386144920141005,-1.5620360258816306,-1.2849506141635205,-1.011232398509625,-1.2456246298323204,-1.6299530308530015,-1.6299530308530015,-1.2840344083871802,-1.501368824295567,-1.3172904094938258,-1.2929480959911972,-1.3927016163413735,-1.1443444053984844,-1.6860924321076405,-1.1853390068721763,-1.3834016171876546,-1.3064290115534343,-0.9949269944614684,-1.3048676127667616,-1.3003398124353367,-1.1552058033388761,-1.2930900090500295,-1.141622402344602,-1.2928456105591601,-1.4635513622060279,-1.1898668072036012,-1.4712356207622668,-1.4887775002345318,-1.2094022271809224,-1.261151008239187,-1.3381236138734074,-1.4395410184422934,-0.9949269944614684,-1.577425224153447,-0.8647813891173611,-1.4062850173356478,-1.2731730104467884,-0.710694264790088,-1.1008721993617794,-1.3745904150156747,-1.1008721993617794,-1.3172904094938258,0.21658248130285235,-0.5576024671984028,-0.6603782932892678,-0.6318530697787407,-0.34138723433105006,-0.13973224535403075,-0.6276482230516707,-0.4154348596466942,0.9955482618721678,-0.5099590750860962,-0.15784344667972972,0.3618200098828948,-0.5863306679736239,-1.417469368880394,-1.348985011813799,-1.2635163970372463,-1.4512064063940717,-1.4512064063940717,-1.3612099912860944,-1.3472450116659005,-1.3612099912860944,-1.3472450116659005,-1.3612099912860944,-1.0835235668212913,-1.2497015181367344,-0.9935271517133138,-1.1812171610701394,-0.9935271517133138,-0.9935271517133138,-0.97956217209312,-0.5025918959259102,-1.077255766341968,-1.091220745962162,-1.0957485462935868,-0.8180621218287837,-0.8940935573165673,-0.7280657067208062,-1.0957485462935868,-0.21665386080964452,-0.8052827108458962,-0.7913177312257024,-0.7280657067208062,-0.8942436580362495,-0.11387803471877952,-0.7280657067208062,-0.4248204602902282,-0.5275962863810931,-0.2576070410571609,-0.14713403582542534,-0.555770055645722,-0.4375998712731158,-0.1343546248425377,-0.352131256496563,-0.552600676836276,0.04880758418286311,-0.6210850339028712,-0.42909413179786693,-0.6502942710851242,-0.2416582512648274,-0.4498248507454112,-0.4086175416741087,-0.7402906861931016,0.24927700452257623,0.5602194300940249,0.08206358528950883,-0.4498248507454112,0.11063023002621147,-0.3438796458451003,-0.2538832307371228,0.1610205895624971,-0.5648256563085715,-0.15618963648827477,0.9361538803182682,-0.05341381039740971,-0.07389040052116808,0.2037960239436349,-0.5508606766883777,0.8259350039103185,0.023803193727680153,0.661636834662911,-0.18119402694345765,-0.057687481905048514,1.091535195551114,0.6492502991520974,0.3225206398268334,-0.2016706170672158,0.032308933202928984,0.5229900601665466,0.7929793054904788,0.44094495302322584,-0.18889120608432844,0.9046378793595208,-0.20936779620808657,0.7237136093300457,0.28473683838876285,0.5119506493315574,0.816625274423683,0.14609006389239831,0.5056828488522342,-0.1934190064157532,0.02856247196534225,0.4491965636746885,1.119870520854261,0.9889209254987672,-0.10342259130777567,0.10474400817280796,0.2802090380573381,0.6811478787367644,0.5074228490001327,0.7016244688605227,1.5320687949560774,0.19021262294936073,1.503756279043161,0.18251544380849005,0.18251544380849005,0.47323540807996656,1.475328380954746,1.2575517493007204,0.30893723883255925,1.6584905899801465,0.918435554464643,1.0289085596963785,0.5584498940327333,0.897566088868811,0.7666164935133171,0.288460648708801,0.08799122836908785,1.0366057388372492,0.7873472124608614,0.47615065806562656,0.48893006904851405,0.6561434882815814,1.0448573494887121,0.9343843442569764,0.25067684727073053,0.7339149239172634,0.8443879291489991,1.7644357948804574,0.6374068983057216,0.4844022687170894,0.7211355129343759,0.7683564936612155,1.9572080360793,0.46392567859333106,1.4534933693090089,1.0448573494887121,0.4229724983458147,1.5642205033645304,0.9548609343807348,0.9834275791174376,0.5493942933698838,0.9170771329426642,0.95033313404931,1.2419845381343066,1.629212528017325,1.5026981602079883,0.43892128813814807,0.7166077126029512,0.9865969579268832,1.7317342252844043,1.5880052189460228,0.9708097241730683,1.248750277461657,1.0900153764632985,0.9590657811078047,1.097069963158619,0.5366148823869963,3.39223000200344,0.4216140768238359,0.8225529175032621,1.3672207645210697,1.3134881732906656,0.2828285556791835,0.6630366774110655,0.3520942518396167,0.05393123725105551,0.675816088393953,0.2748772477145269,0.48304384719511057,0.18488083260654936,0.5935168524268463,0.08210500651568434,0.1516248314999036,0.9172386889811825,0.8729432770395477,-0.32336163449516636,0.14709703116847886,1.2189639578512634,0.16757362129223705,0.5892431809192077,0.6997161861509433,-0.012419208923717687,0.28431442700329596,0.5117720479703316,1.059701846582853,-0.23336521938718893,0.6017684630783091,2.519866949610464,0.70771366797862,1.8080084927498195,0.5639846616402386,1.1986489237660236,0.9788884819398587,0.48676765751514867,0.6872370778548618,0.003783709692401875,1.5172885284783428,1.2146902863436246,-0.2741568435961872,-0.10694342436311985,-0.09099463457078641,0.30343259560507535,-0.49089800733258837,0.19947120087690418,0.6494532764167913,-0.4584233453197807,-0.47915406426732493,-0.29916123405137013,0.17129743161227518,0.4285072659533199,0.6904064566643078,-0.11916840383541538,-0.3036890343827948,0.30541640577721507,2.7276224345517357,1.0461184455885786,0.41628228648102444,-0.4901934751023141,0.19494340054547946,4.056699195575565,-0.4129764709772242,0.41628228648102444,0.7758750714408605,0.36723905162056364,-0.5041584547225079,-0.05100700037317493,0.163427399586732,0.3499318403062513,3.014746038305308,-0.18901118242398918,1.3318023518810584,0.3915320248496277,-0.5847176905417161,-0.038227589390287364,-0.12052682535739404,-0.5986826701619099,1.4627519472365524,10.184707033569493,-0.12822400449826482,-0.5086862550539326,-0.6191592602856683,0.18588779988263,-0.32552404602853185,0.8363392957622302,-0.13275180482968954,-0.29877965542545043,0.25540762486684915,0.7953861155147137,-0.09831023508573739,-0.5336906455091155,-0.23552763092055443,-0.32552404602853185,1.1395845421928081,0.18614192870641594,4.837527616232827,5.626625886608792,0.17167901023819482,0.06771761551002356,-0.40274105015362177,0.498570225601977,1.156718900622448,0.4923024251226538,0.5822988402306314,2.0771596418259803,-0.27528378721192853,-0.317272435377069,-0.33774902550082725,0.28413582564207013,0.7782404602389197,5.859385762005246,0.6805468659900716,-0.2873586659645418,0.28755933327530214,-0.342276825832252,-0.7227390763879198,-0.15458681647542646,1.7821660060468656,1.2772657706392676,-0.010857810137044996,-0.14180740549253903,-0.41179665081647127,-0.023383092296146525,-0.30132364558473557,-0.41830826132003557,0.24635202420399965,2.5086489374142493,-0.4163244511478959,-0.3263280360399185,1.2444254543949265,1.2646479156948984,2.607539555619239,2.2835680020914273,1.4241641557870952,10.838559386164775,0.8513225395046587,0.12365403949996856,-0.31236305641972467,1.6612902754764556,-0.39584786102413766,-0.5267974563796315,-0.3468046261636767,1.6736768109872693,0.33207476780433837,6.263493981494118,-0.30585144591616026,2.9131500323751953,0.7125370183600064,-0.21585503080818283,-0.13038641603163012,-0.6213216718190336,-0.02642502130345898,0.16126498805336656,1.149647110131738,1.1782137548684408,0.11129031337938541,0.7444345979446734,1.2967996241033515,7.195355712158561,-0.535853057042481,-0.7158458872584358,5.86627895113473,-0.13491421636305484,8.524825348654462,-0.11443762623929662,0.11459843883711912,0.3637182185652193,7.3834385969874585,6.36516551488679,0.45371463367319675,-0.11443762623929662,-0.40490346168698704,0.054515793141669024,-0.630377272481883,3.4395451220287856,1.1613222284164328,2.3314143714684277,0.6291796635577269,-0.4503844422659283,2.0610322506724215,-0.5679120341929844,1.6600934099929952,-0.24991502192621526,1.336533129477177,-0.6836941788499827,-0.2544428222576399,1.0951105288899474,2.617994999030244,4.065385102925276,3.0669416066525064,1.3650997742138797,2.915515421173254,1.8150818497537669,4.375934653024652,5.226855569243966,-0.8148979030292627,8.709184581636006,1.3241465939663633,2.13411432993816,-0.013020221670410476,1.491775698061735,3.2709732812737395,3.393832822016289,-0.15658767197027362,-0.30775972862573964,0.5096510576631419,-0.4184868626812613,-0.26706067720200927,2.9113804963139036,-0.9094221184686648,-0.5984796928972161,-0.6189562830209744,-0.19754085221779003,0.39148087329053544,-0.42301466301268603,1.8755460740751364,1.208914468969647,3.14137081059407,-0.9139499188000896,-0.803476913568354,1.1481317028942326,1.0370116933666371,1.8755460740751364,0.2778271924031996,0.9220108878034767,2.091964284207183,3.932845766614249,0.9505775325401795,3.2823942707346485,-0.7040433191716075,-0.24651416521053188,-1.0084741342394918,-0.5175388784520881,-0.6075352935600656,2.3983789094472074,1.3346020373773673,-0.4310347957579115,-1.102744220855108,-0.6120630938914903,-0.4606369084122383,1.7080097012377145,0.8489987304054569,2.357425729199691,0.46853647984978886,1.0282102215275737,2.8483609849870946,-0.39111708342801904,1.3119103176479139,-0.26938464477389296,2.0133888585601145,2.1168072770965294,-1.1075261500103188,2.8233565945319117,-1.1280027401340769,-0.9070567296706057,-0.7270638994546507,2.31194474862075,-0.28491774970392214,-1.1325305404655017,2.3893233087843577,3.297631643300863,2.4793197238923352,1.3953175483391353,-1.202050365449721,-1.402519785789434,-0.4271608847181911,-0.7806349346465364,-0.641595284678098,-0.6971501300421235,-1.4070475861208587,4.296232283761841,1.3457917074047203,2.163849497989462,-0.5707283350180543,-1.1861015756573874,-1.2065781657811456,1.6238710073415972,1.7957737829446072,-0.31444994049052977,-0.8956357402096969,2.536221693932185,3.7471282705834086,0.25344819059817764,-0.335180659438074,-0.9161123303334551,-1.1926131861609517,-0.5639625956907038,2.9796921589685077,0.7398556460541564,1.791638858085257,-0.6996941202014085,-0.8861985609209277,1.3698305518099985,-0.028766034198050072,2.290271293013531,-0.8296082476392782,4.519705080589208,-1.1006329608808347,-0.8511203056806604,1.2323693459509402,-1.1006329608808347,3.314673428945235,-0.9901599556490991,-0.3397084597694987,-0.6301742952171893,-0.7246985106565914,1.4472091119736064,-0.9251679309963046,8.58652801815815,-1.015164346104282,-0.7246985106565914,-0.7451751007803497,-1.3261067716757307,-1.263641533386832,2.708737367594671,2.1424073618157986,0.25717200091821574,5.5604488817853195,4.556130460505301,-0.9946877559805237,-0.03012445572002885,2.9537222224634205,-0.6724858969866844,-1.2201615667754198,-1.040168736559465,0.6203270401595714,-0.05060104584378704,-0.8601759063435099,0.2818534377690439,4.036698481848913,-1.300720802594628,-0.40884670612779833,3.9105883435830453,3.1685619884860867,0.45628299973595005,-0.9547001217829122,2.8861862076513405,3.0457024477435377,-1.0446965368908896,-1.1837361868593281,-1.314685782214822,4.534688324331638,-0.5332846909797277,-0.07560543629897,3.405688108175447,-1.2451659572306026,-0.8237505264274184,-1.4251587874465577,1.6811545560073669,4.841495825043735,-0.9387513319905788,2.092167261471877,-0.12917647149085573,1.6093220602974179,-0.6278089064191299,-0.5173359011873943,-0.8977981517430622,4.86157953969542,-1.1437485526617166,-0.18235463121066756,-1.1927917875221776,-1.0127989573062228,-0.5488519021461417,1.269581670555711,-1.3237413828776714,-0.7083681422383383,-0.9432791323220034,3.672496677843779,-0.7083681422383383,-1.101759904496576,-0.9228025421982453,-0.8578105175454508,-0.8578105175454508,2.403179608911045,0.15223376329398536,3.3225848821969537,-0.9196331633887992,-1.0366177791240994,1.309800624186878,3.5802104014003033,0.9781502890581155,-0.9728113231086111,2.896641651062345,-0.01155614830584998,3.960418523132185,-1.138839173704372,4.537053713129698,-0.09371663762466895,-0.9728113231086111,1.1786197093978286,3.1585408417733323,6.44745502052098,-0.6334409994487474,1.3192378034756471,2.1640524752541554,2.012626289774903,-0.4454506874051158,-1.226597649816424,2.0061146792713394,2.8021174356229426,5.215840534312445,2.683554375778262,-0.846389528084542,0.37221422770755164,1.7426370444509711,2.143575885130397,-1.0513867487556798,0.33260817213585986,-0.7199677330604729,-0.4295018976127823,-0.836952348795773,-0.9409137435239442,-0.8713939185397249,-1.0513867487556798,2.7690229905548147,-1.3623291743271286,-1.140347695946033,2.2699976801544666,-0.21324524351925403,3.885405351766636,-0.16404045262027475,-1.346380384534795,-0.9659181339791271,1.3040759583719927,3.406856631490046,-1.2563839694268175,-1.1448754962774579,0.4373678083988644,-0.765448713639414,-1.0354379589633462,-1.0559145490871047,3.653108273709975,-1.2563839694268175,-0.9627487551696813,-0.8804495192025744,0.8144878272604139,0.08212997088578089,-0.4579986204817659,-0.34856108316765433,-1.0649701497499542,1.10719160170403,-1.2859161602134253,1.7584244366774682,4.160303976047913,-0.255395289250231,-0.9544971445182183,1.8145222582332499,-0.18587546426601181,-1.3759125753214028,0.7505140667298543,2.6485288386103254,-0.8895051198654238,0.8814636620853481,0.4395716411584054,-0.7995087047574464,5.26272135763954,-0.5580861041702169,-0.9385483547258848,-0.6118186954006208,-1.4489247327194226,-1.3599637855290692,-1.1799709553131144,-0.7650671350134943,3.4767580351001848,-1.0694979500813788,3.1189875042739703,-0.31310124930146754,0.47625114989828327,-0.9840293353048261,1.4373909425255462,-0.652356190785833,-0.8940329201968485,-0.9763321561639554,2.9468534092374044,1.3966918911018156,-1.0785535507442283,0.16521615154156666,1.162873896870189,8.051644679936935,2.621077999115891,-0.4899247007079764,-1.0785535507442283,-1.0785535507442283,-0.8576075402807568,2.7294696530554527,-1.2018059669588514,-0.5799211158159538,2.140447927547127,-0.7471345350490213,1.117392916291248,-0.44071990980899717,1.7601472330299774,-0.5704839365271848,0.7983604361068546,-0.8953913417188274,-1.083081351075653,-0.751662335380446,-1.1730777661836305,1.2688191017705,0.4464648302878895,0.5013829901555998,-1.2620387133739837,-0.4326298551960526,-1.2140309464311467,-0.7559360068880846,-0.7766667258356289,0.22099101949299346,-0.396204475279961,-0.8303993170660328,0.1514711945087743,-1.3085551618705489,0.5033668003277395,-0.0773107417438555,-0.00804504558342227,-1.0660970933656955,2.9208834727323167,-0.318987471154871,3.2851656140620955,-1.0918828229147164,-0.7116747011828344,0.5898708830219161,-0.38025568548762745,-0.4124762186766492,-0.5719924587688459,2.3971079007005716,-0.4416854558589021,2.584936656705685,3.0963485026168467,-0.358593526726563,2.7854060770453977,2.4787601323718182,2.4254204166134885,-0.42120886573514377,0.7278750650727306,-0.787706136670618,-1.202609956970238,-1.202609956970238,-1.1171413421936853,-0.32804307181772047,1.5947447710843772,-0.8394549177288823,0.04590756823438307,-0.8061989166222365,0.8682618397169936,1.1528527501574346,-0.9166719218539722,10.293575193206827,-0.05789227045526994,-1.2321421477568457,-0.2707482263057967,-1.322138562864823,-0.6307338867377064,0.4283536289621906,-0.3940006425204199,3.770607523468169,-1.2321421477568457,-0.25027163618203846,0.027414788282764516,0.12566281404220458,-0.8280339282679736,-1.0362005277485573,-1.2366699480882704,0.04336357807509795,0.007099754197524524,-0.5313002923409598,-0.42684095876476136,1.4466495204530891,-1.1057203527327766,-0.37805185272808645,0.4320774392822286,-0.43162288791997205,-0.30811634288156287,1.0697495241789412,-0.8607354978640271,1.0411828794422386,-0.4382845991432187,-0.7502624926322915,-0.9302553228482464,0.9102332840867448,-1.0612049182037402,-0.21028400198442707,-0.5497930722925783,0.5297710335310768,3.321591152450869,0.30882502306760545,0.2600359170309306,-0.459796657184601,-0.07163722748806238,-0.6525688983834433,-0.6363659797673238,-0.13290544182081884,-0.19433521219209357,0.01383138728849033,-0.46432445751602575,-0.42311714844472315,-0.2229018569287962,2.8586384155035014,0.22826578724839702,0.4687569480221063,-0.7957434732112326,-0.29711103828295843,-0.2843316273000709,0.7257126535393651,-0.35837925261571485,1.1221236938873664,0.5334948438511149,0.5207154328682274,-0.1076810287782346,-0.9597875136348539,0.22358788619729014,0.7214389820317265,-0.06791341716802432,-0.378855842739473,-1.0702605188665897,-0.6478096201457813,-0.8490603795793323,0.68048580178421,-0.46115507870657985,0.08707502259274749,0.16429202671783735,0.4057146273050669,-1.0403467494540624,-0.8743188988583014,-0.65337288839483,-0.4654287502142185,3.1341737252810935,0.41849403828795445,-0.4928211803850093,-0.77035750413013,-0.7638458936265657,1.089422124291313,-0.47338005817887524,-0.7843224837503239,0.16429202671783735,-0.4844194690138643,2.213501664644004,0.6221328374371135,-0.4983844486340581,0.3807102368498839,-0.3674348532785643,-0.4083880335260807,0.31222587978328886,0.268414977484527,0.2339734077405748,0.46617885162643674,-0.24101305825449512,0.02246457656587262,0.2787429710933972,1.3677214468155914,1.137499813101869,-0.7023462013875719,-0.8833744995211508,0.0857166010707687,0.1916618059710796,-0.19649762372545884,-0.016504793509504068,-0.11928061960036901,-0.3069706289571945,0.23300786169066995,-0.06554802836996501,-0.6429174449838261,-0.42197143452035496,-0.33197501941237756,-0.2332459572459054,0.8090188567825525,0.9813145078576366,-0.545223850734978,-0.3242778402715068,0.29799988634346447,0.4425215858470783,-0.18482250544076403,0.3421224454004269,0.5221152756163817,-0.6964884801757119,-0.1078596301394602,0.27887042089553077,0.33403239078748237,-0.2257756856882806,-0.23880922549495412,-0.33531725110649596,-0.12833622026321845,0.06760539974506982,0.08911745778645211,0.08808198986882809,0.9675695508248442,0.468544240424496,0.2680748200847829,-0.23055761484349138,-0.43102703518320434,-0.04286760548666585,-0.24786482615780356,-0.7180693629976627,0.8854318708962557,0.5463156760601781,0.3663228458442232,0.8159120459120365,0.38679943596798133,-0.31713052231823674,-0.205876177992663,-0.2555620052986743,0.5540128552010487,-0.337861241265781,0.017596618834703884,0.6804346502251178,0.022285975204646993,-0.14166549243370669,-0.051923206149515316,-0.5300790509540312,0.19758944905065876,-0.23166190754168403,0.46774025041310935,-0.5473862622683434,-0.056451006480940036,-0.7145996815014108,-0.4358777891189838,-0.6041266762696751,1.3403233253934872,0.5244806644144411,-0.07692759660469824,-0.056451006480940036,-0.023195005374294295,-0.8315842972367108,-0.11319142048227163,1.4573079411287873,-0.04794526700569115,-0.5596112417406388,-0.006992086758174733,0.12395750859731924,0.38130608958665174,0.013230374541797554,-0.06867598595323543,-0.060978806812364755,-0.3764490327152381,-0.2657218986597165,0.07925786711221602,4.647562979577684,-0.06550660714378947,-0.3354958524677217,0.11266396893854408,0.22495922830390105,-0.253196616500615,-0.2372478267082814,-0.4377172470479945,0.3958964578570065,0.34019151177329887,0.6383545263618601,-0.22129903691594802,-0.44677284771084397,0.5760508441114796,-0.5228042831986276,0.26041906217008776,0.03138299709367197,2.9730909263922984,0.2458173970535789,0.19089923718586863,-0.37725302272662486,-0.6804982691572027,1.7743395658183334,-0.07083839748660081,0.006378606638489055,0.35985265656683435,-0.184653634412455,-0.21440584778646396,0.796031308525046,0.12510322252168743,0.8781917978438649,0.13305453048634425,1.1731513273865954,-0.4036158347037865,-0.09267340913233788,1.6548109599237484,0.4929476181329861,0.7582475070869755,1.5439450792199385,-0.0026769940243604115,1.5315585437091248,-0.4731356596880057,2.1822641684125115,0.4837304614316185,-0.09694708063997651,-0.3544110438048072,-0.05624802921624608,0.5042070515553768,-0.10371281996732698,-0.17441821358885248,-0.12402785405256683,0.9462606285208377,-0.6003614447234614,-0.212202015026923,2.6245149585751433,0.5416678993890924,-0.8748784903788184,-0.34273592552011234,0.9007796479418964,0.1274686113197468,0.04873162963415987,1.113543969621624,-0.6082314767490046,0.6456120903218744,-0.38530165611339373,-0.16435564564992247,0.02867072437270598,2.2168972028770817,-0.06809143006262194,-0.3075302204777117,1.0215465405461175,0.011109384234607743,0.24014544931102355,0.764590835028859,0.21157880457432068,-0.03754097515377944,-0.013895006220575282,0.09657799901116032,0.7391935691016022,0.4205539643892827,-0.20158501557740083,-0.3738806666524848,-0.5817931373092825,0.36203944400366794,-0.2756326408930447,-0.21889222689171303,-0.10016761100851468,-0.5706262766721597,0.488461239027737,-0.38390181336523926,-0.6206350575825257,0.2789362180251746,0.6763827262908001,-0.5146898526822148,0.5856049720889847,0.7653436734811534,0.07419312617782278,-0.03653400787769895,-0.11827881233421361,0.048934606898853795,-0.6501672483691334],\"xaxis\":\"x\",\"y\":[1.4077365011002043,-1.8216575677366988,0.9282712908943326,1.973132927633728,1.420637178536019,0.9956301650794872,1.4258171312430086,1.496260325689728,0.9722536062607096,0.1794530878014547,0.7135850946211336,-0.1319641619172198,0.7324902004259493,-1.879730025025476,3.055876075891708,0.9464630477834686,2.5209502571919393,0.6002753713096269,0.11149199144695121,0.681890700780898,1.1180245306199923,1.480444241672368,1.8439817203396938,3.1796758191086973,0.6282033737049474,1.1016015229073925,1.4703209353950688,-0.001245758883026686,1.486488356225817,2.8512476851520914,0.12325257301152331,2.4387020934703094,1.9040688239023937,1.8775668976228335,0.6577047804608398,1.7754384836784427,1.07585399274273,0.6986713981021452,-0.23767644817730652,0.7205141921828127,-1.5214604230517417,1.6097246764619737,1.0473411261062162,1.5633411405618927,4.776621959432433,10.454298444091494,-0.26756615399658923,1.380191378530933,0.39856238715155573,0.7003774680822694,0.4879751569760306,0.8860126192827027,0.88506099485134,-1.9105166095037311,1.0721834472252016,-0.3260333402001717,1.1132974907241786,1.0778185642759839,-0.14692093331077305,-0.02797834448110039,1.8412627526915417,1.278731257514297,1.2652861448428216,0.7283700842253759,0.7694248356010486,0.3188095730487292,1.4482851405049888,1.2459254022923838,0.6491840336145025,1.285272102574572,-1.9600901266123807,0.15612304198122223,0.509649083938665,0.22998166746544768,0.4541626608854988,-1.1577956980022048,1.5081803839376915,1.1930474367177135,1.3380423795268912,1.2141573241228405,2.254598725894626,1.3469791234963897,0.39960016420392536,-0.1567231519625039,4.1330906550418405,1.2806958290475507,3.0381825065200183,1.3297954644864922,0.9189046271256228,1.8427993389769577,-0.16310645489076162,-0.3727379637258214,1.3797203649705168,0.9050684914563113,1.0974814067068193,0.913899527916819,1.1162592661294237,1.520912147693487,0.9114370341464497,0.9333875168494679,0.8731065720434104,0.6449280072791052,-0.40520114588695866,1.6121851891189822,1.385414455546351,0.7698777484122249,1.1502301447859173,0.48118743534850283,0.671005288821949,0.44129968852077134,3.0318326811557954,-0.5812064302396609,1.3578560348885051,0.7882653276580786,1.5881457566097912,4.10932928184564,1.1035235401469072,0.3172854056211485,-0.24587412628471453,0.8812027207150169,0.8083354568974755,1.205587340343512,2.9635909743602524,0.29721329526839135,0.016852755916940763,0.7839057442115333,1.5226612925481762,0.755522105070591,0.7265194099348853,1.5440512203796533,3.0333046536934263,1.1311494426618305,-1.9717860944291667,1.698648331976792,0.7911148821995628,0.11200951800591324,0.5607161590201521,0.4019314493653623,1.3943081246412838,-0.1703802066265771,0.2790195572658951,0.8483504501074182,0.5401075343632614,0.9083103072879067,1.8443546425882895,2.028240648934034,0.23777294576022512,1.1891427471957046,1.89723260816296,1.9863688222470517,-0.7052207131392837,1.0454010081174612,0.9467680157731575,1.513666094017442,0.5403640082410444,2.3325564987208933,1.3659057681744262,0.9022661927344581,1.1929459072819122,-0.488313471455048,0.8696757641911097,0.8282783397546609,1.1919081302295427,-0.07755186158974989,-0.10198157427569216,0.8239207374214759,-0.04992595907482677,0.4958621852023449,2.7981390602589085,-0.3453940827506093,0.5002197875355298,0.8282783397546609,-1.234687379139657,-0.14316357203357608,0.7754003741799906,0.5414017852934141,-0.029031498348264614,1.1901805242480743,0.861084194976574,2.1339554863221704,1.7988150424972205,-0.08294724097530451,0.46305632998043184,1.6210142444661293,1.0855452288229754,0.5658314979793561,0.16650938205306143,0.11928326974172868,0.9521633951587121,0.576973023549165,-0.1358252065499748,1.0505809608244512,1.425865625354915,0.9166864498238777,-0.016297753479108737,0.5213296749406566,0.7043932843506099,0.16780363298321402,1.801229658732359,0.4557179644968305,-0.114715319144848,0.9732732825638389,1.2357201243391434,-0.35709005056739557,1.3384952923380677,1.6529148906423654,1.2674882025086869,1.2484538692082994,1.1321226059664142,0.2451113112438265,0.9722355055114692,1.0378472159552954,0.28607792888513195,0.7509706614940485,-1.595551786580701,0.7911148821995628,0.10370132972884913,1.3130278025997557,0.6834159649521756,1.2046418750986985,1.1962246388015232,1.0790292137131792,0.12662163522532996,1.1690706368429475,0.46305632998043184,0.7171270292197657,2.5568021058887305,0.020865704075989373,-0.9160838402700707,1.1172304483206468,1.1901805242480743,0.25888283316535193,1.4068723858157317,0.6726252061810666,0.5012575645878995,1.482452458094876,0.7382369166248927,0.5213296749406566,0.6270856060899974,1.0050413607333823,1.1845697647459414,0.9866557626008888,1.0505809608244512,-0.7507603132303526,1.2877757395400087,0.1203210467940983,0.5942797508680844,-0.08385245002098171,1.842411656490243,0.31611840107320727,0.9605395376946831,-0.38553830345612367,0.4950398348285401,1.3639627820763793,0.7043932843506099,1.9397914451036122,0.9396450769681207,0.732585063361555,0.25888283316535193,0.545759387626599,0.04931395696471745,0.29065091133489546,1.000899185078762,-0.09464320879209082,0.4950398348285401,-0.18870317212464513,0.7171270292197657,0.6726252061810666,1.3468714348740385,0.6187094635540266,-0.3453940827506093,0.8219777513234292,1.2763359751817493,0.13305479166325418,0.8738179398457299,1.4688135041800428,-0.1485589514191307,-0.3115504504763266,0.5167566924908933,0.6579484752138638,0.11492566740854365,0.6843211739978526,2.001932563897831,0.8368699089691964,0.20060948820512706,0.8493882271597879,1.0516187378768207,0.5668692750317258,0.7827387396635921,0.8569420193219539,0.6398193509591532,-0.04910360870102181,-0.024673896015079654,0.2515444676817507,0.08211981218663056,0.2789549435181091,0.6387815739067838,0.3445666539619353,-0.4110057931944355,0.35647804845728637,0.11492566740854365,0.13935538009448584,0.09761894008962424,-0.6648610657552046,1.1316507054100666,0.023024116852600758,-0.12309146168081894,0.29924248054943103,0.5286680404242583,0.5340634198098126,0.5584931324957549,0.4691004445338806,-0.35709005056739557,0.3318329090927794,0.07913904903621427,0.34996203334749,-1.315798217486477,0.5029851705693678,0.5002197875355298,0.21230545602191336,0.22607697794343884,0.4747522977972182,0.3107230216876527,-0.8648923869156641,0.01568575136899942,0.0037743568736484795,0.6843211739978526,0.44734182196085964,0.24614908829619597,0.1805373778523699,0.2451113112438265,0.14773152263045675,0.5584931324957549,-1.5920165811833074,0.35626262177872164,0.21355865975284763,-0.45550761623313485,0.22607697794343884,-0.13478742949760525,0.8941054768770518,0.36899636664787755,0.8485658767859828,2.006440932599809,0.011935119293040836,-0.08190946392293491,0.05367155929790248,0.22884236097727667,0.2789549435181091,-0.6195368923427003,0.16046526749961262,0.6983081225979428,1.9863688222470517,-0.13305982351613702,0.15589228504984914,0.3065808460330323,0.14039315714685546,-1.8872692781805251,-0.16759328471951834,-0.612455000736882,0.7384523433034572,-0.061621926891613076,0.5040229476217373,-0.07435567176076893,-0.763278631420944,0.22607697794343884,-0.03636986383186595,-0.1274490640140039,0.5205073245668518,0.4028399989221602,1.174466016228502,0.2578450561129824,0.35730039883109116,0.04931395696471745,-0.2960513225733329,0.22607697794343884,-0.08294724097530451,0.06204770183387333,-0.26698401368984126,0.029241846611960248,0.3244945436091782,-1.9200751334024382,0.17216123531639893,0.35730039883109116,0.864536588264082,-0.3368025135360737,0.07478144670302928,-0.01090237409355406,0.23777294576022512,-0.9030936215231319,0.11492566740854365,0.07374366965065965,-0.16759328471951834,-1.6110509144836949,0.7479898983436322,0.31611840107320727,-0.8374819110793056,0.2743819610683456,0.15942749044724305,0.8094594331328381,-0.3426697934779759,0.13474130388351796,-0.16759328471951834,0.08647741451981558,-0.46388375876910576,0.06100992478150377,-0.2944591032739857,-0.6653329663115523,0.45273720134641426,-0.04910360870102181,-0.7304727761990307,-0.38989590578930866,-0.3383121911447909,-0.0374076408842355,0.04197559148111617,-0.5612635473824754,-0.4039239015886171,-0.6396090026954575,0.1859327572379245,-0.36007081371781186,-0.9018404177921975,-0.1475211743667611,-0.1475211743667611,-1.709468480149434,-0.13478742949760525,-1.9200751334024382,-0.010253638925659989,-0.9221279548235195,-0.33999870336505467,-0.6851486027865265,-0.5357960576441636,-0.49668961399101874,-1.0543891527635418,-1.422591925688187,-0.6141415129571457,-0.6469473681790587,-1.2056846840039515,-1.643856769705608,-1.3041022496696908,-1.1528067184292812,-1.1490035583430735,-0.5029902024222506,-0.8046760558573925,-1.9173508441298048,-1.1642872595675025,-1.3824477049826729,-0.8247481662101498,-1.0343170424107846,-1.422591925688187,-1.4724891281124413,-0.9696105410126352,-0.8237103891577802,-0.8437824995105374,-0.4514064877777326,-1.5993549466669086,-1.0533513757111723,-1.5993549466669086,-1.9200751334024382,2.0053163863497567,1.8685898974541992,1.8419554031679461,1.4621858899220859,1.5661280624689515,1.683795388113643,1.4966547373776815,1.7829060766576157,2.7678764321910294,1.8357194284845002,1.8150188090012958,2.286323159174916,1.625177388979282,-1.6221216671191683,-1.6904341468490465,-1.6776357882321047,-1.754943466492717,-1.754943466492717,-1.7749509630976885,-1.7345913157136095,-1.7749509630976885,-1.7345913157136095,-1.7749509630976885,-1.7176507814420474,-1.746653476577753,-1.7376582780470187,-1.814965956307631,-1.7376582780470187,-1.7376582780470187,-1.6972986306629396,-1.5097664363483163,-1.7946138055285235,-1.8349734529126025,-1.8021675976906895,-1.7448674160350486,-1.6845002720459978,-1.7648749126400198,-1.8021675976906895,-1.3730184085795376,-1.6982254251438242,-1.6578657777597452,-1.7648749126400198,-1.7938776077757255,-1.3463839142932843,-1.7648749126400198,-1.6142907492019296,-1.640925243488183,-1.700947733303097,-1.5569905675462885,-1.9222125773205174,-1.6609327400931544,-1.510348576655064,-1.6481343814762126,-1.7720840506280495,-1.4002350431725386,-1.703771570898171,-1.6982234440304633,-1.8693992254936334,-1.5041772157194042,-1.7454495563417962,-1.5342587816686837,-1.8493917288886619,-1.2762853740207016,-1.0083785391120563,-1.1896283899195346,-1.7454495563417962,-1.701529873609845,-1.5686865353630746,-1.588694031968046,-1.3004350462802932,-1.8566008668766913,-1.4913788571024622,-0.8916380079482488,-1.464744362816209,-1.6287090251779885,-1.5714088435223479,-1.8162412194926123,-1.1523337237555042,-1.531393850312405,-0.7988096629114216,-1.622537664242329,-1.5486770576447426,-1.8560006258207034,-1.6386404713252913,-1.3480038316524021,-1.7865023266041085,-1.5686845542497145,-1.224054162500565,-1.284076652315479,-1.2034625444754854,-1.7398603357128841,-1.1464018300658163,-1.9038249980746638,-1.216843043399175,-1.525804629683493,-1.3148533222563525,-0.969983463261231,-1.9510491292726362,-1.2378902981698765,-1.707054480490971,-1.5347998282142274,-1.124014698362348,-0.8193992998231409,-1.1273211279417288,-1.7270619770959426,-1.4857896364735501,-1.4929987744615798,-1.245099436157906,-1.2820474670344395,-1.0811347737961263,-1.0972375808790888,-1.4729912778566085,-0.7020746472392253,-1.5903139493271634,-1.5903139493271634,-1.6031103268307445,-0.8666234310211129,-1.0044092358422616,-1.2495862659866626,-0.7565098975385874,-1.5536034045832416,-1.4096462388264335,-1.4735734181633562,-0.9243792494223761,-1.2323010775409642,-1.4135509283484422,-1.5375005975002793,-1.2923235673558782,-1.1850749652296313,-1.3362432500878296,-1.2896012591966055,-1.3762582432977724,-1.2128757212427408,-1.356832886999549,-1.5913517263795334,-1.4807825561513857,-1.3368253903945775,-0.5797468765598661,-1.5843800745241152,-1.2567954039746925,-1.5274245470426102,-1.276458246405527,-0.5731198788785844,-1.4207600663364717,-0.8476537114685114,-1.2128757212427408,-1.748689391060031,-0.8204350957621499,-1.1928682246377693,-1.7047697083280797,-1.4079617077195297,-1.37066902266886,-1.1600623694158563,-1.0624025403761361,-0.9716013995069878,-0.4402765406318146,-1.5519188734763383,-1.494618691820697,-1.5546411816356112,-0.8282283551702877,-1.1827921741801004,-0.9960977070540763,-1.0555360754488823,-0.8504775490635856,-1.1583993771821735,-1.4106840158788028,-1.4546036986107544,-0.06724515181356758,-1.5657550091456498,-1.3178556708419755,-0.7153925135284893,-1.0899638291432734,-1.3145492412625945,-1.1138760152702536,-1.3817828501788987,-1.6030476941963194,-1.0672340243790293,-1.3151333626827026,-1.0738610220603109,-1.2951258660777316,-0.9299038563035023,-1.3217603603639845,-1.5057325193307358,-0.6153550305036327,-0.9167608435124243,-1.5368538434457453,-1.4729266641088228,-1.0371504773163889,-1.3089620017470431,-1.0138365511320362,-0.8698793853752279,-1.2689470085371002,-1.2419678600767106,-0.8304485135853934,-0.9499093717951131,-1.5568613400507167,-0.8504560101903648,-0.9893261050624286,-0.6736929892116434,-0.07336801863732173,-1.028256808221456,-0.4458011475129409,-0.7399978225337027,-0.96160732072526,-0.837657651573423,-1.1889150410038543,-0.060571641133740396,-1.1210831721449226,-1.1294766726090486,-1.2161336567102157,-1.019363139126523,-0.8950688158005496,-1.3829221566670695,-0.9154209665796573,-1.0154584496045143,-1.1733943742276398,-1.2206204865389727,-1.2606354797489152,-1.1967083004119925,-1.3033727811181308,-0.6875291248809547,-1.3006504729588577,-1.2278296245270022,-0.738657945600936,-1.396183025405718,-0.851491806129374,-1.387889597366773,-1.3114196462947603,-0.8826151113577443,-1.0670713193194228,-1.3780691337909559,-1.387889597366773,-0.6747307662640131,-1.0399527760382423,-1.3517792936788393,-1.3016882500112275,-1.1373789334753117,-1.0537889117075536,-1.2657173411440845,-1.0494036113145984,-0.5980052283101484,-1.635786954557086,-1.2586062944678758,-1.2550462591200031,-1.1177160910444766,-1.2989659418519548,-0.2900834001915604,-2.3481332423443364,-1.2350387625150316,-1.3189734384569258,-1.462930604213734,-0.8170034009139181,-1.2088599049744004,-0.7930912147869379,-1.2022329072931186,-1.121858266699097,-1.0009755598806693,-1.1210205395104973,-0.9979085975472598,-1.4501322455967924,-1.2288674015793717,-1.2088599049744004,-0.6425070513488478,-0.9337419509643649,-2.1386805582047628,-1.6895238724886399,-1.057931087362174,-1.078283238141282,-1.1422104174782046,-0.5932537348698358,-0.45201887727230033,-0.5162907107833598,-0.536298207388331,-0.4881291809602343,-0.9171424133745762,-1.1294120588612626,-1.2933767212230423,-0.7575630514057518,-0.37954268301458094,-1.9652219856920625,-0.47685785788016466,-0.8922818938934908,-0.7241730747637304,-1.2605708660011292,-1.3445055419430234,-1.1832631877405169,-0.5592654982851868,-0.8275169873679683,-0.8286993687307043,-1.1366211968492925,-1.0765987070343785,-0.9920799096723755,-0.9326415412775698,-1.2002037220120787,-0.9353638494368427,-0.595720456147257,-1.0437928518124655,-1.0638003484174365,-0.39954819850619183,-0.11884498609396543,0.1412490316466811,-1.6440177499616058,-0.3228246416656877,-2.144692652204797,-1.206575132811509,-1.1638378314422935,-1.0234407010333575,-1.3866426022562512,-0.8798281894506854,-1.1877500175692737,-1.2277650107792162,-0.5468117938423813,-1.039304040870348,-1.5671941206959206,-0.8998356860556568,-0.9908814086737602,-0.9553693649284537,-0.9198431826606281,-0.9070448240436864,-1.1349366657423892,-0.8866926732645787,-0.8093849950039662,-0.2299962966288606,-0.7418977803191708,-0.571904380218737,-0.5618283297610683,0.15795749902297318,-1.3737280515782486,-1.1221383071254476,-1.0821233139155046,-1.7028397576645433,-0.8742389688217733,-1.8378051630145984,-0.7102743064599937,-1.0982261209984674,-0.5290244556525157,-2.0896091908402807,-1.4743637945457326,-0.5490319522574869,-0.7102743064599937,-0.8142164790068592,-0.8410884594257237,-1.069324955298563,-1.012508822637849,-0.11715847387370168,-1.0537061972105277,-0.5562410902455165,-1.1093399485085056,-0.20049488987296815,-0.6930906474500967,-0.44839422817664204,-0.9853902793566686,-0.007629061811284324,-0.8053208287985659,-0.9525844241347554,-0.45950805568668057,-0.23942903115597644,-1.9129442611733805,-0.2238068349439605,-0.5195305455015946,-0.6956933254243279,-0.6195680285264513,-0.8518486087420899,-0.7039867534632728,-0.996504106866707,-1.0880373166037183,-0.8474598702251539,-1.0275273396698963,-0.5007054302593592,-0.2955414122115405,-0.7429174566223002,0.2408705175483776,-0.09995525710394423,-0.6885802976347587,-0.6345865455584987,-0.71579891334112,-0.24391242286075251,-1.45607628772506,-0.9436907550398225,-0.6757839201311774,-0.8397485824929569,-0.4278845818275035,-0.8958663827858622,-0.6829930581192067,-0.737928477049376,0.5898916289278232,-0.301807636082806,-0.9108848998179092,-0.7669277340611009,-0.8119297257306074,-0.04595952391432368,-0.737928477049376,-0.2579860446626752,-0.15711083444921892,-0.41720829031384643,-0.4894288976897142,-0.6690123181395291,-0.5133410838166945,-0.7137697280600803,-0.8058618753441094,-0.8580715479910249,-0.6301797062923223,-0.6101722096873511,-0.11649560018328811,-1.2281379330278122,-0.7330410269122535,-0.9219967462145874,-0.5773663544654379,-0.1054798639850704,-0.5839967902707004,-0.055992499497427704,-0.4444249249068473,-0.13992717543932193,-0.09708636352094441,-0.21653308320814482,-0.28945202295182143,-0.000010655901332486117,-0.6712324765546347,-0.1676244209032693,0.5365392116687557,-0.7724523409422274,-0.3476918903480115,-0.9364170033040069,-0.6485026717903905,-0.6885176650003332,-0.7395483944084935,-0.2294275520235469,-0.9036111480820939,-0.05088388973946193,-1.0435635518917123,-0.07089138634443332,0.5071327089271629,-0.719638989115343,-0.8435886582671798,-0.5114099898474753,-0.3077749884498894,-0.6757193063833914,-0.4513875000325613,-0.8107828030452667,-0.38993048009704045,0.5499412494656666,-0.3059923660311654,-0.11065981669206038,-0.5228684715316503,-0.6868331338934299,-0.18594738640133734,0.44990376644080987,-0.32778050394150027,-0.4189262989847846,0.4538084559628184,0.5216403248217505,-0.04979959968854674,-0.37500661625283305,-0.5828909613465643,-0.6464734865093509,-0.1037933517648067,0.23016595796026137,0.21089809723206887,-0.3104791958599222,-0.26217077461103455,-0.3457607963787924,0.0708456209972694,-0.07429392612227476,0.034735317309335656,-0.6857522819664955,-0.6294167601767279,-0.5100701129147085,-0.7340572650914022,-0.360681222099019,-0.5100701129147085,0.018977164400509373,-0.3661129471579002,-0.34220076103091995,-0.4461429335777856,-0.39332958175090116,0.7595101256663007,-0.5172792509027381,-1.4486432690536186,-0.4972717542977667,-0.39332958175090116,-0.5572942441126808,-0.7651785892064119,-0.3889442813579459,-0.32006598783308826,-1.080211464001209,0.06245410164650389,-1.2415932130245064,-0.26868158023125555,-0.33330709193598707,0.1086404557921066,-0.511247284787869,-0.5911378763869636,-0.5884155682276906,-0.6284305614376332,0.13255264191908683,-0.05532420656967308,-0.668445554647576,0.260887611463879,-0.7105860530847844,-0.49524256901672703,-0.01945138901435075,-0.18662240853033057,0.6089440629774514,0.3693381527127222,-0.6156322028206915,-0.1708642556215042,-0.37484391119322663,-0.5956247062157202,-0.22768038828221823,-0.5356022164008061,-1.042900678201299,-0.20376820215523805,-0.1864830137095396,-0.454873897613112,-0.7195743753675571,-0.3077103747021036,-0.6795593821576144,0.47752966895573307,-1.5353768055933859,-0.4188616852369988,0.20597373140693073,0.19425966284090415,-0.6977842563438617,-0.15095485032835354,-0.006997684571545308,-0.09093236051343948,-0.5782233257089608,-0.5100054991669225,-0.2181864781312972,-0.16206867783839202,-0.20208367104833472,-0.2617615066891124,1.0947132021256756,-0.46999050595698,-0.05778185111739003,-0.38605583001508575,0.2669411164519691,-0.05778185111739003,-0.2977358536802362,-0.22209116765330608,-0.373257471398144,-0.373257471398144,-0.25203354852956056,0.3638135458315959,-0.17248417298062169,-0.07196264096083779,-0.3395248216953466,-0.7361147184469011,0.3594267884280202,0.3805165939705465,-0.48440878193303916,-0.5515423184241621,0.4838605065747845,0.5601000144203616,-0.4040341413390173,-0.7477125949518668,-0.05525959282188716,-0.48440878193303916,0.5044662631223834,0.0643013378130137,-1.0039053612944855,-0.05195316324250598,-0.6629492158409089,0.31718965568961177,-0.15469683479075585,0.1042182397111357,-0.34435432458487925,-0.27830184976845646,-0.4987289665972777,0.31280091717267583,0.033180013698003975,-0.14368109859253814,0.041473441736948766,-0.09467434497584179,0.15322499332783207,-0.234824912522462,0.46257576567147163,0.19704658474796286,0.30098875729482844,-0.07051559598654597,-0.09086774676565368,-0.27483990573240474,-0.234824912522462,0.045978372314945656,-0.5027317474311072,-0.3304770951543634,0.49395267666833303,-0.1336050481348693,0.16662359300076185,0.2737721227018275,-0.3059612298474145,-0.22202655390552026,0.23493951085462078,0.778562559715929,-0.3259687264523858,-0.2976712399324503,0.6456211301573384,-0.09807688475368329,-0.03805439493876924,-0.2020190573005489,-1.0767812261635972,-0.3259687264523858,-0.07189802721305197,-0.2092281952885785,0.7560793178140003,0.07630848223990158,0.0869761261400022,0.3465929711336833,-0.1364073468567227,0.8996938105100326,-0.4243216783703392,0.9246848674505869,0.212572461013753,0.47671400122118024,0.00754981890008561,0.016541579306839214,0.29274184225442923,-0.4043141817653679,0.4534020561501882,-0.6426215186063001,-0.1436164848447523,0.7613238842687762,0.18549522124154288,-0.16362398144972368,0.29285803431548973,0.28825501242567253,0.20432033648377834,-0.08631630318911118,-0.30319584681357664,-0.20754366418167516,-0.2475586573916179,0.04070032829613506,0.7333676137989958,-0.10360149163480961,-0.5786943392693771,0.097073715470892,0.42949185113656846,-0.09080313301786788,0.8380494222226407,0.22432981420211015,-0.11081062962283925,0.026519538452687327,0.33395731757634817,0.3933815474486346,-0.03798978119098343,1.033637558443597,0.9308777672594678,-0.9376287960468852,2.166814423429965,0.287217235373303,-0.03798978119098343,-0.03798978119098343,0.24992455032263322,-0.5970173047674452,-0.2285889378390161,0.3072247319782744,-0.12903550380908654,0.39388171607944145,0.6357542977578218,0.6945944062099998,0.5423438124142468,0.3803902345842665,1.0437136089012662,0.07212375229154219,-0.005183925969070302,0.4266875713013546,0.01482357063590102,1.107640788238189,0.44787744926906187,0.8161664213767001,-0.08082861199600044,0.018728260157909876,-0.31310575408765823,0.3427548764728209,0.2955287641614881,0.1927689729773584,0.37946344010338223,-0.07904255145329564,0.37674113194410935,-0.2602924022607737,0.9725772915763139,0.6479543964321358,0.5807207875158317,0.07592691237774958,-0.4074559251717821,0.31281395260718653,1.0282110428742919,-0.056310765575691014,0.14436246041665013,0.8697159709563826,0.576233957687075,0.24996762519719806,0.4539472807689205,-0.20737897800870814,0.08433997060173606,-0.8065215672202939,-0.41466506315981166,0.7339162765417092,-0.682571898068457,0.5652182214888573,-0.6025419116485716,0.24830463296351574,0.6174313322597537,0.20472960440570054,-0.08352938128205237,-0.08352938128205237,-0.07073102266511064,0.3784256630510127,0.9620637051222635,-0.013430841009469466,0.3387553240152064,0.19717581224353461,0.9985186629843338,0.3862350420950304,0.05321864648672629,5.316401494395537,1.073717165401326,-0.1818823332000058,0.10993668783561958,-0.16187483659503446,0.18996667425550498,0.5791008701567143,-0.08066246881241315,0.6786543041866439,-0.1818823332000058,0.27390135019739925,0.3312015318530404,0.3906418813612066,0.2161455317961363,-0.02512680882625578,-0.1490764779780927,0.5279720494367331,0.9225508616564883,0.2431246802565258,0.34730632004936335,1.3956197334995912,0.15884535014049517,0.11610804877127959,0.691354571491765,0.4968507253217233,0.5707113319193092,0.6686247667275206,-0.032335946814285414,1.1805262504178307,0.26386837461429524,0.11162121894252283,0.1516362121524656,0.872604422299243,-0.15628561596612234,-0.008423760687305215,0.23557088809435983,0.7886697463573488,2.9668489098277275,0.5007554148437321,0.7319536861218158,0.21556339148938847,0.41682073890183796,0.2089363938081067,0.28896836134135256,0.6802407439817265,0.18834675689638752,0.4296190975187797,0.24836924671130156,0.45956002138441404,0.7002482405866979,0.1776756748723061,0.5939284140546957,0.9353512013867905,-0.18350225055912325,0.16171226261013436,0.20835425350135883,0.9454252707310988,0.425132267690023,1.2261304642566855,0.9009234476923995,0.854281456801175,0.1948627720061839,0.05328326023451212,0.5173569335468813,0.861492575902565,0.5290744402368885,0.2611676053282433,-0.09067390552229615,0.20553041590628449,0.08050187594087355,0.5335632511790057,0.39849777340376985,0.3579006398870793,0.2912511523908835,0.7431301462662797,0.1464562594454756,0.06608161885145387,0.3539959503650704,0.314565078575236,-0.3689962355731712,0.7897721371575043,0.0343566155564752,0.08643376963056155,0.21003878460826214,0.9776489856462641,0.3139809571551277,0.04607412224648248,0.2912511523908835,0.2231817973993403,1.215616877802635,1.0638503330018092,0.18282215001526123,0.6119713391264132,0.4907439781338491,0.16281465341028983,0.6802838188562913,1.0669172953352186,0.86259298558936,0.624769697743355,0.8314716614743503,0.6478441566817356,0.43072346943229567,-0.3747764293361489,0.019457728709469727,-0.023981343151535356,0.1316933292952802,0.5408350218014607,0.717598042780182,0.5163406953677325,0.47632570215778997,0.4496912078715368,0.3723835296109243,0.2523385499810962,0.8242625234863206,-0.026682112437587356,0.2612322190760291,0.24122472247105775,0.2228802180997688,1.2862175678193855,1.1288799031388879,0.07063306242799654,0.35854739394161306,0.10117224623625837,1.2426425392615703,0.6291785181228916,0.579230097652286,0.5392151044423432,0.35406056411285625,0.6792675806771427,0.6862392325325608,1.2550962437043758,0.3012491933993323,0.3713457525585547,0.26774823418582555,0.5153029183153629,0.6720584426891131,0.7203634258140198,0.8360231050508927,0.4719834766393996,0.919957780992787,0.7960081118409501,0.4507935986716923,0.3268439295198553,0.5281012769323048,0.43695746300238086,0.2562917336150112,1.3646276368801533,0.8154334681391735,0.8554484613491162,1.5485997958469042,1.0194131237108959,0.5041910719186851,0.6492271084890673,0.3196347915318257,0.9327561396097287,0.4569649596073523,0.40974082840937986,1.2734838229502294,1.1322489653526941,0.4969819339306553,0.5937129873761309,0.4124631365686528,0.3697258351994372,0.5169894305356266,1.0650173375497507,0.3986270008993416,0.6265188425980441,0.4852839850005088,0.4269244874192772,0.6292411507573171,1.3705615116832022,0.8344031876917753,0.46255418023626454,0.6265188425980441,0.8371254958510482,0.2177218042659999,0.8571329924560196,1.6381236924177107,0.5892281386607346,0.31411018465069934,0.9171574633842939,1.225079291502882,0.44196454332454516,1.1978606757965202,0.542002026349402,0.6593246978199571,0.424223718133225,0.45144233383958643,0.9310346928148098,-0.13765261716363594,0.6921305530418702,0.7521530428567843,1.2510186817975413,0.7960727255887359,0.6148228747812577,0.8115933923649504,0.6876437232131135,0.8216694428226194,0.936623913443722,1.1578887574611427,1.0083639099486432,0.7532554336569399,1.5369684417779041,0.8136225776459903,0.5465534699259447,0.9345052844644179,-0.007029437331971422,1.0988146010003337,0.7305256288926957,0.5692832746901889,0.41869911125209885,2.313472311910839,0.8699959648207473,0.8033464773245514,0.5997114759269655,0.7525623107787065,1.2707461379761622,1.214628337683257,1.0267514891944967,1.7537484370799288,1.0273356106146054,1.3250865253399187,0.6210588494647036,0.8889656843733489,2.235126856597857,1.8193581664103944,1.0368275396521658,2.884358508363693,0.8689581877683774,2.044527699949824,0.8050310084314547,1.951701336026357,1.1296558846889928,0.8050329895448151,1.0284360203014005,1.249700864318821,1.2936205470507727,0.7981665246175614,0.9884210270914581,1.389515854421009,2.6247632022432335,0.6093628816479174,0.8106202290603669,1.234542952465983,1.5386960477593723,0.7021912266847445,1.1412738430565594,2.329639732741587,1.321939572443929,0.8162094496892789,1.8121921032969297,0.668692248584598,1.2208643123667025,1.1130174502978283,1.4009317818114446,1.2908202294422793,0.41547737728310385,1.3039612611199973,1.0084931374442152,1.33760484353051,1.3937226438234152,1.005770829284942,1.327530774186202,1.5176723129752523,0.9484706476293011,1.2625638366835488,1.406521002440357,1.9895607845689802,1.60433127818978,1.1852561584229362,1.342593823103434,0.9845829324305951,1.3793043678473558,1.4020341726116,1.171420022753625,1.3948250346235704,1.3308978552866477,1.7200320511878568,0.7979510979389967,1.0685802410069145,1.661694092479846,1.8267396067685606,1.2453432619856362,1.845668232559958,1.9223917894004618,1.4538117284994756,1.4265931127931144,1.526048455511223,1.4393914714100557,0.9702272890889615],\"yaxis\":\"y\",\"type\":\"scattergl\"}],                        {\"template\":{\"data\":{\"histogram2dcontour\":[{\"type\":\"histogram2dcontour\",\"colorbar\":{\"outlinewidth\":0,\"ticks\":\"\"},\"colorscale\":[[0.0,\"#0d0887\"],[0.1111111111111111,\"#46039f\"],[0.2222222222222222,\"#7201a8\"],[0.3333333333333333,\"#9c179e\"],[0.4444444444444444,\"#bd3786\"],[0.5555555555555556,\"#d8576b\"],[0.6666666666666666,\"#ed7953\"],[0.7777777777777778,\"#fb9f3a\"],[0.8888888888888888,\"#fdca26\"],[1.0,\"#f0f921\"]]}],\"choropleth\":[{\"type\":\"choropleth\",\"colorbar\":{\"outlinewidth\":0,\"ticks\":\"\"}}],\"histogram2d\":[{\"type\":\"histogram2d\",\"colorbar\":{\"outlinewidth\":0,\"ticks\":\"\"},\"colorscale\":[[0.0,\"#0d0887\"],[0.1111111111111111,\"#46039f\"],[0.2222222222222222,\"#7201a8\"],[0.3333333333333333,\"#9c179e\"],[0.4444444444444444,\"#bd3786\"],[0.5555555555555556,\"#d8576b\"],[0.6666666666666666,\"#ed7953\"],[0.7777777777777778,\"#fb9f3a\"],[0.8888888888888888,\"#fdca26\"],[1.0,\"#f0f921\"]]}],\"heatmap\":[{\"type\":\"heatmap\",\"colorbar\":{\"outlinewidth\":0,\"ticks\":\"\"},\"colorscale\":[[0.0,\"#0d0887\"],[0.1111111111111111,\"#46039f\"],[0.2222222222222222,\"#7201a8\"],[0.3333333333333333,\"#9c179e\"],[0.4444444444444444,\"#bd3786\"],[0.5555555555555556,\"#d8576b\"],[0.6666666666666666,\"#ed7953\"],[0.7777777777777778,\"#fb9f3a\"],[0.8888888888888888,\"#fdca26\"],[1.0,\"#f0f921\"]]}],\"heatmapgl\":[{\"type\":\"heatmapgl\",\"colorbar\":{\"outlinewidth\":0,\"ticks\":\"\"},\"colorscale\":[[0.0,\"#0d0887\"],[0.1111111111111111,\"#46039f\"],[0.2222222222222222,\"#7201a8\"],[0.3333333333333333,\"#9c179e\"],[0.4444444444444444,\"#bd3786\"],[0.5555555555555556,\"#d8576b\"],[0.6666666666666666,\"#ed7953\"],[0.7777777777777778,\"#fb9f3a\"],[0.8888888888888888,\"#fdca26\"],[1.0,\"#f0f921\"]]}],\"contourcarpet\":[{\"type\":\"contourcarpet\",\"colorbar\":{\"outlinewidth\":0,\"ticks\":\"\"}}],\"contour\":[{\"type\":\"contour\",\"colorbar\":{\"outlinewidth\":0,\"ticks\":\"\"},\"colorscale\":[[0.0,\"#0d0887\"],[0.1111111111111111,\"#46039f\"],[0.2222222222222222,\"#7201a8\"],[0.3333333333333333,\"#9c179e\"],[0.4444444444444444,\"#bd3786\"],[0.5555555555555556,\"#d8576b\"],[0.6666666666666666,\"#ed7953\"],[0.7777777777777778,\"#fb9f3a\"],[0.8888888888888888,\"#fdca26\"],[1.0,\"#f0f921\"]]}],\"surface\":[{\"type\":\"surface\",\"colorbar\":{\"outlinewidth\":0,\"ticks\":\"\"},\"colorscale\":[[0.0,\"#0d0887\"],[0.1111111111111111,\"#46039f\"],[0.2222222222222222,\"#7201a8\"],[0.3333333333333333,\"#9c179e\"],[0.4444444444444444,\"#bd3786\"],[0.5555555555555556,\"#d8576b\"],[0.6666666666666666,\"#ed7953\"],[0.7777777777777778,\"#fb9f3a\"],[0.8888888888888888,\"#fdca26\"],[1.0,\"#f0f921\"]]}],\"mesh3d\":[{\"type\":\"mesh3d\",\"colorbar\":{\"outlinewidth\":0,\"ticks\":\"\"}}],\"scatter\":[{\"fillpattern\":{\"fillmode\":\"overlay\",\"size\":10,\"solidity\":0.2},\"type\":\"scatter\"}],\"parcoords\":[{\"type\":\"parcoords\",\"line\":{\"colorbar\":{\"outlinewidth\":0,\"ticks\":\"\"}}}],\"scatterpolargl\":[{\"type\":\"scatterpolargl\",\"marker\":{\"colorbar\":{\"outlinewidth\":0,\"ticks\":\"\"}}}],\"bar\":[{\"error_x\":{\"color\":\"#2a3f5f\"},\"error_y\":{\"color\":\"#2a3f5f\"},\"marker\":{\"line\":{\"color\":\"#E5ECF6\",\"width\":0.5},\"pattern\":{\"fillmode\":\"overlay\",\"size\":10,\"solidity\":0.2}},\"type\":\"bar\"}],\"scattergeo\":[{\"type\":\"scattergeo\",\"marker\":{\"colorbar\":{\"outlinewidth\":0,\"ticks\":\"\"}}}],\"scatterpolar\":[{\"type\":\"scatterpolar\",\"marker\":{\"colorbar\":{\"outlinewidth\":0,\"ticks\":\"\"}}}],\"histogram\":[{\"marker\":{\"pattern\":{\"fillmode\":\"overlay\",\"size\":10,\"solidity\":0.2}},\"type\":\"histogram\"}],\"scattergl\":[{\"type\":\"scattergl\",\"marker\":{\"colorbar\":{\"outlinewidth\":0,\"ticks\":\"\"}}}],\"scatter3d\":[{\"type\":\"scatter3d\",\"line\":{\"colorbar\":{\"outlinewidth\":0,\"ticks\":\"\"}},\"marker\":{\"colorbar\":{\"outlinewidth\":0,\"ticks\":\"\"}}}],\"scattermapbox\":[{\"type\":\"scattermapbox\",\"marker\":{\"colorbar\":{\"outlinewidth\":0,\"ticks\":\"\"}}}],\"scatterternary\":[{\"type\":\"scatterternary\",\"marker\":{\"colorbar\":{\"outlinewidth\":0,\"ticks\":\"\"}}}],\"scattercarpet\":[{\"type\":\"scattercarpet\",\"marker\":{\"colorbar\":{\"outlinewidth\":0,\"ticks\":\"\"}}}],\"carpet\":[{\"aaxis\":{\"endlinecolor\":\"#2a3f5f\",\"gridcolor\":\"white\",\"linecolor\":\"white\",\"minorgridcolor\":\"white\",\"startlinecolor\":\"#2a3f5f\"},\"baxis\":{\"endlinecolor\":\"#2a3f5f\",\"gridcolor\":\"white\",\"linecolor\":\"white\",\"minorgridcolor\":\"white\",\"startlinecolor\":\"#2a3f5f\"},\"type\":\"carpet\"}],\"table\":[{\"cells\":{\"fill\":{\"color\":\"#EBF0F8\"},\"line\":{\"color\":\"white\"}},\"header\":{\"fill\":{\"color\":\"#C8D4E3\"},\"line\":{\"color\":\"white\"}},\"type\":\"table\"}],\"barpolar\":[{\"marker\":{\"line\":{\"color\":\"#E5ECF6\",\"width\":0.5},\"pattern\":{\"fillmode\":\"overlay\",\"size\":10,\"solidity\":0.2}},\"type\":\"barpolar\"}],\"pie\":[{\"automargin\":true,\"type\":\"pie\"}]},\"layout\":{\"autotypenumbers\":\"strict\",\"colorway\":[\"#636efa\",\"#EF553B\",\"#00cc96\",\"#ab63fa\",\"#FFA15A\",\"#19d3f3\",\"#FF6692\",\"#B6E880\",\"#FF97FF\",\"#FECB52\"],\"font\":{\"color\":\"#2a3f5f\"},\"hovermode\":\"closest\",\"hoverlabel\":{\"align\":\"left\"},\"paper_bgcolor\":\"white\",\"plot_bgcolor\":\"#E5ECF6\",\"polar\":{\"bgcolor\":\"#E5ECF6\",\"angularaxis\":{\"gridcolor\":\"white\",\"linecolor\":\"white\",\"ticks\":\"\"},\"radialaxis\":{\"gridcolor\":\"white\",\"linecolor\":\"white\",\"ticks\":\"\"}},\"ternary\":{\"bgcolor\":\"#E5ECF6\",\"aaxis\":{\"gridcolor\":\"white\",\"linecolor\":\"white\",\"ticks\":\"\"},\"baxis\":{\"gridcolor\":\"white\",\"linecolor\":\"white\",\"ticks\":\"\"},\"caxis\":{\"gridcolor\":\"white\",\"linecolor\":\"white\",\"ticks\":\"\"}},\"coloraxis\":{\"colorbar\":{\"outlinewidth\":0,\"ticks\":\"\"}},\"colorscale\":{\"sequential\":[[0.0,\"#0d0887\"],[0.1111111111111111,\"#46039f\"],[0.2222222222222222,\"#7201a8\"],[0.3333333333333333,\"#9c179e\"],[0.4444444444444444,\"#bd3786\"],[0.5555555555555556,\"#d8576b\"],[0.6666666666666666,\"#ed7953\"],[0.7777777777777778,\"#fb9f3a\"],[0.8888888888888888,\"#fdca26\"],[1.0,\"#f0f921\"]],\"sequentialminus\":[[0.0,\"#0d0887\"],[0.1111111111111111,\"#46039f\"],[0.2222222222222222,\"#7201a8\"],[0.3333333333333333,\"#9c179e\"],[0.4444444444444444,\"#bd3786\"],[0.5555555555555556,\"#d8576b\"],[0.6666666666666666,\"#ed7953\"],[0.7777777777777778,\"#fb9f3a\"],[0.8888888888888888,\"#fdca26\"],[1.0,\"#f0f921\"]],\"diverging\":[[0,\"#8e0152\"],[0.1,\"#c51b7d\"],[0.2,\"#de77ae\"],[0.3,\"#f1b6da\"],[0.4,\"#fde0ef\"],[0.5,\"#f7f7f7\"],[0.6,\"#e6f5d0\"],[0.7,\"#b8e186\"],[0.8,\"#7fbc41\"],[0.9,\"#4d9221\"],[1,\"#276419\"]]},\"xaxis\":{\"gridcolor\":\"white\",\"linecolor\":\"white\",\"ticks\":\"\",\"title\":{\"standoff\":15},\"zerolinecolor\":\"white\",\"automargin\":true,\"zerolinewidth\":2},\"yaxis\":{\"gridcolor\":\"white\",\"linecolor\":\"white\",\"ticks\":\"\",\"title\":{\"standoff\":15},\"zerolinecolor\":\"white\",\"automargin\":true,\"zerolinewidth\":2},\"scene\":{\"xaxis\":{\"backgroundcolor\":\"#E5ECF6\",\"gridcolor\":\"white\",\"linecolor\":\"white\",\"showbackground\":true,\"ticks\":\"\",\"zerolinecolor\":\"white\",\"gridwidth\":2},\"yaxis\":{\"backgroundcolor\":\"#E5ECF6\",\"gridcolor\":\"white\",\"linecolor\":\"white\",\"showbackground\":true,\"ticks\":\"\",\"zerolinecolor\":\"white\",\"gridwidth\":2},\"zaxis\":{\"backgroundcolor\":\"#E5ECF6\",\"gridcolor\":\"white\",\"linecolor\":\"white\",\"showbackground\":true,\"ticks\":\"\",\"zerolinecolor\":\"white\",\"gridwidth\":2}},\"shapedefaults\":{\"line\":{\"color\":\"#2a3f5f\"}},\"annotationdefaults\":{\"arrowcolor\":\"#2a3f5f\",\"arrowhead\":0,\"arrowwidth\":1},\"geo\":{\"bgcolor\":\"white\",\"landcolor\":\"#E5ECF6\",\"subunitcolor\":\"white\",\"showland\":true,\"showlakes\":true,\"lakecolor\":\"white\"},\"title\":{\"x\":0.05},\"mapbox\":{\"style\":\"light\"}}},\"xaxis\":{\"anchor\":\"y\",\"domain\":[0.0,1.0],\"title\":{\"text\":\"PC1\"}},\"yaxis\":{\"anchor\":\"x\",\"domain\":[0.0,1.0],\"title\":{\"text\":\"PC2\"}},\"coloraxis\":{\"colorbar\":{\"title\":{\"text\":\"multi_morbid\"}},\"colorscale\":[[0.0,\"#0d0887\"],[0.1111111111111111,\"#46039f\"],[0.2222222222222222,\"#7201a8\"],[0.3333333333333333,\"#9c179e\"],[0.4444444444444444,\"#bd3786\"],[0.5555555555555556,\"#d8576b\"],[0.6666666666666666,\"#ed7953\"],[0.7777777777777778,\"#fb9f3a\"],[0.8888888888888888,\"#fdca26\"],[1.0,\"#f0f921\"]]},\"legend\":{\"tracegroupgap\":0},\"title\":{\"text\":\"PCA 2D projection\"}},                        {\"responsive\": true}                    ).then(function(){\n",
              "                            \n",
              "var gd = document.getElementById('125d8928-3356-40ab-b385-b1df331d3132');\n",
              "var x = new MutationObserver(function (mutations, observer) {{\n",
              "        var display = window.getComputedStyle(gd).display;\n",
              "        if (!display || display === 'none') {{\n",
              "            console.log([gd, 'removed!']);\n",
              "            Plotly.purge(gd);\n",
              "            observer.disconnect();\n",
              "        }}\n",
              "}});\n",
              "\n",
              "// Listen for the removal of the full notebook cells\n",
              "var notebookContainer = gd.closest('#notebook-container');\n",
              "if (notebookContainer) {{\n",
              "    x.observe(notebookContainer, {childList: true});\n",
              "}}\n",
              "\n",
              "// Listen for the clearing of the current output cell\n",
              "var outputEl = gd.closest('.output');\n",
              "if (outputEl) {{\n",
              "    x.observe(outputEl, {childList: true});\n",
              "}}\n",
              "\n",
              "                        })                };                            </script>        </div>\n",
              "</body>\n",
              "</html>"
            ]
          },
          "metadata": {}
        }
      ]
    },
    {
      "cell_type": "markdown",
      "source": [
        "**Insight:**\n",
        "\n",
        " Most high-risk (yellow) cases overlap with the majority (blue) class; there’s limited separability, indicating simple feature combinations don’t fully distinguish multimorbidity. More advanced modeling or additional features may be needed for better separation."
      ],
      "metadata": {
        "id": "0HXOdcsy9EMu"
      }
    },
    {
      "cell_type": "markdown",
      "source": [
        "---------------------\n",
        "\n",
        "# **7. Unsupervised Modelling**"
      ],
      "metadata": {
        "id": "9ukpn0Z49Z9Y"
      }
    },
    {
      "cell_type": "code",
      "source": [
        "from tensorflow.keras.models import Sequential\n",
        "from tensorflow.keras.layers import Dense, Dropout\n",
        "from tensorflow.keras.callbacks import EarlyStopping\n",
        "from sklearn.model_selection import train_test_split\n",
        "from sklearn.preprocessing import StandardScaler\n",
        "from sklearn.utils import class_weight\n",
        "from sklearn.metrics import classification_report, confusion_matrix, roc_auc_score\n",
        "import numpy as np\n",
        "\n",
        "# -------------------------\n",
        "# Stratified split\n",
        "X_train, X_val, y_train, y_val = train_test_split(\n",
        "    X, y, test_size=0.2, stratify=y, random_state=42\n",
        ")\n",
        "\n",
        "# Scale numeric features\n",
        "scaler = StandardScaler()\n",
        "X_train_scaled = scaler.fit_transform(X_train)\n",
        "X_val_scaled = scaler.transform(X_val)\n"
      ],
      "metadata": {
        "id": "DlBuIpvtUiO5"
      },
      "execution_count": null,
      "outputs": []
    },
    {
      "cell_type": "markdown",
      "source": [
        "\n",
        "\n",
        "- Splits data into stratified train/validation sets (preserves class balance)\n",
        "\n",
        "- Scales all numeric features for compatibility with neural networks\n",
        "\n",
        "Why:\n",
        "\n",
        "Ensures fair training and testing, prevents model bias, and accelerates neural network learning by standardizing input ranges."
      ],
      "metadata": {
        "id": "Hi7UFI-S-IDa"
      }
    },
    {
      "cell_type": "markdown",
      "source": [
        "----\n",
        "### **Compute class weights**"
      ],
      "metadata": {
        "id": "V1T9fXtY-QNK"
      }
    },
    {
      "cell_type": "code",
      "source": [
        "\n",
        "\n",
        "weights = class_weight.compute_class_weight(\n",
        "    class_weight='balanced',\n",
        "    classes=np.unique(y_train),\n",
        "    y=y_train\n",
        ")\n",
        "class_weight_dict = {0: weights[0], 1: weights[1]}\n",
        "print(\"Class weights:\", class_weight_dict)\n"
      ],
      "metadata": {
        "id": "lntn4qxKUv7S",
        "colab": {
          "base_uri": "https://localhost:8080/"
        },
        "outputId": "bc301dc9-155a-452d-b6ed-17cb71d65de6"
      },
      "execution_count": null,
      "outputs": [
        {
          "output_type": "stream",
          "name": "stdout",
          "text": [
            "Class weights: {0: np.float64(0.5242152466367713), 1: np.float64(10.824074074074074)}\n"
          ]
        }
      ]
    },
    {
      "cell_type": "markdown",
      "source": [
        "**Why use class weights?**\n",
        "\n",
        "- Adjusts loss function to penalize misclassification of minority class (multimorbid) much more heavily.\n",
        "\n",
        "- Forces model to focus on rare but clinically important cases.\n",
        "\n",
        "**Insight:**\n",
        "\n",
        "Minority class (multimorbid) gets ~20× more weight than majority, sharply boosting model sensitivity for high-risk patients and addressing severe imbalance."
      ],
      "metadata": {
        "id": "qLvKcIdK_qw2"
      }
    },
    {
      "cell_type": "markdown",
      "source": [
        "## **Build Neural Network**"
      ],
      "metadata": {
        "id": "7amc15VI_vLi"
      }
    },
    {
      "cell_type": "code",
      "source": [
        "#Support: Class 0 → 280 samples\n",
        "#         Class 1 → 13 samples(MULTI-MORBID)\n"
      ],
      "metadata": {
        "id": "9t4I9ATy5ycA"
      },
      "execution_count": null,
      "outputs": []
    },
    {
      "cell_type": "code",
      "source": [
        "model = Sequential([\n",
        "    Dense(32, activation='relu', input_shape=(X_train_scaled.shape[1],)),\n",
        "    Dropout(0.3),\n",
        "    Dense(16, activation='relu'),\n",
        "    Dropout(0.2),\n",
        "    Dense(1, activation='sigmoid')\n",
        "])\n",
        "\n",
        "model.compile(optimizer='adam',\n",
        "              loss='binary_crossentropy',\n",
        "              metrics=['accuracy'])\n",
        "\n",
        "# EarlyStopping\n",
        "early_stop = EarlyStopping(\n",
        "    monitor='val_loss', patience=10, restore_best_weights=True\n",
        ")\n",
        "\n",
        "# -------------------------\n",
        "# Train model with class weights\n",
        "history = model.fit(\n",
        "    X_train_scaled, y_train,\n",
        "    validation_data=(X_val_scaled, y_val),\n",
        "    epochs=100,\n",
        "    batch_size=16,\n",
        "    callbacks=[early_stop],\n",
        "    class_weight=class_weight_dict,\n",
        "    verbose=2\n",
        ")\n",
        "\n",
        "# -------------------------\n",
        "# Predict probabilities\n",
        "y_val_probs = model.predict(X_val_scaled)\n",
        "\n",
        "# Adjust threshold for minority class if needed\n",
        "threshold = 0.3\n",
        "y_val_pred = (y_val_probs > threshold).astype(int)\n",
        "\n",
        "# Confusion matrix\n",
        "cm = confusion_matrix(y_val, y_val_pred)\n",
        "print(\"\\nConfusion Matrix:\")\n",
        "print(cm)\n",
        "\n",
        "# Classification report\n",
        "print(\"\\nClassification Report:\")\n",
        "print(classification_report(y_val, y_val_pred))\n",
        "\n",
        "# ROC-AUC\n",
        "roc_auc = roc_auc_score(y_val, y_val_probs)\n",
        "print(f\"ROC-AUC Score: {roc_auc:.4f}\")\n",
        "\n",
        "# Class-wise accuracy\n",
        "class_0_acc = cm[0,0] / cm[0,:].sum()\n",
        "class_1_acc = cm[1,1] / cm[1,:].sum()\n",
        "\n",
        "from sklearn.metrics import balanced_accuracy_score\n",
        "print(\"Balanced Accuracy:\", balanced_accuracy_score(y_val, y_val_pred))\n",
        "\n",
        "print(f\"Class 0 Accuracy: {class_0_acc:.4f}\")\n",
        "print(f\"Class 1 Accuracy: {class_1_acc:.4f}\")\n"
      ],
      "metadata": {
        "id": "xF9klnKkU0MS",
        "colab": {
          "base_uri": "https://localhost:8080/"
        },
        "outputId": "1e7aac30-72d0-4bb1-85c7-6cc124ef6825"
      },
      "execution_count": null,
      "outputs": [
        {
          "output_type": "stream",
          "name": "stdout",
          "text": [
            "Epoch 1/100\n",
            "74/74 - 1s - 18ms/step - accuracy: 0.6245 - loss: 0.6594 - val_accuracy: 0.6758 - val_loss: 0.6605\n",
            "Epoch 2/100\n",
            "74/74 - 0s - 2ms/step - accuracy: 0.6920 - loss: 0.5925 - val_accuracy: 0.6962 - val_loss: 0.6460\n",
            "Epoch 3/100\n",
            "74/74 - 0s - 2ms/step - accuracy: 0.7322 - loss: 0.5930 - val_accuracy: 0.6894 - val_loss: 0.6353\n",
            "Epoch 4/100\n",
            "74/74 - 0s - 3ms/step - accuracy: 0.7442 - loss: 0.5563 - val_accuracy: 0.7031 - val_loss: 0.5973\n",
            "Epoch 5/100\n",
            "74/74 - 0s - 2ms/step - accuracy: 0.7511 - loss: 0.5101 - val_accuracy: 0.7338 - val_loss: 0.5586\n",
            "Epoch 6/100\n",
            "74/74 - 0s - 2ms/step - accuracy: 0.7716 - loss: 0.5405 - val_accuracy: 0.7440 - val_loss: 0.5570\n",
            "Epoch 7/100\n",
            "74/74 - 0s - 2ms/step - accuracy: 0.7733 - loss: 0.5124 - val_accuracy: 0.7474 - val_loss: 0.5286\n",
            "Epoch 8/100\n",
            "74/74 - 0s - 2ms/step - accuracy: 0.7810 - loss: 0.5152 - val_accuracy: 0.7406 - val_loss: 0.5523\n",
            "Epoch 9/100\n",
            "74/74 - 0s - 3ms/step - accuracy: 0.7733 - loss: 0.4981 - val_accuracy: 0.7338 - val_loss: 0.5538\n",
            "Epoch 10/100\n",
            "74/74 - 0s - 4ms/step - accuracy: 0.7665 - loss: 0.4812 - val_accuracy: 0.7406 - val_loss: 0.5286\n",
            "Epoch 11/100\n",
            "74/74 - 0s - 4ms/step - accuracy: 0.7784 - loss: 0.4837 - val_accuracy: 0.7406 - val_loss: 0.5225\n",
            "Epoch 12/100\n",
            "74/74 - 0s - 4ms/step - accuracy: 0.7793 - loss: 0.4945 - val_accuracy: 0.7406 - val_loss: 0.5211\n",
            "Epoch 13/100\n",
            "74/74 - 0s - 5ms/step - accuracy: 0.7725 - loss: 0.4589 - val_accuracy: 0.7372 - val_loss: 0.5179\n",
            "Epoch 14/100\n",
            "74/74 - 0s - 3ms/step - accuracy: 0.7733 - loss: 0.4460 - val_accuracy: 0.7474 - val_loss: 0.4980\n",
            "Epoch 15/100\n",
            "74/74 - 0s - 2ms/step - accuracy: 0.7784 - loss: 0.4745 - val_accuracy: 0.7304 - val_loss: 0.5188\n",
            "Epoch 16/100\n",
            "74/74 - 0s - 2ms/step - accuracy: 0.7784 - loss: 0.4825 - val_accuracy: 0.7304 - val_loss: 0.5086\n",
            "Epoch 17/100\n",
            "74/74 - 0s - 2ms/step - accuracy: 0.7699 - loss: 0.4327 - val_accuracy: 0.7338 - val_loss: 0.5066\n",
            "Epoch 18/100\n",
            "74/74 - 0s - 3ms/step - accuracy: 0.7819 - loss: 0.4759 - val_accuracy: 0.7440 - val_loss: 0.4879\n",
            "Epoch 19/100\n",
            "74/74 - 0s - 2ms/step - accuracy: 0.7742 - loss: 0.4733 - val_accuracy: 0.7406 - val_loss: 0.4918\n",
            "Epoch 20/100\n",
            "74/74 - 0s - 2ms/step - accuracy: 0.7819 - loss: 0.4657 - val_accuracy: 0.7406 - val_loss: 0.4791\n",
            "Epoch 21/100\n",
            "74/74 - 0s - 2ms/step - accuracy: 0.7981 - loss: 0.4360 - val_accuracy: 0.7406 - val_loss: 0.4875\n",
            "Epoch 22/100\n",
            "74/74 - 0s - 2ms/step - accuracy: 0.7673 - loss: 0.4742 - val_accuracy: 0.7235 - val_loss: 0.5338\n",
            "Epoch 23/100\n",
            "74/74 - 0s - 2ms/step - accuracy: 0.7725 - loss: 0.4559 - val_accuracy: 0.7338 - val_loss: 0.5126\n",
            "Epoch 24/100\n",
            "74/74 - 0s - 3ms/step - accuracy: 0.7896 - loss: 0.4654 - val_accuracy: 0.7338 - val_loss: 0.5020\n",
            "Epoch 25/100\n",
            "74/74 - 0s - 2ms/step - accuracy: 0.7742 - loss: 0.4760 - val_accuracy: 0.7406 - val_loss: 0.5004\n",
            "Epoch 26/100\n",
            "74/74 - 0s - 2ms/step - accuracy: 0.7613 - loss: 0.4585 - val_accuracy: 0.7235 - val_loss: 0.5260\n",
            "Epoch 27/100\n",
            "74/74 - 0s - 2ms/step - accuracy: 0.7742 - loss: 0.4566 - val_accuracy: 0.7304 - val_loss: 0.5109\n",
            "Epoch 28/100\n",
            "74/74 - 0s - 2ms/step - accuracy: 0.7699 - loss: 0.4386 - val_accuracy: 0.7474 - val_loss: 0.4794\n",
            "Epoch 29/100\n",
            "74/74 - 0s - 3ms/step - accuracy: 0.7938 - loss: 0.4462 - val_accuracy: 0.7474 - val_loss: 0.4910\n",
            "Epoch 30/100\n",
            "74/74 - 0s - 3ms/step - accuracy: 0.7913 - loss: 0.4559 - val_accuracy: 0.7440 - val_loss: 0.4871\n",
            "\u001b[1m10/10\u001b[0m \u001b[32m━━━━━━━━━━━━━━━━━━━━\u001b[0m\u001b[37m\u001b[0m \u001b[1m0s\u001b[0m 5ms/step \n",
            "\n",
            "Confusion Matrix:\n",
            "[[175 105]\n",
            " [  1  12]]\n",
            "\n",
            "Classification Report:\n",
            "              precision    recall  f1-score   support\n",
            "\n",
            "           0       0.99      0.62      0.77       280\n",
            "           1       0.10      0.92      0.18        13\n",
            "\n",
            "    accuracy                           0.64       293\n",
            "   macro avg       0.55      0.77      0.48       293\n",
            "weighted avg       0.95      0.64      0.74       293\n",
            "\n",
            "ROC-AUC Score: 0.8951\n",
            "Balanced Accuracy: 0.7740384615384616\n",
            "Class 0 Accuracy: 0.6250\n",
            "Class 1 Accuracy: 0.9231\n"
          ]
        }
      ]
    },
    {
      "cell_type": "markdown",
      "source": [
        "**Why choose this?**\n",
        "\n",
        "Neural network with early stopping and class weights aggressively corrects for imbalance, maximizing detection sensitivity for rare multimorbid patients.\n",
        "\n",
        "**Key Insight:**\n",
        "\n",
        "- Model captures 92% of all multimorbid (class 1) cases (recall), far better than tree models.\n",
        "\n",
        "- Trade-off: many false positives (low precision for class 1) and reduced majority class accuracy.\n",
        "\n",
        "- Balanced accuracy (0.77) and AUC (0.90) show strong overall discrimination.\n",
        "\n",
        "further rule-based filtering is needed."
      ],
      "metadata": {
        "id": "Js9WD9apAUWI"
      }
    },
    {
      "cell_type": "markdown",
      "source": [
        "[[172 108]   → many false positives (class 0 misclassified as 1)\n",
        "\n",
        " [  1  12]  → minority class detected well (high recall)\n",
        "\n",
        " ---------------------\n"
      ],
      "metadata": {
        "id": "a1inFGW76UHd"
      }
    },
    {
      "cell_type": "markdown",
      "source": [
        "### **Plot Training Curves**"
      ],
      "metadata": {
        "id": "lX4IwpJGKBgR"
      }
    },
    {
      "cell_type": "code",
      "source": [
        "# Loss\n",
        "plt.figure(figsize=(12,4))\n",
        "plt.subplot(1,2,1)\n",
        "plt.plot(history.history['loss'], label='train_loss')\n",
        "plt.plot(history.history['val_loss'], label='val_loss')\n",
        "plt.title('NN Loss')\n",
        "plt.legend()\n",
        "\n",
        "# Accuracy\n",
        "plt.subplot(1,2,2)\n",
        "plt.plot(history.history['accuracy'], label='train_acc')\n",
        "plt.plot(history.history['val_accuracy'], label='val_acc')\n",
        "plt.title('NN Accuracy')\n",
        "plt.legend()\n",
        "plt.show()\n"
      ],
      "metadata": {
        "id": "JTaQZcsw4INv",
        "colab": {
          "base_uri": "https://localhost:8080/",
          "height": 391
        },
        "outputId": "1e2d77dd-d9d0-46bc-bdd0-68d932551b50"
      },
      "execution_count": null,
      "outputs": [
        {
          "output_type": "display_data",
          "data": {
            "text/plain": [
              "<Figure size 1200x400 with 2 Axes>"
            ],
            "image/png": "[encoded data removed]"
          },
          "metadata": {}
        }
      ]
    },
    {
      "cell_type": "markdown",
      "source": [
        "**Why this plot?**\n",
        "\n",
        "- Left (NN Loss): Shows steady drop in training and validation loss, indicating the neural network is learning and not overfitting.\n",
        "\n",
        "- Right (NN Accuracy): Training and validation accuracy curves stabilize; validation lags a bit but stays consistent, supporting good generalization.\n",
        "\n",
        "**Insight:**\n",
        "\n",
        "Neural network training is stable—no overfitting. Model is well-tuned and can reliably predict multimorbidity on unseen data.\n",
        "\n",
        "-----------------------------------"
      ],
      "metadata": {
        "id": "itgFZ72DKgK-"
      }
    },
    {
      "cell_type": "markdown",
      "source": [
        "## **8. Clustering (KMeans + GMM + silhouette) on aggregated features**"
      ],
      "metadata": {
        "id": "jE5vjpdc5YuA"
      }
    },
    {
      "cell_type": "code",
      "source": [
        "# Use scaled numeric features directly\n",
        "X_cluster = pd.DataFrame(X_all_p)  # numeric matrix\n",
        "\n",
        "# KMeans: pick k by silhouette\n",
        "sil_scores = {}\n",
        "for k in range(2,7):\n",
        "    km = KMeans(n_clusters=k, random_state=42, n_init=10).fit(X_cluster)\n",
        "    sil_scores[k] = silhouette_score(X_cluster, km.labels_)\n",
        "print(\"Silhouette scores:\", sil_scores)\n",
        "best_k = max(sil_scores, key=sil_scores.get)\n",
        "print(\"Best K:\", best_k)\n",
        "\n",
        "kmeans = KMeans(n_clusters=best_k, random_state=42, n_init=10).fit(X_cluster)\n",
        "df['kmeans_cluster'] = kmeans.predict(X_cluster)\n",
        "\n",
        "# GMM\n",
        "gmm = GaussianMixture(n_components=best_k, random_state=42).fit(X_cluster)\n",
        "df['gmm_cluster'] = gmm.predict(X_cluster)\n",
        "\n",
        "# Visualize clusters by PCA\n",
        "df_pca['kmeans_cluster'] = df['kmeans_cluster']\n",
        "px.scatter(df_pca, x='PC1', y='PC2', color='kmeans_cluster', title=\"KMeans clusters on PCA\")\n"
      ],
      "metadata": {
        "id": "Wti1yiKi47m_",
        "colab": {
          "base_uri": "https://localhost:8080/",
          "height": 597
        },
        "outputId": "3672835a-f9e6-42d6-e6e7-907f2588015e"
      },
      "execution_count": null,
      "outputs": [
        {
          "output_type": "stream",
          "name": "stdout",
          "text": [
            "Silhouette scores: {2: np.float64(0.41983233241098095), 3: np.float64(0.24789655737528782), 4: np.float64(0.231894335002454), 5: np.float64(0.24006654597189317), 6: np.float64(0.2301784793845288)}\n",
            "Best K: 2\n"
          ]
        },
        {
          "output_type": "display_data",
          "data": {
            "text/html": [
              "<html>\n",
              "<head><meta charset=\"utf-8\" /></head>\n",
              "<body>\n",
              "    <div>            <script src=\"https://cdnjs.cloudflare.com/ajax/libs/mathjax/2.7.5/MathJax.js?config=TeX-AMS-MML_SVG\"></script><script type=\"text/javascript\">if (window.MathJax && window.MathJax.Hub && window.MathJax.Hub.Config) {window.MathJax.Hub.Config({SVG: {font: \"STIX-Web\"}});}</script>                <script type=\"text/javascript\">window.PlotlyConfig = {MathJaxConfig: 'local'};</script>\n",
              "        <script charset=\"utf-8\" src=\"https://cdn.plot.ly/plotly-2.35.2.min.js\"></script>                <div id=\"770d93b7-81af-44bc-8df3-d0653f6b4f9d\" class=\"plotly-graph-div\" style=\"height:525px; width:100%;\"></div>            <script type=\"text/javascript\">                                    window.PLOTLYENV=window.PLOTLYENV || {};                                    if (document.getElementById(\"770d93b7-81af-44bc-8df3-d0653f6b4f9d\")) {                    Plotly.newPlot(                        \"770d93b7-81af-44bc-8df3-d0653f6b4f9d\",                        [{\"hovertemplate\":\"PC1=%{x}\\u003cbr\\u003ePC2=%{y}\\u003cbr\\u003ekmeans_cluster=%{marker.color}\\u003cextra\\u003e\\u003c\\u002fextra\\u003e\",\"legendgroup\":\"\",\"marker\":{\"color\":[1,1,1,0,1,1,1,1,1,1,1,1,1,0,0,1,1,1,1,0,1,1,1,0,1,1,1,0,1,0,1,1,1,1,1,1,1,1,1,1,1,1,1,1,0,0,1,1,1,1,0,1,1,1,1,1,1,1,1,1,0,1,1,1,1,0,1,1,1,1,1,1,1,1,1,1,1,1,1,1,1,1,1,1,0,1,1,1,1,1,1,1,1,1,1,1,1,1,1,1,1,1,1,1,1,1,1,1,1,1,0,1,1,1,1,0,1,1,1,1,1,1,0,1,1,1,1,1,1,1,1,1,1,1,1,1,1,1,1,1,1,1,1,1,1,1,1,1,1,1,1,1,1,1,1,1,1,1,1,1,1,1,1,1,1,1,1,1,1,1,1,1,1,1,1,1,1,1,1,1,1,1,1,1,1,1,1,1,1,1,1,1,1,1,1,1,1,1,1,1,1,1,1,1,1,1,1,1,1,1,1,1,1,1,1,1,1,1,1,1,1,1,1,1,1,1,1,1,1,1,1,1,1,1,1,1,1,1,1,1,1,1,1,1,1,1,1,1,1,1,1,1,1,1,1,1,1,1,1,1,1,1,1,1,1,1,1,1,1,1,1,1,1,1,1,1,1,1,1,1,1,1,1,1,1,1,1,1,1,1,1,1,1,1,1,1,1,1,1,1,1,1,1,1,1,1,1,1,1,1,1,1,1,1,1,1,1,1,1,1,1,1,1,1,1,1,1,1,1,1,1,1,1,1,1,1,1,1,1,1,1,1,1,1,1,1,1,1,1,1,1,1,1,1,1,1,1,1,1,1,1,1,1,1,1,1,1,1,1,1,1,1,1,1,1,1,1,1,1,1,1,1,1,1,1,1,1,1,1,1,1,1,1,1,1,1,1,1,1,1,1,1,1,1,1,1,1,1,1,1,1,1,1,1,1,1,1,1,1,1,1,1,1,1,1,1,1,1,1,1,1,1,1,1,1,1,1,1,1,1,1,1,1,1,1,1,1,1,1,1,1,1,1,1,1,1,1,1,1,1,1,1,1,1,1,1,1,1,1,1,1,1,1,1,1,1,1,1,1,1,1,1,1,1,1,1,1,1,1,1,1,1,1,1,1,1,1,1,1,1,1,1,1,1,1,1,1,1,1,1,1,1,1,1,1,1,1,1,1,1,1,1,1,1,1,1,1,1,1,1,1,1,1,1,1,1,1,1,1,1,1,1,1,1,1,1,1,1,1,1,1,1,1,1,1,1,1,1,1,1,1,1,1,1,1,1,1,0,1,0,1,1,1,0,0,1,0,1,1,1,1,1,1,1,1,1,1,1,1,1,1,1,1,1,0,1,1,1,1,0,1,0,1,1,0,1,1,1,1,1,0,0,0,1,1,1,0,0,1,0,1,1,1,1,0,1,1,0,0,1,1,1,1,1,1,1,1,1,1,1,1,1,1,1,0,1,1,1,1,1,1,1,1,1,0,1,0,1,1,1,1,1,1,0,0,1,1,1,1,1,1,1,1,1,1,1,1,1,1,1,1,0,1,1,1,1,0,1,1,1,1,1,1,1,1,0,1,0,1,1,1,1,1,0,0,1,1,1,1,1,1,1,1,1,1,1,1,1,1,1,1,0,0,1,1,1,1,1,1,1,0,1,1,1,1,1,0,1,1,1,1,1,1,0,0,1,1,1,1,1,1,1,0,1,1,0,0,0,0,0,0,1,1,1,0,1,1,1,0,1,0,1,0,1,1,1,1,1,1,1,1,1,1,0,0,1,1,0,1,0,1,1,1,0,0,1,1,1,1,1,0,1,0,1,1,0,1,0,1,0,1,1,1,0,0,0,0,0,0,0,0,1,0,0,0,1,0,0,0,1,1,1,1,1,0,1,1,1,1,1,1,0,1,0,1,1,1,1,0,1,1,0,0,1,0,1,1,1,1,1,0,0,1,1,1,1,0,1,0,1,1,0,1,0,1,0,0,1,0,1,1,1,0,1,1,0,0,0,0,1,1,1,1,1,1,1,0,0,0,1,1,1,0,0,1,1,0,0,1,1,1,1,1,0,1,0,1,1,0,1,0,1,0,1,1,0,1,0,1,1,1,1,0,1,0,1,1,1,1,1,0,0,1,0,0,1,1,0,1,1,1,1,1,1,1,0,1,1,0,0,1,1,0,0,1,1,1,0,1,1,0,1,1,1,0,0,1,0,1,0,1,1,1,0,1,1,1,1,1,0,1,1,1,0,1,1,1,1,1,0,1,0,1,1,0,0,1,1,0,1,0,1,0,1,1,1,0,0,1,0,0,0,1,1,0,0,0,0,1,1,0,0,1,1,1,1,1,1,1,1,0,1,1,0,1,0,1,1,1,0,0,1,1,1,1,1,1,0,1,1,1,1,1,1,1,1,1,1,0,0,1,1,0,1,1,1,0,1,1,1,1,0,1,1,1,1,1,1,1,0,1,0,1,1,1,0,1,1,1,0,0,1,1,1,0,0,1,1,1,1,0,1,1,0,1,1,1,0,1,1,1,1,1,1,0,1,1,1,1,1,1,1,1,1,1,1,1,1,1,1,1,0,1,0,1,1,1,1,1,1,0,1,0,0,1,0,0,0,1,1,1,1,1,1,1,0,1,1,1,1,1,1,0,1,1,1,1,1,1,1,0,1,1,1,1,1,1,1,1,1,1,1,0,1,1,1,1,1,1,1,1,1,1,1,1,1,1,1,1,0,1,1,1,1,1,1,1,1,1,1,1,1,0,1,1,1,1,1,1,1,1,1,1,1,1,1,1,1,1,1,1,1,1,1,1,1,1,1,1,1,1,0,1,1,1,1,1,1,1,1,1,0,1,1,1,1,1,1,1,1,1,1,1,1,0,1,1,1,1,1,1,1,1,1,1,1,1,1,1,1,1,1,1,1,1,1,1,1,1,1,1,1,1,1,1,1,1,1,1,1,1,1,1,1,1,1,1,1,1,1,1,1,1,1,1,1,1,1,1,1,1,1,1,1,1,1,1,1,1,1,1,1,0,1,1,1,1,1,1,0,1,1,1,1,1,1,1,1,1,1,1,0,1,1,1,1,1,1,1,1,1,1,1,1,1,1,1,1,0,1,1,1,1,0,1,1,1,1,1,1,1,1,1,1,1,1,0,1,1,0,1,0,1,0,1,1,1,1,1,1,1,1,1,1,1,0,1,1,1,1,1,1,1,1,1,1,1,1,0,1,1,1,1,1,1,1,1,1,1,1,1,1,1,1,1,1,1,1,1,1,1,1,1,1,1,1,1,1,1,1,1,1],\"coloraxis\":\"coloraxis\",\"symbol\":\"circle\"},\"mode\":\"markers\",\"name\":\"\",\"showlegend\":false,\"x\":[-1.7493397236887542,-1.3308738104881002,0.5579907943448729,1.409027275053537,0.35095861194250316,-0.34988324347338245,0.4610500385483191,1.0181628876258235,0.6991417042875846,0.46064408401893137,-0.07282220765874053,-0.25991120426887326,-0.05154162752359565,6.222753508844211,3.5939684374904095,0.6575512500771247,0.5695636095113832,0.18396462683020892,-0.6640313090705278,5.410655210704991,0.2438692596310616,-0.19921962677934144,0.6889306593674502,1.460079284456234,-0.5359652728074347,-0.3449738645160381,1.0294564272845987,3.1244808506553,0.15589650940816185,3.7886489613988306,-0.5104012908317346,0.08577567167724992,0.375825822262636,0.7887038226973127,0.3754198677332482,-0.06750746263863659,-0.8392156792479377,0.6586281392209243,-0.41747989540518077,-0.4853606391603011,-0.32314892689755603,0.43464580534498193,-0.33313046366966226,0.2494040272385668,6.461512986529186,11.984844706361924,-1.0899745402051368,0.8683561374881807,-0.5042706704874615,-0.3091330404905599,2.247954531234111,-0.3699202184162844,-0.8331213201199154,-0.3590244456260471,0.7449265810500193,-1.2132683776459359,-0.14822825449636312,-1.081656543957402,0.02640782100668386,-0.40229367439805835,1.8384913392434905,-0.8874549240970121,-0.5615706760093103,-1.0721785319090857,-0.9441441865392516,1.7276538007085427,-0.606044689312171,-0.8829271237655874,-0.6510074995967706,-0.1633201777322983,-1.137297579277871,-0.5580446829440412,-0.3461542731434194,-0.8107267169536613,-1.189586147496481,0.10258159663944269,-0.41361417202631046,-0.7452873165453033,-0.7029757147758082,-0.946560726896403,-0.13466189882479657,-0.9128236893827255,-0.572432073949702,0.6633173371181855,4.722483205389258,-1.1298957888064765,0.974392976559291,-0.4593492814290376,-0.9058105239135805,-0.5991929214088627,-1.1246303840599374,-0.8067436177999122,-0.8742358979332684,-0.9231177352278929,-1.3656107689015282,-1.1587928606100069,-0.8819104261565903,-0.6612185445169051,-0.557883126905523,-1.2998561754635227,-0.8574045630160629,0.6994870216972535,-0.984446586680368,-0.542452507407531,0.8997364194495654,-1.2261502740608607,-1.4170193925600485,-0.9495122380983136,-1.3067493645930066,-1.2319391704921518,2.653559546124543,-1.39562659665995,-0.66362535454114,-0.8797480146232249,-0.7304842406773382,4.395336294688451,-1.3866832117620544,-1.3892929990509832,-1.6594852216396092,-0.5265528994160804,-1.3890486005601137,-0.4873563346452234,2.1697903785990365,-1.2561809921621239,-1.4586342226739766,-1.7143784171372232,-1.183848402624282,-1.2945243851207116,-1.4607023364361547,-1.1480484113583511,0.2589908772530714,-1.501302438699295,-1.334043189297546,-0.5803191512979528,-1.889843447021753,-0.9891529883730187,-1.5529140396225092,-1.4632992031404515,0.24475712323854032,-0.9060497623945251,-1.731930026942405,-1.5690414307760685,-1.108224488179124,-1.4197265052710897,-0.9924760041735938,-0.5306333239919416,-1.3544290179215641,-1.4857352275328812,-1.1301158113938778,-0.23002636549183594,-1.552980425218781,-1.3160192393667043,-1.5826248317703426,-1.4400227690477025,-1.6568754343506804,0.24356025775507967,-1.3797900226325703,-1.7748426414585927,-1.656440979179749,-1.7132592340961887,-1.4901258477292556,-1.4359294238872091,-1.5882795757175086,-1.1805668080498823,-1.5058966246269918,-1.894371247353178,-1.295186034987123,-1.8490932440389305,-0.013363756868919885,-1.5346248254022128,-1.3906514205729619,-1.4359294238872091,-1.3213837546543192,-1.1715112073870328,-1.298289616666925,-1.7250368378129208,-1.776648438736135,-1.5538966309951217,-1.440457224218634,-0.8748556809885881,-1.1165324103996037,-1.5708472280536105,-1.8445654437075059,-1.1543162118376744,-1.5822432531444228,-1.3997070212358114,-1.1870028910908863,-1.2077336100384306,-1.1923444117666142,-1.832108986328973,-1.4332074208333268,-1.2059278127608886,-1.2304750971275915,-1.7495841221796238,-1.6480642321787005,-1.5919248309240617,-1.679514436007804,-1.8038152407246832,-0.006113953483612544,-1.5828692302612122,-1.6344808311844263,-1.393617822117714,-1.4298402247691118,-1.7313704354218877,-0.9849818022974169,-0.5750287821813171,-1.3662066216382962,-1.3012560182116772,-1.5263482503806536,-1.6161252313678578,-1.3254564186554736,-1.334512019318323,-1.3329169598801818,-1.6236194332440346,-1.2715779510086471,-1.889843447021753,-0.10052595315806098,-1.2421502154122863,-0.962587199131163,-1.4596953691600743,-1.1987804948076184,-1.668897436558282,-1.4694298234847245,-1.352623220644022,-1.8445654437075059,-1.5509302294503695,-0.1784147645686218,-1.1941502090441565,-1.0375854801538702,-1.2831448168859783,-1.5538966309951217,-1.5557024282726637,-1.096581751144894,-1.7431480391386196,-1.4588128240352023,-0.8745087970656814,-1.752203639801469,-1.5919248309240617,-1.8672044453646295,-1.3299842189868982,-1.3265833622712149,-1.3001978993765047,-1.2059278127608886,-1.677036831444791,-1.2191296351292429,-1.275895013500671,-1.8626766450332048,-0.9870319980658288,-0.34049937072357156,-1.234900412026979,-1.5222020286751485,-1.2684008116244943,-1.5007428471787778,-0.7278133891825479,-1.679514436007804,-0.28592136825560566,-1.0407396249261363,-1.593833113633641,-1.5557024282726637,-1.2665950143469522,-1.65711983284155,-1.4920688251418481,-1.5082370490549546,-1.7675928380732855,-1.5007428471787778,-1.2955676136130427,-1.5509302294503695,-1.7431480391386196,-1.3148394192059514,-1.5373468284560954,-1.5346248254022128,-1.2423946139031556,0.06633085181918308,-1.1473108069432365,-1.3118730176611995,-0.4192777736353344,-1.561791627390761,-1.6073140291958778,-1.4327729656623953,-1.219755612246032,-1.6661754335043995,-1.5464024291189447,-0.2471020988999108,-1.485598047397831,-1.808343041056108,-1.637202834238309,-1.2740892162231288,-1.4678684246980518,-1.559985830113219,-1.6187100542866901,-1.738620238807195,-1.6435364318472758,-1.3182066152701664,-1.29400621482637,-1.6616476331729746,-1.688814435161523,-1.6704588353449545,-1.6978700358243726,-1.5255692247393633,-1.2209354324067851,-1.6661754335043995,-1.34084561692729,-1.6356077748001676,-1.5390154455985872,-1.2578862976070093,-1.565937849096266,-1.304623214275892,-1.5417374486524698,-1.8536210443703554,-1.463340624366627,-1.1380108077895175,-1.4894493075200028,-1.7313704354218877,-1.8264542423818069,-0.941509596260712,-1.3075896158206441,-1.3383680123642767,-1.4931957687575894,-1.3906514205729619,-1.6115974310364332,-1.551174627941239,-1.647819833687831,-1.6251808320307073,-1.0718996000956889,-1.3042416356499724,-1.7811762390675596,-1.5464024291189447,-1.2530116133526779,-1.6842866348300982,-1.675231034167249,-1.6161252313678578,-1.670703233835824,-1.1380108077895175,-1.362568412808073,-1.5011244258046976,-1.399569841100761,-1.7177870344276134,-1.551174627941239,-1.501368824295567,-1.1647960311521461,-1.372540219247263,-1.288852437378156,-0.3631383723806952,-1.493440167248459,-1.639008631515851,-1.198678009375581,-1.6537189761258666,-1.688814435161523,-1.69514803277049,-1.5421190272783896,-1.205790632625838,-0.23002636549183594,-1.535751769017954,-1.3829671620167232,-1.8034336620987634,-1.4090070203895302,-1.3218182098252507,-1.4968410239641423,-1.4081933000452271,-1.4720146464035566,-1.4919316450067979,-1.5613571722198298,-1.6205158515642324,-1.525432044604313,-1.551174627941239,-1.5149522252898413,-1.7630650377418609,-1.2435744340639088,-1.4452294230409282,-0.9623428006402933,-1.4875410248104235,-1.569285829266938,-1.65711983284155,-1.5812741708230709,-1.551174627941239,-1.5708472280536105,-1.5285356262841154,-1.4582118112885096,-1.5240078259526906,-1.5647580289355132,-1.3172904094938258,-1.3453734172587146,-1.569285829266938,-0.39820017076488323,-1.5842934489128346,-1.399951419726681,-1.257783812174972,-1.3544290179215641,-1.4576522197679924,-1.6661754335043995,-1.3317900162644405,-1.4968410239641423,-1.2976178093814543,-0.9034813963317719,-1.234900412026979,-1.466707820430842,-1.5296625698998567,-1.4739576238161491,-1.0907898270626777,-1.7061119161429186,-1.2506364942217019,-1.4968410239641423,-1.203205809707006,-1.3879294175190793,-1.460374222821875,-1.0202879991724747,-1.2705534928249431,-0.8627311933489493,-1.6435364318472758,-1.5299598449357377,-1.7268426350904629,-1.24767009267695,-1.4467908218276009,-1.395423619395256,-1.4425074199870456,-1.2386144920141005,-1.5620360258816306,-1.2849506141635205,-1.011232398509625,-1.2456246298323204,-1.6299530308530015,-1.6299530308530015,-1.2840344083871802,-1.501368824295567,-1.3172904094938258,-1.2929480959911972,-1.3927016163413735,-1.1443444053984844,-1.6860924321076405,-1.1853390068721763,-1.3834016171876546,-1.3064290115534343,-0.9949269944614684,-1.3048676127667616,-1.3003398124353367,-1.1552058033388761,-1.2930900090500295,-1.141622402344602,-1.2928456105591601,-1.4635513622060279,-1.1898668072036012,-1.4712356207622668,-1.4887775002345318,-1.2094022271809224,-1.261151008239187,-1.3381236138734074,-1.4395410184422934,-0.9949269944614684,-1.577425224153447,-0.8647813891173611,-1.4062850173356478,-1.2731730104467884,-0.710694264790088,-1.1008721993617794,-1.3745904150156747,-1.1008721993617794,-1.3172904094938258,0.21658248130285235,-0.5576024671984028,-0.6603782932892678,-0.6318530697787407,-0.34138723433105006,-0.13973224535403075,-0.6276482230516707,-0.4154348596466942,0.9955482618721678,-0.5099590750860962,-0.15784344667972972,0.3618200098828948,-0.5863306679736239,-1.417469368880394,-1.348985011813799,-1.2635163970372463,-1.4512064063940717,-1.4512064063940717,-1.3612099912860944,-1.3472450116659005,-1.3612099912860944,-1.3472450116659005,-1.3612099912860944,-1.0835235668212913,-1.2497015181367344,-0.9935271517133138,-1.1812171610701394,-0.9935271517133138,-0.9935271517133138,-0.97956217209312,-0.5025918959259102,-1.077255766341968,-1.091220745962162,-1.0957485462935868,-0.8180621218287837,-0.8940935573165673,-0.7280657067208062,-1.0957485462935868,-0.21665386080964452,-0.8052827108458962,-0.7913177312257024,-0.7280657067208062,-0.8942436580362495,-0.11387803471877952,-0.7280657067208062,-0.4248204602902282,-0.5275962863810931,-0.2576070410571609,-0.14713403582542534,-0.555770055645722,-0.4375998712731158,-0.1343546248425377,-0.352131256496563,-0.552600676836276,0.04880758418286311,-0.6210850339028712,-0.42909413179786693,-0.6502942710851242,-0.2416582512648274,-0.4498248507454112,-0.4086175416741087,-0.7402906861931016,0.24927700452257623,0.5602194300940249,0.08206358528950883,-0.4498248507454112,0.11063023002621147,-0.3438796458451003,-0.2538832307371228,0.1610205895624971,-0.5648256563085715,-0.15618963648827477,0.9361538803182682,-0.05341381039740971,-0.07389040052116808,0.2037960239436349,-0.5508606766883777,0.8259350039103185,0.023803193727680153,0.661636834662911,-0.18119402694345765,-0.057687481905048514,1.091535195551114,0.6492502991520974,0.3225206398268334,-0.2016706170672158,0.032308933202928984,0.5229900601665466,0.7929793054904788,0.44094495302322584,-0.18889120608432844,0.9046378793595208,-0.20936779620808657,0.7237136093300457,0.28473683838876285,0.5119506493315574,0.816625274423683,0.14609006389239831,0.5056828488522342,-0.1934190064157532,0.02856247196534225,0.4491965636746885,1.119870520854261,0.9889209254987672,-0.10342259130777567,0.10474400817280796,0.2802090380573381,0.6811478787367644,0.5074228490001327,0.7016244688605227,1.5320687949560774,0.19021262294936073,1.503756279043161,0.18251544380849005,0.18251544380849005,0.47323540807996656,1.475328380954746,1.2575517493007204,0.30893723883255925,1.6584905899801465,0.918435554464643,1.0289085596963785,0.5584498940327333,0.897566088868811,0.7666164935133171,0.288460648708801,0.08799122836908785,1.0366057388372492,0.7873472124608614,0.47615065806562656,0.48893006904851405,0.6561434882815814,1.0448573494887121,0.9343843442569764,0.25067684727073053,0.7339149239172634,0.8443879291489991,1.7644357948804574,0.6374068983057216,0.4844022687170894,0.7211355129343759,0.7683564936612155,1.9572080360793,0.46392567859333106,1.4534933693090089,1.0448573494887121,0.4229724983458147,1.5642205033645304,0.9548609343807348,0.9834275791174376,0.5493942933698838,0.9170771329426642,0.95033313404931,1.2419845381343066,1.629212528017325,1.5026981602079883,0.43892128813814807,0.7166077126029512,0.9865969579268832,1.7317342252844043,1.5880052189460228,0.9708097241730683,1.248750277461657,1.0900153764632985,0.9590657811078047,1.097069963158619,0.5366148823869963,3.39223000200344,0.4216140768238359,0.8225529175032621,1.3672207645210697,1.3134881732906656,0.2828285556791835,0.6630366774110655,0.3520942518396167,0.05393123725105551,0.675816088393953,0.2748772477145269,0.48304384719511057,0.18488083260654936,0.5935168524268463,0.08210500651568434,0.1516248314999036,0.9172386889811825,0.8729432770395477,-0.32336163449516636,0.14709703116847886,1.2189639578512634,0.16757362129223705,0.5892431809192077,0.6997161861509433,-0.012419208923717687,0.28431442700329596,0.5117720479703316,1.059701846582853,-0.23336521938718893,0.6017684630783091,2.519866949610464,0.70771366797862,1.8080084927498195,0.5639846616402386,1.1986489237660236,0.9788884819398587,0.48676765751514867,0.6872370778548618,0.003783709692401875,1.5172885284783428,1.2146902863436246,-0.2741568435961872,-0.10694342436311985,-0.09099463457078641,0.30343259560507535,-0.49089800733258837,0.19947120087690418,0.6494532764167913,-0.4584233453197807,-0.47915406426732493,-0.29916123405137013,0.17129743161227518,0.4285072659533199,0.6904064566643078,-0.11916840383541538,-0.3036890343827948,0.30541640577721507,2.7276224345517357,1.0461184455885786,0.41628228648102444,-0.4901934751023141,0.19494340054547946,4.056699195575565,-0.4129764709772242,0.41628228648102444,0.7758750714408605,0.36723905162056364,-0.5041584547225079,-0.05100700037317493,0.163427399586732,0.3499318403062513,3.014746038305308,-0.18901118242398918,1.3318023518810584,0.3915320248496277,-0.5847176905417161,-0.038227589390287364,-0.12052682535739404,-0.5986826701619099,1.4627519472365524,10.184707033569493,-0.12822400449826482,-0.5086862550539326,-0.6191592602856683,0.18588779988263,-0.32552404602853185,0.8363392957622302,-0.13275180482968954,-0.29877965542545043,0.25540762486684915,0.7953861155147137,-0.09831023508573739,-0.5336906455091155,-0.23552763092055443,-0.32552404602853185,1.1395845421928081,0.18614192870641594,4.837527616232827,5.626625886608792,0.17167901023819482,0.06771761551002356,-0.40274105015362177,0.498570225601977,1.156718900622448,0.4923024251226538,0.5822988402306314,2.0771596418259803,-0.27528378721192853,-0.317272435377069,-0.33774902550082725,0.28413582564207013,0.7782404602389197,5.859385762005246,0.6805468659900716,-0.2873586659645418,0.28755933327530214,-0.342276825832252,-0.7227390763879198,-0.15458681647542646,1.7821660060468656,1.2772657706392676,-0.010857810137044996,-0.14180740549253903,-0.41179665081647127,-0.023383092296146525,-0.30132364558473557,-0.41830826132003557,0.24635202420399965,2.5086489374142493,-0.4163244511478959,-0.3263280360399185,1.2444254543949265,1.2646479156948984,2.607539555619239,2.2835680020914273,1.4241641557870952,10.838559386164775,0.8513225395046587,0.12365403949996856,-0.31236305641972467,1.6612902754764556,-0.39584786102413766,-0.5267974563796315,-0.3468046261636767,1.6736768109872693,0.33207476780433837,6.263493981494118,-0.30585144591616026,2.9131500323751953,0.7125370183600064,-0.21585503080818283,-0.13038641603163012,-0.6213216718190336,-0.02642502130345898,0.16126498805336656,1.149647110131738,1.1782137548684408,0.11129031337938541,0.7444345979446734,1.2967996241033515,7.195355712158561,-0.535853057042481,-0.7158458872584358,5.86627895113473,-0.13491421636305484,8.524825348654462,-0.11443762623929662,0.11459843883711912,0.3637182185652193,7.3834385969874585,6.36516551488679,0.45371463367319675,-0.11443762623929662,-0.40490346168698704,0.054515793141669024,-0.630377272481883,3.4395451220287856,1.1613222284164328,2.3314143714684277,0.6291796635577269,-0.4503844422659283,2.0610322506724215,-0.5679120341929844,1.6600934099929952,-0.24991502192621526,1.336533129477177,-0.6836941788499827,-0.2544428222576399,1.0951105288899474,2.617994999030244,4.065385102925276,3.0669416066525064,1.3650997742138797,2.915515421173254,1.8150818497537669,4.375934653024652,5.226855569243966,-0.8148979030292627,8.709184581636006,1.3241465939663633,2.13411432993816,-0.013020221670410476,1.491775698061735,3.2709732812737395,3.393832822016289,-0.15658767197027362,-0.30775972862573964,0.5096510576631419,-0.4184868626812613,-0.26706067720200927,2.9113804963139036,-0.9094221184686648,-0.5984796928972161,-0.6189562830209744,-0.19754085221779003,0.39148087329053544,-0.42301466301268603,1.8755460740751364,1.208914468969647,3.14137081059407,-0.9139499188000896,-0.803476913568354,1.1481317028942326,1.0370116933666371,1.8755460740751364,0.2778271924031996,0.9220108878034767,2.091964284207183,3.932845766614249,0.9505775325401795,3.2823942707346485,-0.7040433191716075,-0.24651416521053188,-1.0084741342394918,-0.5175388784520881,-0.6075352935600656,2.3983789094472074,1.3346020373773673,-0.4310347957579115,-1.102744220855108,-0.6120630938914903,-0.4606369084122383,1.7080097012377145,0.8489987304054569,2.357425729199691,0.46853647984978886,1.0282102215275737,2.8483609849870946,-0.39111708342801904,1.3119103176479139,-0.26938464477389296,2.0133888585601145,2.1168072770965294,-1.1075261500103188,2.8233565945319117,-1.1280027401340769,-0.9070567296706057,-0.7270638994546507,2.31194474862075,-0.28491774970392214,-1.1325305404655017,2.3893233087843577,3.297631643300863,2.4793197238923352,1.3953175483391353,-1.202050365449721,-1.402519785789434,-0.4271608847181911,-0.7806349346465364,-0.641595284678098,-0.6971501300421235,-1.4070475861208587,4.296232283761841,1.3457917074047203,2.163849497989462,-0.5707283350180543,-1.1861015756573874,-1.2065781657811456,1.6238710073415972,1.7957737829446072,-0.31444994049052977,-0.8956357402096969,2.536221693932185,3.7471282705834086,0.25344819059817764,-0.335180659438074,-0.9161123303334551,-1.1926131861609517,-0.5639625956907038,2.9796921589685077,0.7398556460541564,1.791638858085257,-0.6996941202014085,-0.8861985609209277,1.3698305518099985,-0.028766034198050072,2.290271293013531,-0.8296082476392782,4.519705080589208,-1.1006329608808347,-0.8511203056806604,1.2323693459509402,-1.1006329608808347,3.314673428945235,-0.9901599556490991,-0.3397084597694987,-0.6301742952171893,-0.7246985106565914,1.4472091119736064,-0.9251679309963046,8.58652801815815,-1.015164346104282,-0.7246985106565914,-0.7451751007803497,-1.3261067716757307,-1.263641533386832,2.708737367594671,2.1424073618157986,0.25717200091821574,5.5604488817853195,4.556130460505301,-0.9946877559805237,-0.03012445572002885,2.9537222224634205,-0.6724858969866844,-1.2201615667754198,-1.040168736559465,0.6203270401595714,-0.05060104584378704,-0.8601759063435099,0.2818534377690439,4.036698481848913,-1.300720802594628,-0.40884670612779833,3.9105883435830453,3.1685619884860867,0.45628299973595005,-0.9547001217829122,2.8861862076513405,3.0457024477435377,-1.0446965368908896,-1.1837361868593281,-1.314685782214822,4.534688324331638,-0.5332846909797277,-0.07560543629897,3.405688108175447,-1.2451659572306026,-0.8237505264274184,-1.4251587874465577,1.6811545560073669,4.841495825043735,-0.9387513319905788,2.092167261471877,-0.12917647149085573,1.6093220602974179,-0.6278089064191299,-0.5173359011873943,-0.8977981517430622,4.86157953969542,-1.1437485526617166,-0.18235463121066756,-1.1927917875221776,-1.0127989573062228,-0.5488519021461417,1.269581670555711,-1.3237413828776714,-0.7083681422383383,-0.9432791323220034,3.672496677843779,-0.7083681422383383,-1.101759904496576,-0.9228025421982453,-0.8578105175454508,-0.8578105175454508,2.403179608911045,0.15223376329398536,3.3225848821969537,-0.9196331633887992,-1.0366177791240994,1.309800624186878,3.5802104014003033,0.9781502890581155,-0.9728113231086111,2.896641651062345,-0.01155614830584998,3.960418523132185,-1.138839173704372,4.537053713129698,-0.09371663762466895,-0.9728113231086111,1.1786197093978286,3.1585408417733323,6.44745502052098,-0.6334409994487474,1.3192378034756471,2.1640524752541554,2.012626289774903,-0.4454506874051158,-1.226597649816424,2.0061146792713394,2.8021174356229426,5.215840534312445,2.683554375778262,-0.846389528084542,0.37221422770755164,1.7426370444509711,2.143575885130397,-1.0513867487556798,0.33260817213585986,-0.7199677330604729,-0.4295018976127823,-0.836952348795773,-0.9409137435239442,-0.8713939185397249,-1.0513867487556798,2.7690229905548147,-1.3623291743271286,-1.140347695946033,2.2699976801544666,-0.21324524351925403,3.885405351766636,-0.16404045262027475,-1.346380384534795,-0.9659181339791271,1.3040759583719927,3.406856631490046,-1.2563839694268175,-1.1448754962774579,0.4373678083988644,-0.765448713639414,-1.0354379589633462,-1.0559145490871047,3.653108273709975,-1.2563839694268175,-0.9627487551696813,-0.8804495192025744,0.8144878272604139,0.08212997088578089,-0.4579986204817659,-0.34856108316765433,-1.0649701497499542,1.10719160170403,-1.2859161602134253,1.7584244366774682,4.160303976047913,-0.255395289250231,-0.9544971445182183,1.8145222582332499,-0.18587546426601181,-1.3759125753214028,0.7505140667298543,2.6485288386103254,-0.8895051198654238,0.8814636620853481,0.4395716411584054,-0.7995087047574464,5.26272135763954,-0.5580861041702169,-0.9385483547258848,-0.6118186954006208,-1.4489247327194226,-1.3599637855290692,-1.1799709553131144,-0.7650671350134943,3.4767580351001848,-1.0694979500813788,3.1189875042739703,-0.31310124930146754,0.47625114989828327,-0.9840293353048261,1.4373909425255462,-0.652356190785833,-0.8940329201968485,-0.9763321561639554,2.9468534092374044,1.3966918911018156,-1.0785535507442283,0.16521615154156666,1.162873896870189,8.051644679936935,2.621077999115891,-0.4899247007079764,-1.0785535507442283,-1.0785535507442283,-0.8576075402807568,2.7294696530554527,-1.2018059669588514,-0.5799211158159538,2.140447927547127,-0.7471345350490213,1.117392916291248,-0.44071990980899717,1.7601472330299774,-0.5704839365271848,0.7983604361068546,-0.8953913417188274,-1.083081351075653,-0.751662335380446,-1.1730777661836305,1.2688191017705,0.4464648302878895,0.5013829901555998,-1.2620387133739837,-0.4326298551960526,-1.2140309464311467,-0.7559360068880846,-0.7766667258356289,0.22099101949299346,-0.396204475279961,-0.8303993170660328,0.1514711945087743,-1.3085551618705489,0.5033668003277395,-0.0773107417438555,-0.00804504558342227,-1.0660970933656955,2.9208834727323167,-0.318987471154871,3.2851656140620955,-1.0918828229147164,-0.7116747011828344,0.5898708830219161,-0.38025568548762745,-0.4124762186766492,-0.5719924587688459,2.3971079007005716,-0.4416854558589021,2.584936656705685,3.0963485026168467,-0.358593526726563,2.7854060770453977,2.4787601323718182,2.4254204166134885,-0.42120886573514377,0.7278750650727306,-0.787706136670618,-1.202609956970238,-1.202609956970238,-1.1171413421936853,-0.32804307181772047,1.5947447710843772,-0.8394549177288823,0.04590756823438307,-0.8061989166222365,0.8682618397169936,1.1528527501574346,-0.9166719218539722,10.293575193206827,-0.05789227045526994,-1.2321421477568457,-0.2707482263057967,-1.322138562864823,-0.6307338867377064,0.4283536289621906,-0.3940006425204199,3.770607523468169,-1.2321421477568457,-0.25027163618203846,0.027414788282764516,0.12566281404220458,-0.8280339282679736,-1.0362005277485573,-1.2366699480882704,0.04336357807509795,0.007099754197524524,-0.5313002923409598,-0.42684095876476136,1.4466495204530891,-1.1057203527327766,-0.37805185272808645,0.4320774392822286,-0.43162288791997205,-0.30811634288156287,1.0697495241789412,-0.8607354978640271,1.0411828794422386,-0.4382845991432187,-0.7502624926322915,-0.9302553228482464,0.9102332840867448,-1.0612049182037402,-0.21028400198442707,-0.5497930722925783,0.5297710335310768,3.321591152450869,0.30882502306760545,0.2600359170309306,-0.459796657184601,-0.07163722748806238,-0.6525688983834433,-0.6363659797673238,-0.13290544182081884,-0.19433521219209357,0.01383138728849033,-0.46432445751602575,-0.42311714844472315,-0.2229018569287962,2.8586384155035014,0.22826578724839702,0.4687569480221063,-0.7957434732112326,-0.29711103828295843,-0.2843316273000709,0.7257126535393651,-0.35837925261571485,1.1221236938873664,0.5334948438511149,0.5207154328682274,-0.1076810287782346,-0.9597875136348539,0.22358788619729014,0.7214389820317265,-0.06791341716802432,-0.378855842739473,-1.0702605188665897,-0.6478096201457813,-0.8490603795793323,0.68048580178421,-0.46115507870657985,0.08707502259274749,0.16429202671783735,0.4057146273050669,-1.0403467494540624,-0.8743188988583014,-0.65337288839483,-0.4654287502142185,3.1341737252810935,0.41849403828795445,-0.4928211803850093,-0.77035750413013,-0.7638458936265657,1.089422124291313,-0.47338005817887524,-0.7843224837503239,0.16429202671783735,-0.4844194690138643,2.213501664644004,0.6221328374371135,-0.4983844486340581,0.3807102368498839,-0.3674348532785643,-0.4083880335260807,0.31222587978328886,0.268414977484527,0.2339734077405748,0.46617885162643674,-0.24101305825449512,0.02246457656587262,0.2787429710933972,1.3677214468155914,1.137499813101869,-0.7023462013875719,-0.8833744995211508,0.0857166010707687,0.1916618059710796,-0.19649762372545884,-0.016504793509504068,-0.11928061960036901,-0.3069706289571945,0.23300786169066995,-0.06554802836996501,-0.6429174449838261,-0.42197143452035496,-0.33197501941237756,-0.2332459572459054,0.8090188567825525,0.9813145078576366,-0.545223850734978,-0.3242778402715068,0.29799988634346447,0.4425215858470783,-0.18482250544076403,0.3421224454004269,0.5221152756163817,-0.6964884801757119,-0.1078596301394602,0.27887042089553077,0.33403239078748237,-0.2257756856882806,-0.23880922549495412,-0.33531725110649596,-0.12833622026321845,0.06760539974506982,0.08911745778645211,0.08808198986882809,0.9675695508248442,0.468544240424496,0.2680748200847829,-0.23055761484349138,-0.43102703518320434,-0.04286760548666585,-0.24786482615780356,-0.7180693629976627,0.8854318708962557,0.5463156760601781,0.3663228458442232,0.8159120459120365,0.38679943596798133,-0.31713052231823674,-0.205876177992663,-0.2555620052986743,0.5540128552010487,-0.337861241265781,0.017596618834703884,0.6804346502251178,0.022285975204646993,-0.14166549243370669,-0.051923206149515316,-0.5300790509540312,0.19758944905065876,-0.23166190754168403,0.46774025041310935,-0.5473862622683434,-0.056451006480940036,-0.7145996815014108,-0.4358777891189838,-0.6041266762696751,1.3403233253934872,0.5244806644144411,-0.07692759660469824,-0.056451006480940036,-0.023195005374294295,-0.8315842972367108,-0.11319142048227163,1.4573079411287873,-0.04794526700569115,-0.5596112417406388,-0.006992086758174733,0.12395750859731924,0.38130608958665174,0.013230374541797554,-0.06867598595323543,-0.060978806812364755,-0.3764490327152381,-0.2657218986597165,0.07925786711221602,4.647562979577684,-0.06550660714378947,-0.3354958524677217,0.11266396893854408,0.22495922830390105,-0.253196616500615,-0.2372478267082814,-0.4377172470479945,0.3958964578570065,0.34019151177329887,0.6383545263618601,-0.22129903691594802,-0.44677284771084397,0.5760508441114796,-0.5228042831986276,0.26041906217008776,0.03138299709367197,2.9730909263922984,0.2458173970535789,0.19089923718586863,-0.37725302272662486,-0.6804982691572027,1.7743395658183334,-0.07083839748660081,0.006378606638489055,0.35985265656683435,-0.184653634412455,-0.21440584778646396,0.796031308525046,0.12510322252168743,0.8781917978438649,0.13305453048634425,1.1731513273865954,-0.4036158347037865,-0.09267340913233788,1.6548109599237484,0.4929476181329861,0.7582475070869755,1.5439450792199385,-0.0026769940243604115,1.5315585437091248,-0.4731356596880057,2.1822641684125115,0.4837304614316185,-0.09694708063997651,-0.3544110438048072,-0.05624802921624608,0.5042070515553768,-0.10371281996732698,-0.17441821358885248,-0.12402785405256683,0.9462606285208377,-0.6003614447234614,-0.212202015026923,2.6245149585751433,0.5416678993890924,-0.8748784903788184,-0.34273592552011234,0.9007796479418964,0.1274686113197468,0.04873162963415987,1.113543969621624,-0.6082314767490046,0.6456120903218744,-0.38530165611339373,-0.16435564564992247,0.02867072437270598,2.2168972028770817,-0.06809143006262194,-0.3075302204777117,1.0215465405461175,0.011109384234607743,0.24014544931102355,0.764590835028859,0.21157880457432068,-0.03754097515377944,-0.013895006220575282,0.09657799901116032,0.7391935691016022,0.4205539643892827,-0.20158501557740083,-0.3738806666524848,-0.5817931373092825,0.36203944400366794,-0.2756326408930447,-0.21889222689171303,-0.10016761100851468,-0.5706262766721597,0.488461239027737,-0.38390181336523926,-0.6206350575825257,0.2789362180251746,0.6763827262908001,-0.5146898526822148,0.5856049720889847,0.7653436734811534,0.07419312617782278,-0.03653400787769895,-0.11827881233421361,0.048934606898853795,-0.6501672483691334],\"xaxis\":\"x\",\"y\":[1.4077365011002043,-1.8216575677366988,0.9282712908943326,1.973132927633728,1.420637178536019,0.9956301650794872,1.4258171312430086,1.496260325689728,0.9722536062607096,0.1794530878014547,0.7135850946211336,-0.1319641619172198,0.7324902004259493,-1.879730025025476,3.055876075891708,0.9464630477834686,2.5209502571919393,0.6002753713096269,0.11149199144695121,0.681890700780898,1.1180245306199923,1.480444241672368,1.8439817203396938,3.1796758191086973,0.6282033737049474,1.1016015229073925,1.4703209353950688,-0.001245758883026686,1.486488356225817,2.8512476851520914,0.12325257301152331,2.4387020934703094,1.9040688239023937,1.8775668976228335,0.6577047804608398,1.7754384836784427,1.07585399274273,0.6986713981021452,-0.23767644817730652,0.7205141921828127,-1.5214604230517417,1.6097246764619737,1.0473411261062162,1.5633411405618927,4.776621959432433,10.454298444091494,-0.26756615399658923,1.380191378530933,0.39856238715155573,0.7003774680822694,0.4879751569760306,0.8860126192827027,0.88506099485134,-1.9105166095037311,1.0721834472252016,-0.3260333402001717,1.1132974907241786,1.0778185642759839,-0.14692093331077305,-0.02797834448110039,1.8412627526915417,1.278731257514297,1.2652861448428216,0.7283700842253759,0.7694248356010486,0.3188095730487292,1.4482851405049888,1.2459254022923838,0.6491840336145025,1.285272102574572,-1.9600901266123807,0.15612304198122223,0.509649083938665,0.22998166746544768,0.4541626608854988,-1.1577956980022048,1.5081803839376915,1.1930474367177135,1.3380423795268912,1.2141573241228405,2.254598725894626,1.3469791234963897,0.39960016420392536,-0.1567231519625039,4.1330906550418405,1.2806958290475507,3.0381825065200183,1.3297954644864922,0.9189046271256228,1.8427993389769577,-0.16310645489076162,-0.3727379637258214,1.3797203649705168,0.9050684914563113,1.0974814067068193,0.913899527916819,1.1162592661294237,1.520912147693487,0.9114370341464497,0.9333875168494679,0.8731065720434104,0.6449280072791052,-0.40520114588695866,1.6121851891189822,1.385414455546351,0.7698777484122249,1.1502301447859173,0.48118743534850283,0.671005288821949,0.44129968852077134,3.0318326811557954,-0.5812064302396609,1.3578560348885051,0.7882653276580786,1.5881457566097912,4.10932928184564,1.1035235401469072,0.3172854056211485,-0.24587412628471453,0.8812027207150169,0.8083354568974755,1.205587340343512,2.9635909743602524,0.29721329526839135,0.016852755916940763,0.7839057442115333,1.5226612925481762,0.755522105070591,0.7265194099348853,1.5440512203796533,3.0333046536934263,1.1311494426618305,-1.9717860944291667,1.698648331976792,0.7911148821995628,0.11200951800591324,0.5607161590201521,0.4019314493653623,1.3943081246412838,-0.1703802066265771,0.2790195572658951,0.8483504501074182,0.5401075343632614,0.9083103072879067,1.8443546425882895,2.028240648934034,0.23777294576022512,1.1891427471957046,1.89723260816296,1.9863688222470517,-0.7052207131392837,1.0454010081174612,0.9467680157731575,1.513666094017442,0.5403640082410444,2.3325564987208933,1.3659057681744262,0.9022661927344581,1.1929459072819122,-0.488313471455048,0.8696757641911097,0.8282783397546609,1.1919081302295427,-0.07755186158974989,-0.10198157427569216,0.8239207374214759,-0.04992595907482677,0.4958621852023449,2.7981390602589085,-0.3453940827506093,0.5002197875355298,0.8282783397546609,-1.234687379139657,-0.14316357203357608,0.7754003741799906,0.5414017852934141,-0.029031498348264614,1.1901805242480743,0.861084194976574,2.1339554863221704,1.7988150424972205,-0.08294724097530451,0.46305632998043184,1.6210142444661293,1.0855452288229754,0.5658314979793561,0.16650938205306143,0.11928326974172868,0.9521633951587121,0.576973023549165,-0.1358252065499748,1.0505809608244512,1.425865625354915,0.9166864498238777,-0.016297753479108737,0.5213296749406566,0.7043932843506099,0.16780363298321402,1.801229658732359,0.4557179644968305,-0.114715319144848,0.9732732825638389,1.2357201243391434,-0.35709005056739557,1.3384952923380677,1.6529148906423654,1.2674882025086869,1.2484538692082994,1.1321226059664142,0.2451113112438265,0.9722355055114692,1.0378472159552954,0.28607792888513195,0.7509706614940485,-1.595551786580701,0.7911148821995628,0.10370132972884913,1.3130278025997557,0.6834159649521756,1.2046418750986985,1.1962246388015232,1.0790292137131792,0.12662163522532996,1.1690706368429475,0.46305632998043184,0.7171270292197657,2.5568021058887305,0.020865704075989373,-0.9160838402700707,1.1172304483206468,1.1901805242480743,0.25888283316535193,1.4068723858157317,0.6726252061810666,0.5012575645878995,1.482452458094876,0.7382369166248927,0.5213296749406566,0.6270856060899974,1.0050413607333823,1.1845697647459414,0.9866557626008888,1.0505809608244512,-0.7507603132303526,1.2877757395400087,0.1203210467940983,0.5942797508680844,-0.08385245002098171,1.842411656490243,0.31611840107320727,0.9605395376946831,-0.38553830345612367,0.4950398348285401,1.3639627820763793,0.7043932843506099,1.9397914451036122,0.9396450769681207,0.732585063361555,0.25888283316535193,0.545759387626599,0.04931395696471745,0.29065091133489546,1.000899185078762,-0.09464320879209082,0.4950398348285401,-0.18870317212464513,0.7171270292197657,0.6726252061810666,1.3468714348740385,0.6187094635540266,-0.3453940827506093,0.8219777513234292,1.2763359751817493,0.13305479166325418,0.8738179398457299,1.4688135041800428,-0.1485589514191307,-0.3115504504763266,0.5167566924908933,0.6579484752138638,0.11492566740854365,0.6843211739978526,2.001932563897831,0.8368699089691964,0.20060948820512706,0.8493882271597879,1.0516187378768207,0.5668692750317258,0.7827387396635921,0.8569420193219539,0.6398193509591532,-0.04910360870102181,-0.024673896015079654,0.2515444676817507,0.08211981218663056,0.2789549435181091,0.6387815739067838,0.3445666539619353,-0.4110057931944355,0.35647804845728637,0.11492566740854365,0.13935538009448584,0.09761894008962424,-0.6648610657552046,1.1316507054100666,0.023024116852600758,-0.12309146168081894,0.29924248054943103,0.5286680404242583,0.5340634198098126,0.5584931324957549,0.4691004445338806,-0.35709005056739557,0.3318329090927794,0.07913904903621427,0.34996203334749,-1.315798217486477,0.5029851705693678,0.5002197875355298,0.21230545602191336,0.22607697794343884,0.4747522977972182,0.3107230216876527,-0.8648923869156641,0.01568575136899942,0.0037743568736484795,0.6843211739978526,0.44734182196085964,0.24614908829619597,0.1805373778523699,0.2451113112438265,0.14773152263045675,0.5584931324957549,-1.5920165811833074,0.35626262177872164,0.21355865975284763,-0.45550761623313485,0.22607697794343884,-0.13478742949760525,0.8941054768770518,0.36899636664787755,0.8485658767859828,2.006440932599809,0.011935119293040836,-0.08190946392293491,0.05367155929790248,0.22884236097727667,0.2789549435181091,-0.6195368923427003,0.16046526749961262,0.6983081225979428,1.9863688222470517,-0.13305982351613702,0.15589228504984914,0.3065808460330323,0.14039315714685546,-1.8872692781805251,-0.16759328471951834,-0.612455000736882,0.7384523433034572,-0.061621926891613076,0.5040229476217373,-0.07435567176076893,-0.763278631420944,0.22607697794343884,-0.03636986383186595,-0.1274490640140039,0.5205073245668518,0.4028399989221602,1.174466016228502,0.2578450561129824,0.35730039883109116,0.04931395696471745,-0.2960513225733329,0.22607697794343884,-0.08294724097530451,0.06204770183387333,-0.26698401368984126,0.029241846611960248,0.3244945436091782,-1.9200751334024382,0.17216123531639893,0.35730039883109116,0.864536588264082,-0.3368025135360737,0.07478144670302928,-0.01090237409355406,0.23777294576022512,-0.9030936215231319,0.11492566740854365,0.07374366965065965,-0.16759328471951834,-1.6110509144836949,0.7479898983436322,0.31611840107320727,-0.8374819110793056,0.2743819610683456,0.15942749044724305,0.8094594331328381,-0.3426697934779759,0.13474130388351796,-0.16759328471951834,0.08647741451981558,-0.46388375876910576,0.06100992478150377,-0.2944591032739857,-0.6653329663115523,0.45273720134641426,-0.04910360870102181,-0.7304727761990307,-0.38989590578930866,-0.3383121911447909,-0.0374076408842355,0.04197559148111617,-0.5612635473824754,-0.4039239015886171,-0.6396090026954575,0.1859327572379245,-0.36007081371781186,-0.9018404177921975,-0.1475211743667611,-0.1475211743667611,-1.709468480149434,-0.13478742949760525,-1.9200751334024382,-0.010253638925659989,-0.9221279548235195,-0.33999870336505467,-0.6851486027865265,-0.5357960576441636,-0.49668961399101874,-1.0543891527635418,-1.422591925688187,-0.6141415129571457,-0.6469473681790587,-1.2056846840039515,-1.643856769705608,-1.3041022496696908,-1.1528067184292812,-1.1490035583430735,-0.5029902024222506,-0.8046760558573925,-1.9173508441298048,-1.1642872595675025,-1.3824477049826729,-0.8247481662101498,-1.0343170424107846,-1.422591925688187,-1.4724891281124413,-0.9696105410126352,-0.8237103891577802,-0.8437824995105374,-0.4514064877777326,-1.5993549466669086,-1.0533513757111723,-1.5993549466669086,-1.9200751334024382,2.0053163863497567,1.8685898974541992,1.8419554031679461,1.4621858899220859,1.5661280624689515,1.683795388113643,1.4966547373776815,1.7829060766576157,2.7678764321910294,1.8357194284845002,1.8150188090012958,2.286323159174916,1.625177388979282,-1.6221216671191683,-1.6904341468490465,-1.6776357882321047,-1.754943466492717,-1.754943466492717,-1.7749509630976885,-1.7345913157136095,-1.7749509630976885,-1.7345913157136095,-1.7749509630976885,-1.7176507814420474,-1.746653476577753,-1.7376582780470187,-1.814965956307631,-1.7376582780470187,-1.7376582780470187,-1.6972986306629396,-1.5097664363483163,-1.7946138055285235,-1.8349734529126025,-1.8021675976906895,-1.7448674160350486,-1.6845002720459978,-1.7648749126400198,-1.8021675976906895,-1.3730184085795376,-1.6982254251438242,-1.6578657777597452,-1.7648749126400198,-1.7938776077757255,-1.3463839142932843,-1.7648749126400198,-1.6142907492019296,-1.640925243488183,-1.700947733303097,-1.5569905675462885,-1.9222125773205174,-1.6609327400931544,-1.510348576655064,-1.6481343814762126,-1.7720840506280495,-1.4002350431725386,-1.703771570898171,-1.6982234440304633,-1.8693992254936334,-1.5041772157194042,-1.7454495563417962,-1.5342587816686837,-1.8493917288886619,-1.2762853740207016,-1.0083785391120563,-1.1896283899195346,-1.7454495563417962,-1.701529873609845,-1.5686865353630746,-1.588694031968046,-1.3004350462802932,-1.8566008668766913,-1.4913788571024622,-0.8916380079482488,-1.464744362816209,-1.6287090251779885,-1.5714088435223479,-1.8162412194926123,-1.1523337237555042,-1.531393850312405,-0.7988096629114216,-1.622537664242329,-1.5486770576447426,-1.8560006258207034,-1.6386404713252913,-1.3480038316524021,-1.7865023266041085,-1.5686845542497145,-1.224054162500565,-1.284076652315479,-1.2034625444754854,-1.7398603357128841,-1.1464018300658163,-1.9038249980746638,-1.216843043399175,-1.525804629683493,-1.3148533222563525,-0.969983463261231,-1.9510491292726362,-1.2378902981698765,-1.707054480490971,-1.5347998282142274,-1.124014698362348,-0.8193992998231409,-1.1273211279417288,-1.7270619770959426,-1.4857896364735501,-1.4929987744615798,-1.245099436157906,-1.2820474670344395,-1.0811347737961263,-1.0972375808790888,-1.4729912778566085,-0.7020746472392253,-1.5903139493271634,-1.5903139493271634,-1.6031103268307445,-0.8666234310211129,-1.0044092358422616,-1.2495862659866626,-0.7565098975385874,-1.5536034045832416,-1.4096462388264335,-1.4735734181633562,-0.9243792494223761,-1.2323010775409642,-1.4135509283484422,-1.5375005975002793,-1.2923235673558782,-1.1850749652296313,-1.3362432500878296,-1.2896012591966055,-1.3762582432977724,-1.2128757212427408,-1.356832886999549,-1.5913517263795334,-1.4807825561513857,-1.3368253903945775,-0.5797468765598661,-1.5843800745241152,-1.2567954039746925,-1.5274245470426102,-1.276458246405527,-0.5731198788785844,-1.4207600663364717,-0.8476537114685114,-1.2128757212427408,-1.748689391060031,-0.8204350957621499,-1.1928682246377693,-1.7047697083280797,-1.4079617077195297,-1.37066902266886,-1.1600623694158563,-1.0624025403761361,-0.9716013995069878,-0.4402765406318146,-1.5519188734763383,-1.494618691820697,-1.5546411816356112,-0.8282283551702877,-1.1827921741801004,-0.9960977070540763,-1.0555360754488823,-0.8504775490635856,-1.1583993771821735,-1.4106840158788028,-1.4546036986107544,-0.06724515181356758,-1.5657550091456498,-1.3178556708419755,-0.7153925135284893,-1.0899638291432734,-1.3145492412625945,-1.1138760152702536,-1.3817828501788987,-1.6030476941963194,-1.0672340243790293,-1.3151333626827026,-1.0738610220603109,-1.2951258660777316,-0.9299038563035023,-1.3217603603639845,-1.5057325193307358,-0.6153550305036327,-0.9167608435124243,-1.5368538434457453,-1.4729266641088228,-1.0371504773163889,-1.3089620017470431,-1.0138365511320362,-0.8698793853752279,-1.2689470085371002,-1.2419678600767106,-0.8304485135853934,-0.9499093717951131,-1.5568613400507167,-0.8504560101903648,-0.9893261050624286,-0.6736929892116434,-0.07336801863732173,-1.028256808221456,-0.4458011475129409,-0.7399978225337027,-0.96160732072526,-0.837657651573423,-1.1889150410038543,-0.060571641133740396,-1.1210831721449226,-1.1294766726090486,-1.2161336567102157,-1.019363139126523,-0.8950688158005496,-1.3829221566670695,-0.9154209665796573,-1.0154584496045143,-1.1733943742276398,-1.2206204865389727,-1.2606354797489152,-1.1967083004119925,-1.3033727811181308,-0.6875291248809547,-1.3006504729588577,-1.2278296245270022,-0.738657945600936,-1.396183025405718,-0.851491806129374,-1.387889597366773,-1.3114196462947603,-0.8826151113577443,-1.0670713193194228,-1.3780691337909559,-1.387889597366773,-0.6747307662640131,-1.0399527760382423,-1.3517792936788393,-1.3016882500112275,-1.1373789334753117,-1.0537889117075536,-1.2657173411440845,-1.0494036113145984,-0.5980052283101484,-1.635786954557086,-1.2586062944678758,-1.2550462591200031,-1.1177160910444766,-1.2989659418519548,-0.2900834001915604,-2.3481332423443364,-1.2350387625150316,-1.3189734384569258,-1.462930604213734,-0.8170034009139181,-1.2088599049744004,-0.7930912147869379,-1.2022329072931186,-1.121858266699097,-1.0009755598806693,-1.1210205395104973,-0.9979085975472598,-1.4501322455967924,-1.2288674015793717,-1.2088599049744004,-0.6425070513488478,-0.9337419509643649,-2.1386805582047628,-1.6895238724886399,-1.057931087362174,-1.078283238141282,-1.1422104174782046,-0.5932537348698358,-0.45201887727230033,-0.5162907107833598,-0.536298207388331,-0.4881291809602343,-0.9171424133745762,-1.1294120588612626,-1.2933767212230423,-0.7575630514057518,-0.37954268301458094,-1.9652219856920625,-0.47685785788016466,-0.8922818938934908,-0.7241730747637304,-1.2605708660011292,-1.3445055419430234,-1.1832631877405169,-0.5592654982851868,-0.8275169873679683,-0.8286993687307043,-1.1366211968492925,-1.0765987070343785,-0.9920799096723755,-0.9326415412775698,-1.2002037220120787,-0.9353638494368427,-0.595720456147257,-1.0437928518124655,-1.0638003484174365,-0.39954819850619183,-0.11884498609396543,0.1412490316466811,-1.6440177499616058,-0.3228246416656877,-2.144692652204797,-1.206575132811509,-1.1638378314422935,-1.0234407010333575,-1.3866426022562512,-0.8798281894506854,-1.1877500175692737,-1.2277650107792162,-0.5468117938423813,-1.039304040870348,-1.5671941206959206,-0.8998356860556568,-0.9908814086737602,-0.9553693649284537,-0.9198431826606281,-0.9070448240436864,-1.1349366657423892,-0.8866926732645787,-0.8093849950039662,-0.2299962966288606,-0.7418977803191708,-0.571904380218737,-0.5618283297610683,0.15795749902297318,-1.3737280515782486,-1.1221383071254476,-1.0821233139155046,-1.7028397576645433,-0.8742389688217733,-1.8378051630145984,-0.7102743064599937,-1.0982261209984674,-0.5290244556525157,-2.0896091908402807,-1.4743637945457326,-0.5490319522574869,-0.7102743064599937,-0.8142164790068592,-0.8410884594257237,-1.069324955298563,-1.012508822637849,-0.11715847387370168,-1.0537061972105277,-0.5562410902455165,-1.1093399485085056,-0.20049488987296815,-0.6930906474500967,-0.44839422817664204,-0.9853902793566686,-0.007629061811284324,-0.8053208287985659,-0.9525844241347554,-0.45950805568668057,-0.23942903115597644,-1.9129442611733805,-0.2238068349439605,-0.5195305455015946,-0.6956933254243279,-0.6195680285264513,-0.8518486087420899,-0.7039867534632728,-0.996504106866707,-1.0880373166037183,-0.8474598702251539,-1.0275273396698963,-0.5007054302593592,-0.2955414122115405,-0.7429174566223002,0.2408705175483776,-0.09995525710394423,-0.6885802976347587,-0.6345865455584987,-0.71579891334112,-0.24391242286075251,-1.45607628772506,-0.9436907550398225,-0.6757839201311774,-0.8397485824929569,-0.4278845818275035,-0.8958663827858622,-0.6829930581192067,-0.737928477049376,0.5898916289278232,-0.301807636082806,-0.9108848998179092,-0.7669277340611009,-0.8119297257306074,-0.04595952391432368,-0.737928477049376,-0.2579860446626752,-0.15711083444921892,-0.41720829031384643,-0.4894288976897142,-0.6690123181395291,-0.5133410838166945,-0.7137697280600803,-0.8058618753441094,-0.8580715479910249,-0.6301797062923223,-0.6101722096873511,-0.11649560018328811,-1.2281379330278122,-0.7330410269122535,-0.9219967462145874,-0.5773663544654379,-0.1054798639850704,-0.5839967902707004,-0.055992499497427704,-0.4444249249068473,-0.13992717543932193,-0.09708636352094441,-0.21653308320814482,-0.28945202295182143,-0.000010655901332486117,-0.6712324765546347,-0.1676244209032693,0.5365392116687557,-0.7724523409422274,-0.3476918903480115,-0.9364170033040069,-0.6485026717903905,-0.6885176650003332,-0.7395483944084935,-0.2294275520235469,-0.9036111480820939,-0.05088388973946193,-1.0435635518917123,-0.07089138634443332,0.5071327089271629,-0.719638989115343,-0.8435886582671798,-0.5114099898474753,-0.3077749884498894,-0.6757193063833914,-0.4513875000325613,-0.8107828030452667,-0.38993048009704045,0.5499412494656666,-0.3059923660311654,-0.11065981669206038,-0.5228684715316503,-0.6868331338934299,-0.18594738640133734,0.44990376644080987,-0.32778050394150027,-0.4189262989847846,0.4538084559628184,0.5216403248217505,-0.04979959968854674,-0.37500661625283305,-0.5828909613465643,-0.6464734865093509,-0.1037933517648067,0.23016595796026137,0.21089809723206887,-0.3104791958599222,-0.26217077461103455,-0.3457607963787924,0.0708456209972694,-0.07429392612227476,0.034735317309335656,-0.6857522819664955,-0.6294167601767279,-0.5100701129147085,-0.7340572650914022,-0.360681222099019,-0.5100701129147085,0.018977164400509373,-0.3661129471579002,-0.34220076103091995,-0.4461429335777856,-0.39332958175090116,0.7595101256663007,-0.5172792509027381,-1.4486432690536186,-0.4972717542977667,-0.39332958175090116,-0.5572942441126808,-0.7651785892064119,-0.3889442813579459,-0.32006598783308826,-1.080211464001209,0.06245410164650389,-1.2415932130245064,-0.26868158023125555,-0.33330709193598707,0.1086404557921066,-0.511247284787869,-0.5911378763869636,-0.5884155682276906,-0.6284305614376332,0.13255264191908683,-0.05532420656967308,-0.668445554647576,0.260887611463879,-0.7105860530847844,-0.49524256901672703,-0.01945138901435075,-0.18662240853033057,0.6089440629774514,0.3693381527127222,-0.6156322028206915,-0.1708642556215042,-0.37484391119322663,-0.5956247062157202,-0.22768038828221823,-0.5356022164008061,-1.042900678201299,-0.20376820215523805,-0.1864830137095396,-0.454873897613112,-0.7195743753675571,-0.3077103747021036,-0.6795593821576144,0.47752966895573307,-1.5353768055933859,-0.4188616852369988,0.20597373140693073,0.19425966284090415,-0.6977842563438617,-0.15095485032835354,-0.006997684571545308,-0.09093236051343948,-0.5782233257089608,-0.5100054991669225,-0.2181864781312972,-0.16206867783839202,-0.20208367104833472,-0.2617615066891124,1.0947132021256756,-0.46999050595698,-0.05778185111739003,-0.38605583001508575,0.2669411164519691,-0.05778185111739003,-0.2977358536802362,-0.22209116765330608,-0.373257471398144,-0.373257471398144,-0.25203354852956056,0.3638135458315959,-0.17248417298062169,-0.07196264096083779,-0.3395248216953466,-0.7361147184469011,0.3594267884280202,0.3805165939705465,-0.48440878193303916,-0.5515423184241621,0.4838605065747845,0.5601000144203616,-0.4040341413390173,-0.7477125949518668,-0.05525959282188716,-0.48440878193303916,0.5044662631223834,0.0643013378130137,-1.0039053612944855,-0.05195316324250598,-0.6629492158409089,0.31718965568961177,-0.15469683479075585,0.1042182397111357,-0.34435432458487925,-0.27830184976845646,-0.4987289665972777,0.31280091717267583,0.033180013698003975,-0.14368109859253814,0.041473441736948766,-0.09467434497584179,0.15322499332783207,-0.234824912522462,0.46257576567147163,0.19704658474796286,0.30098875729482844,-0.07051559598654597,-0.09086774676565368,-0.27483990573240474,-0.234824912522462,0.045978372314945656,-0.5027317474311072,-0.3304770951543634,0.49395267666833303,-0.1336050481348693,0.16662359300076185,0.2737721227018275,-0.3059612298474145,-0.22202655390552026,0.23493951085462078,0.778562559715929,-0.3259687264523858,-0.2976712399324503,0.6456211301573384,-0.09807688475368329,-0.03805439493876924,-0.2020190573005489,-1.0767812261635972,-0.3259687264523858,-0.07189802721305197,-0.2092281952885785,0.7560793178140003,0.07630848223990158,0.0869761261400022,0.3465929711336833,-0.1364073468567227,0.8996938105100326,-0.4243216783703392,0.9246848674505869,0.212572461013753,0.47671400122118024,0.00754981890008561,0.016541579306839214,0.29274184225442923,-0.4043141817653679,0.4534020561501882,-0.6426215186063001,-0.1436164848447523,0.7613238842687762,0.18549522124154288,-0.16362398144972368,0.29285803431548973,0.28825501242567253,0.20432033648377834,-0.08631630318911118,-0.30319584681357664,-0.20754366418167516,-0.2475586573916179,0.04070032829613506,0.7333676137989958,-0.10360149163480961,-0.5786943392693771,0.097073715470892,0.42949185113656846,-0.09080313301786788,0.8380494222226407,0.22432981420211015,-0.11081062962283925,0.026519538452687327,0.33395731757634817,0.3933815474486346,-0.03798978119098343,1.033637558443597,0.9308777672594678,-0.9376287960468852,2.166814423429965,0.287217235373303,-0.03798978119098343,-0.03798978119098343,0.24992455032263322,-0.5970173047674452,-0.2285889378390161,0.3072247319782744,-0.12903550380908654,0.39388171607944145,0.6357542977578218,0.6945944062099998,0.5423438124142468,0.3803902345842665,1.0437136089012662,0.07212375229154219,-0.005183925969070302,0.4266875713013546,0.01482357063590102,1.107640788238189,0.44787744926906187,0.8161664213767001,-0.08082861199600044,0.018728260157909876,-0.31310575408765823,0.3427548764728209,0.2955287641614881,0.1927689729773584,0.37946344010338223,-0.07904255145329564,0.37674113194410935,-0.2602924022607737,0.9725772915763139,0.6479543964321358,0.5807207875158317,0.07592691237774958,-0.4074559251717821,0.31281395260718653,1.0282110428742919,-0.056310765575691014,0.14436246041665013,0.8697159709563826,0.576233957687075,0.24996762519719806,0.4539472807689205,-0.20737897800870814,0.08433997060173606,-0.8065215672202939,-0.41466506315981166,0.7339162765417092,-0.682571898068457,0.5652182214888573,-0.6025419116485716,0.24830463296351574,0.6174313322597537,0.20472960440570054,-0.08352938128205237,-0.08352938128205237,-0.07073102266511064,0.3784256630510127,0.9620637051222635,-0.013430841009469466,0.3387553240152064,0.19717581224353461,0.9985186629843338,0.3862350420950304,0.05321864648672629,5.316401494395537,1.073717165401326,-0.1818823332000058,0.10993668783561958,-0.16187483659503446,0.18996667425550498,0.5791008701567143,-0.08066246881241315,0.6786543041866439,-0.1818823332000058,0.27390135019739925,0.3312015318530404,0.3906418813612066,0.2161455317961363,-0.02512680882625578,-0.1490764779780927,0.5279720494367331,0.9225508616564883,0.2431246802565258,0.34730632004936335,1.3956197334995912,0.15884535014049517,0.11610804877127959,0.691354571491765,0.4968507253217233,0.5707113319193092,0.6686247667275206,-0.032335946814285414,1.1805262504178307,0.26386837461429524,0.11162121894252283,0.1516362121524656,0.872604422299243,-0.15628561596612234,-0.008423760687305215,0.23557088809435983,0.7886697463573488,2.9668489098277275,0.5007554148437321,0.7319536861218158,0.21556339148938847,0.41682073890183796,0.2089363938081067,0.28896836134135256,0.6802407439817265,0.18834675689638752,0.4296190975187797,0.24836924671130156,0.45956002138441404,0.7002482405866979,0.1776756748723061,0.5939284140546957,0.9353512013867905,-0.18350225055912325,0.16171226261013436,0.20835425350135883,0.9454252707310988,0.425132267690023,1.2261304642566855,0.9009234476923995,0.854281456801175,0.1948627720061839,0.05328326023451212,0.5173569335468813,0.861492575902565,0.5290744402368885,0.2611676053282433,-0.09067390552229615,0.20553041590628449,0.08050187594087355,0.5335632511790057,0.39849777340376985,0.3579006398870793,0.2912511523908835,0.7431301462662797,0.1464562594454756,0.06608161885145387,0.3539959503650704,0.314565078575236,-0.3689962355731712,0.7897721371575043,0.0343566155564752,0.08643376963056155,0.21003878460826214,0.9776489856462641,0.3139809571551277,0.04607412224648248,0.2912511523908835,0.2231817973993403,1.215616877802635,1.0638503330018092,0.18282215001526123,0.6119713391264132,0.4907439781338491,0.16281465341028983,0.6802838188562913,1.0669172953352186,0.86259298558936,0.624769697743355,0.8314716614743503,0.6478441566817356,0.43072346943229567,-0.3747764293361489,0.019457728709469727,-0.023981343151535356,0.1316933292952802,0.5408350218014607,0.717598042780182,0.5163406953677325,0.47632570215778997,0.4496912078715368,0.3723835296109243,0.2523385499810962,0.8242625234863206,-0.026682112437587356,0.2612322190760291,0.24122472247105775,0.2228802180997688,1.2862175678193855,1.1288799031388879,0.07063306242799654,0.35854739394161306,0.10117224623625837,1.2426425392615703,0.6291785181228916,0.579230097652286,0.5392151044423432,0.35406056411285625,0.6792675806771427,0.6862392325325608,1.2550962437043758,0.3012491933993323,0.3713457525585547,0.26774823418582555,0.5153029183153629,0.6720584426891131,0.7203634258140198,0.8360231050508927,0.4719834766393996,0.919957780992787,0.7960081118409501,0.4507935986716923,0.3268439295198553,0.5281012769323048,0.43695746300238086,0.2562917336150112,1.3646276368801533,0.8154334681391735,0.8554484613491162,1.5485997958469042,1.0194131237108959,0.5041910719186851,0.6492271084890673,0.3196347915318257,0.9327561396097287,0.4569649596073523,0.40974082840937986,1.2734838229502294,1.1322489653526941,0.4969819339306553,0.5937129873761309,0.4124631365686528,0.3697258351994372,0.5169894305356266,1.0650173375497507,0.3986270008993416,0.6265188425980441,0.4852839850005088,0.4269244874192772,0.6292411507573171,1.3705615116832022,0.8344031876917753,0.46255418023626454,0.6265188425980441,0.8371254958510482,0.2177218042659999,0.8571329924560196,1.6381236924177107,0.5892281386607346,0.31411018465069934,0.9171574633842939,1.225079291502882,0.44196454332454516,1.1978606757965202,0.542002026349402,0.6593246978199571,0.424223718133225,0.45144233383958643,0.9310346928148098,-0.13765261716363594,0.6921305530418702,0.7521530428567843,1.2510186817975413,0.7960727255887359,0.6148228747812577,0.8115933923649504,0.6876437232131135,0.8216694428226194,0.936623913443722,1.1578887574611427,1.0083639099486432,0.7532554336569399,1.5369684417779041,0.8136225776459903,0.5465534699259447,0.9345052844644179,-0.007029437331971422,1.0988146010003337,0.7305256288926957,0.5692832746901889,0.41869911125209885,2.313472311910839,0.8699959648207473,0.8033464773245514,0.5997114759269655,0.7525623107787065,1.2707461379761622,1.214628337683257,1.0267514891944967,1.7537484370799288,1.0273356106146054,1.3250865253399187,0.6210588494647036,0.8889656843733489,2.235126856597857,1.8193581664103944,1.0368275396521658,2.884358508363693,0.8689581877683774,2.044527699949824,0.8050310084314547,1.951701336026357,1.1296558846889928,0.8050329895448151,1.0284360203014005,1.249700864318821,1.2936205470507727,0.7981665246175614,0.9884210270914581,1.389515854421009,2.6247632022432335,0.6093628816479174,0.8106202290603669,1.234542952465983,1.5386960477593723,0.7021912266847445,1.1412738430565594,2.329639732741587,1.321939572443929,0.8162094496892789,1.8121921032969297,0.668692248584598,1.2208643123667025,1.1130174502978283,1.4009317818114446,1.2908202294422793,0.41547737728310385,1.3039612611199973,1.0084931374442152,1.33760484353051,1.3937226438234152,1.005770829284942,1.327530774186202,1.5176723129752523,0.9484706476293011,1.2625638366835488,1.406521002440357,1.9895607845689802,1.60433127818978,1.1852561584229362,1.342593823103434,0.9845829324305951,1.3793043678473558,1.4020341726116,1.171420022753625,1.3948250346235704,1.3308978552866477,1.7200320511878568,0.7979510979389967,1.0685802410069145,1.661694092479846,1.8267396067685606,1.2453432619856362,1.845668232559958,1.9223917894004618,1.4538117284994756,1.4265931127931144,1.526048455511223,1.4393914714100557,0.9702272890889615],\"yaxis\":\"y\",\"type\":\"scattergl\"}],                        {\"template\":{\"data\":{\"histogram2dcontour\":[{\"type\":\"histogram2dcontour\",\"colorbar\":{\"outlinewidth\":0,\"ticks\":\"\"},\"colorscale\":[[0.0,\"#0d0887\"],[0.1111111111111111,\"#46039f\"],[0.2222222222222222,\"#7201a8\"],[0.3333333333333333,\"#9c179e\"],[0.4444444444444444,\"#bd3786\"],[0.5555555555555556,\"#d8576b\"],[0.6666666666666666,\"#ed7953\"],[0.7777777777777778,\"#fb9f3a\"],[0.8888888888888888,\"#fdca26\"],[1.0,\"#f0f921\"]]}],\"choropleth\":[{\"type\":\"choropleth\",\"colorbar\":{\"outlinewidth\":0,\"ticks\":\"\"}}],\"histogram2d\":[{\"type\":\"histogram2d\",\"colorbar\":{\"outlinewidth\":0,\"ticks\":\"\"},\"colorscale\":[[0.0,\"#0d0887\"],[0.1111111111111111,\"#46039f\"],[0.2222222222222222,\"#7201a8\"],[0.3333333333333333,\"#9c179e\"],[0.4444444444444444,\"#bd3786\"],[0.5555555555555556,\"#d8576b\"],[0.6666666666666666,\"#ed7953\"],[0.7777777777777778,\"#fb9f3a\"],[0.8888888888888888,\"#fdca26\"],[1.0,\"#f0f921\"]]}],\"heatmap\":[{\"type\":\"heatmap\",\"colorbar\":{\"outlinewidth\":0,\"ticks\":\"\"},\"colorscale\":[[0.0,\"#0d0887\"],[0.1111111111111111,\"#46039f\"],[0.2222222222222222,\"#7201a8\"],[0.3333333333333333,\"#9c179e\"],[0.4444444444444444,\"#bd3786\"],[0.5555555555555556,\"#d8576b\"],[0.6666666666666666,\"#ed7953\"],[0.7777777777777778,\"#fb9f3a\"],[0.8888888888888888,\"#fdca26\"],[1.0,\"#f0f921\"]]}],\"heatmapgl\":[{\"type\":\"heatmapgl\",\"colorbar\":{\"outlinewidth\":0,\"ticks\":\"\"},\"colorscale\":[[0.0,\"#0d0887\"],[0.1111111111111111,\"#46039f\"],[0.2222222222222222,\"#7201a8\"],[0.3333333333333333,\"#9c179e\"],[0.4444444444444444,\"#bd3786\"],[0.5555555555555556,\"#d8576b\"],[0.6666666666666666,\"#ed7953\"],[0.7777777777777778,\"#fb9f3a\"],[0.8888888888888888,\"#fdca26\"],[1.0,\"#f0f921\"]]}],\"contourcarpet\":[{\"type\":\"contourcarpet\",\"colorbar\":{\"outlinewidth\":0,\"ticks\":\"\"}}],\"contour\":[{\"type\":\"contour\",\"colorbar\":{\"outlinewidth\":0,\"ticks\":\"\"},\"colorscale\":[[0.0,\"#0d0887\"],[0.1111111111111111,\"#46039f\"],[0.2222222222222222,\"#7201a8\"],[0.3333333333333333,\"#9c179e\"],[0.4444444444444444,\"#bd3786\"],[0.5555555555555556,\"#d8576b\"],[0.6666666666666666,\"#ed7953\"],[0.7777777777777778,\"#fb9f3a\"],[0.8888888888888888,\"#fdca26\"],[1.0,\"#f0f921\"]]}],\"surface\":[{\"type\":\"surface\",\"colorbar\":{\"outlinewidth\":0,\"ticks\":\"\"},\"colorscale\":[[0.0,\"#0d0887\"],[0.1111111111111111,\"#46039f\"],[0.2222222222222222,\"#7201a8\"],[0.3333333333333333,\"#9c179e\"],[0.4444444444444444,\"#bd3786\"],[0.5555555555555556,\"#d8576b\"],[0.6666666666666666,\"#ed7953\"],[0.7777777777777778,\"#fb9f3a\"],[0.8888888888888888,\"#fdca26\"],[1.0,\"#f0f921\"]]}],\"mesh3d\":[{\"type\":\"mesh3d\",\"colorbar\":{\"outlinewidth\":0,\"ticks\":\"\"}}],\"scatter\":[{\"fillpattern\":{\"fillmode\":\"overlay\",\"size\":10,\"solidity\":0.2},\"type\":\"scatter\"}],\"parcoords\":[{\"type\":\"parcoords\",\"line\":{\"colorbar\":{\"outlinewidth\":0,\"ticks\":\"\"}}}],\"scatterpolargl\":[{\"type\":\"scatterpolargl\",\"marker\":{\"colorbar\":{\"outlinewidth\":0,\"ticks\":\"\"}}}],\"bar\":[{\"error_x\":{\"color\":\"#2a3f5f\"},\"error_y\":{\"color\":\"#2a3f5f\"},\"marker\":{\"line\":{\"color\":\"#E5ECF6\",\"width\":0.5},\"pattern\":{\"fillmode\":\"overlay\",\"size\":10,\"solidity\":0.2}},\"type\":\"bar\"}],\"scattergeo\":[{\"type\":\"scattergeo\",\"marker\":{\"colorbar\":{\"outlinewidth\":0,\"ticks\":\"\"}}}],\"scatterpolar\":[{\"type\":\"scatterpolar\",\"marker\":{\"colorbar\":{\"outlinewidth\":0,\"ticks\":\"\"}}}],\"histogram\":[{\"marker\":{\"pattern\":{\"fillmode\":\"overlay\",\"size\":10,\"solidity\":0.2}},\"type\":\"histogram\"}],\"scattergl\":[{\"type\":\"scattergl\",\"marker\":{\"colorbar\":{\"outlinewidth\":0,\"ticks\":\"\"}}}],\"scatter3d\":[{\"type\":\"scatter3d\",\"line\":{\"colorbar\":{\"outlinewidth\":0,\"ticks\":\"\"}},\"marker\":{\"colorbar\":{\"outlinewidth\":0,\"ticks\":\"\"}}}],\"scattermapbox\":[{\"type\":\"scattermapbox\",\"marker\":{\"colorbar\":{\"outlinewidth\":0,\"ticks\":\"\"}}}],\"scatterternary\":[{\"type\":\"scatterternary\",\"marker\":{\"colorbar\":{\"outlinewidth\":0,\"ticks\":\"\"}}}],\"scattercarpet\":[{\"type\":\"scattercarpet\",\"marker\":{\"colorbar\":{\"outlinewidth\":0,\"ticks\":\"\"}}}],\"carpet\":[{\"aaxis\":{\"endlinecolor\":\"#2a3f5f\",\"gridcolor\":\"white\",\"linecolor\":\"white\",\"minorgridcolor\":\"white\",\"startlinecolor\":\"#2a3f5f\"},\"baxis\":{\"endlinecolor\":\"#2a3f5f\",\"gridcolor\":\"white\",\"linecolor\":\"white\",\"minorgridcolor\":\"white\",\"startlinecolor\":\"#2a3f5f\"},\"type\":\"carpet\"}],\"table\":[{\"cells\":{\"fill\":{\"color\":\"#EBF0F8\"},\"line\":{\"color\":\"white\"}},\"header\":{\"fill\":{\"color\":\"#C8D4E3\"},\"line\":{\"color\":\"white\"}},\"type\":\"table\"}],\"barpolar\":[{\"marker\":{\"line\":{\"color\":\"#E5ECF6\",\"width\":0.5},\"pattern\":{\"fillmode\":\"overlay\",\"size\":10,\"solidity\":0.2}},\"type\":\"barpolar\"}],\"pie\":[{\"automargin\":true,\"type\":\"pie\"}]},\"layout\":{\"autotypenumbers\":\"strict\",\"colorway\":[\"#636efa\",\"#EF553B\",\"#00cc96\",\"#ab63fa\",\"#FFA15A\",\"#19d3f3\",\"#FF6692\",\"#B6E880\",\"#FF97FF\",\"#FECB52\"],\"font\":{\"color\":\"#2a3f5f\"},\"hovermode\":\"closest\",\"hoverlabel\":{\"align\":\"left\"},\"paper_bgcolor\":\"white\",\"plot_bgcolor\":\"#E5ECF6\",\"polar\":{\"bgcolor\":\"#E5ECF6\",\"angularaxis\":{\"gridcolor\":\"white\",\"linecolor\":\"white\",\"ticks\":\"\"},\"radialaxis\":{\"gridcolor\":\"white\",\"linecolor\":\"white\",\"ticks\":\"\"}},\"ternary\":{\"bgcolor\":\"#E5ECF6\",\"aaxis\":{\"gridcolor\":\"white\",\"linecolor\":\"white\",\"ticks\":\"\"},\"baxis\":{\"gridcolor\":\"white\",\"linecolor\":\"white\",\"ticks\":\"\"},\"caxis\":{\"gridcolor\":\"white\",\"linecolor\":\"white\",\"ticks\":\"\"}},\"coloraxis\":{\"colorbar\":{\"outlinewidth\":0,\"ticks\":\"\"}},\"colorscale\":{\"sequential\":[[0.0,\"#0d0887\"],[0.1111111111111111,\"#46039f\"],[0.2222222222222222,\"#7201a8\"],[0.3333333333333333,\"#9c179e\"],[0.4444444444444444,\"#bd3786\"],[0.5555555555555556,\"#d8576b\"],[0.6666666666666666,\"#ed7953\"],[0.7777777777777778,\"#fb9f3a\"],[0.8888888888888888,\"#fdca26\"],[1.0,\"#f0f921\"]],\"sequentialminus\":[[0.0,\"#0d0887\"],[0.1111111111111111,\"#46039f\"],[0.2222222222222222,\"#7201a8\"],[0.3333333333333333,\"#9c179e\"],[0.4444444444444444,\"#bd3786\"],[0.5555555555555556,\"#d8576b\"],[0.6666666666666666,\"#ed7953\"],[0.7777777777777778,\"#fb9f3a\"],[0.8888888888888888,\"#fdca26\"],[1.0,\"#f0f921\"]],\"diverging\":[[0,\"#8e0152\"],[0.1,\"#c51b7d\"],[0.2,\"#de77ae\"],[0.3,\"#f1b6da\"],[0.4,\"#fde0ef\"],[0.5,\"#f7f7f7\"],[0.6,\"#e6f5d0\"],[0.7,\"#b8e186\"],[0.8,\"#7fbc41\"],[0.9,\"#4d9221\"],[1,\"#276419\"]]},\"xaxis\":{\"gridcolor\":\"white\",\"linecolor\":\"white\",\"ticks\":\"\",\"title\":{\"standoff\":15},\"zerolinecolor\":\"white\",\"automargin\":true,\"zerolinewidth\":2},\"yaxis\":{\"gridcolor\":\"white\",\"linecolor\":\"white\",\"ticks\":\"\",\"title\":{\"standoff\":15},\"zerolinecolor\":\"white\",\"automargin\":true,\"zerolinewidth\":2},\"scene\":{\"xaxis\":{\"backgroundcolor\":\"#E5ECF6\",\"gridcolor\":\"white\",\"linecolor\":\"white\",\"showbackground\":true,\"ticks\":\"\",\"zerolinecolor\":\"white\",\"gridwidth\":2},\"yaxis\":{\"backgroundcolor\":\"#E5ECF6\",\"gridcolor\":\"white\",\"linecolor\":\"white\",\"showbackground\":true,\"ticks\":\"\",\"zerolinecolor\":\"white\",\"gridwidth\":2},\"zaxis\":{\"backgroundcolor\":\"#E5ECF6\",\"gridcolor\":\"white\",\"linecolor\":\"white\",\"showbackground\":true,\"ticks\":\"\",\"zerolinecolor\":\"white\",\"gridwidth\":2}},\"shapedefaults\":{\"line\":{\"color\":\"#2a3f5f\"}},\"annotationdefaults\":{\"arrowcolor\":\"#2a3f5f\",\"arrowhead\":0,\"arrowwidth\":1},\"geo\":{\"bgcolor\":\"white\",\"landcolor\":\"#E5ECF6\",\"subunitcolor\":\"white\",\"showland\":true,\"showlakes\":true,\"lakecolor\":\"white\"},\"title\":{\"x\":0.05},\"mapbox\":{\"style\":\"light\"}}},\"xaxis\":{\"anchor\":\"y\",\"domain\":[0.0,1.0],\"title\":{\"text\":\"PC1\"}},\"yaxis\":{\"anchor\":\"x\",\"domain\":[0.0,1.0],\"title\":{\"text\":\"PC2\"}},\"coloraxis\":{\"colorbar\":{\"title\":{\"text\":\"kmeans_cluster\"}},\"colorscale\":[[0.0,\"#0d0887\"],[0.1111111111111111,\"#46039f\"],[0.2222222222222222,\"#7201a8\"],[0.3333333333333333,\"#9c179e\"],[0.4444444444444444,\"#bd3786\"],[0.5555555555555556,\"#d8576b\"],[0.6666666666666666,\"#ed7953\"],[0.7777777777777778,\"#fb9f3a\"],[0.8888888888888888,\"#fdca26\"],[1.0,\"#f0f921\"]]},\"legend\":{\"tracegroupgap\":0},\"title\":{\"text\":\"KMeans clusters on PCA\"}},                        {\"responsive\": true}                    ).then(function(){\n",
              "                            \n",
              "var gd = document.getElementById('770d93b7-81af-44bc-8df3-d0653f6b4f9d');\n",
              "var x = new MutationObserver(function (mutations, observer) {{\n",
              "        var display = window.getComputedStyle(gd).display;\n",
              "        if (!display || display === 'none') {{\n",
              "            console.log([gd, 'removed!']);\n",
              "            Plotly.purge(gd);\n",
              "            observer.disconnect();\n",
              "        }}\n",
              "}});\n",
              "\n",
              "// Listen for the removal of the full notebook cells\n",
              "var notebookContainer = gd.closest('#notebook-container');\n",
              "if (notebookContainer) {{\n",
              "    x.observe(notebookContainer, {childList: true});\n",
              "}}\n",
              "\n",
              "// Listen for the clearing of the current output cell\n",
              "var outputEl = gd.closest('.output');\n",
              "if (outputEl) {{\n",
              "    x.observe(outputEl, {childList: true});\n",
              "}}\n",
              "\n",
              "                        })                };                            </script>        </div>\n",
              "</body>\n",
              "</html>"
            ]
          },
          "metadata": {}
        }
      ]
    },
    {
      "cell_type": "markdown",
      "source": [
        "**Why this clustering?**\n",
        "\n",
        "**K-Means:** Groups patients by natural similarity in healthcare patterns using optimal K from silhouette analysis.\n",
        "\n",
        "**GMM:** Alternative probabilistic clustering for comparison.\n",
        "\n",
        "**Insight:**\n",
        "\n",
        "Clear color-coded clusters reveal distinct patient subgroups—enables targeted intervention strategies based on risk profiles and resource utilization patterns, complementing multimorbidity predictions.\n",
        "\n",
        "----------------------------------------"
      ],
      "metadata": {
        "id": "c602i8HFLawh"
      }
    },
    {
      "cell_type": "markdown",
      "source": [
        "# **9. CTGAN Modelling**\n",
        " — generate synthetic samples & augment training\n",
        "\n"
      ],
      "metadata": {
        "id": "AQ-B3tAx5n8E"
      }
    },
    {
      "cell_type": "code",
      "source": [
        "!pip install ctgan\n",
        "!pip install --upgrade ctgan\n",
        "\n"
      ],
      "metadata": {
        "id": "FIgWrO08cAR5",
        "colab": {
          "base_uri": "https://localhost:8080/"
        },
        "outputId": "8acf8127-b9b8-4a3e-c334-882dda4748a8"
      },
      "execution_count": null,
      "outputs": [
        {
          "output_type": "stream",
          "name": "stdout",
          "text": [
            "Collecting ctgan\n",
            "  Downloading ctgan-0.11.0-py3-none-any.whl.metadata (10 kB)\n",
            "Requirement already satisfied: numpy>=1.26.0 in /usr/local/lib/python3.12/dist-packages (from ctgan) (2.0.2)\n",
            "Requirement already satisfied: pandas>=2.1.1 in /usr/local/lib/python3.12/dist-packages (from ctgan) (2.2.2)\n",
            "Requirement already satisfied: torch>=2.2.0 in /usr/local/lib/python3.12/dist-packages (from ctgan) (2.8.0+cu126)\n",
            "Requirement already satisfied: tqdm<5,>=4.29 in /usr/local/lib/python3.12/dist-packages (from ctgan) (4.67.1)\n",
            "Collecting rdt>=1.14.0 (from ctgan)\n",
            "  Downloading rdt-1.18.1-py3-none-any.whl.metadata (10 kB)\n",
            "Requirement already satisfied: python-dateutil>=2.8.2 in /usr/local/lib/python3.12/dist-packages (from pandas>=2.1.1->ctgan) (2.9.0.post0)\n",
            "Requirement already satisfied: pytz>=2020.1 in /usr/local/lib/python3.12/dist-packages (from pandas>=2.1.1->ctgan) (2025.2)\n",
            "Requirement already satisfied: tzdata>=2022.7 in /usr/local/lib/python3.12/dist-packages (from pandas>=2.1.1->ctgan) (2025.2)\n",
            "Requirement already satisfied: scipy>=1.12.0 in /usr/local/lib/python3.12/dist-packages (from rdt>=1.14.0->ctgan) (1.16.2)\n",
            "Requirement already satisfied: scikit-learn>=1.3.1 in /usr/local/lib/python3.12/dist-packages (from rdt>=1.14.0->ctgan) (1.6.1)\n",
            "Collecting Faker>=17 (from rdt>=1.14.0->ctgan)\n",
            "  Downloading faker-37.8.0-py3-none-any.whl.metadata (15 kB)\n",
            "Requirement already satisfied: filelock in /usr/local/lib/python3.12/dist-packages (from torch>=2.2.0->ctgan) (3.19.1)\n",
            "Requirement already satisfied: typing-extensions>=4.10.0 in /usr/local/lib/python3.12/dist-packages (from torch>=2.2.0->ctgan) (4.15.0)\n",
            "Requirement already satisfied: setuptools in /usr/local/lib/python3.12/dist-packages (from torch>=2.2.0->ctgan) (75.2.0)\n",
            "Requirement already satisfied: sympy>=1.13.3 in /usr/local/lib/python3.12/dist-packages (from torch>=2.2.0->ctgan) (1.13.3)\n",
            "Requirement already satisfied: networkx in /usr/local/lib/python3.12/dist-packages (from torch>=2.2.0->ctgan) (3.5)\n",
            "Requirement already satisfied: jinja2 in /usr/local/lib/python3.12/dist-packages (from torch>=2.2.0->ctgan) (3.1.6)\n",
            "Requirement already satisfied: fsspec in /usr/local/lib/python3.12/dist-packages (from torch>=2.2.0->ctgan) (2025.3.0)\n",
            "Requirement already satisfied: nvidia-cuda-nvrtc-cu12==12.6.77 in /usr/local/lib/python3.12/dist-packages (from torch>=2.2.0->ctgan) (12.6.77)\n",
            "Requirement already satisfied: nvidia-cuda-runtime-cu12==12.6.77 in /usr/local/lib/python3.12/dist-packages (from torch>=2.2.0->ctgan) (12.6.77)\n",
            "Requirement already satisfied: nvidia-cuda-cupti-cu12==12.6.80 in /usr/local/lib/python3.12/dist-packages (from torch>=2.2.0->ctgan) (12.6.80)\n",
            "Requirement already satisfied: nvidia-cudnn-cu12==9.10.2.21 in /usr/local/lib/python3.12/dist-packages (from torch>=2.2.0->ctgan) (9.10.2.21)\n",
            "Requirement already satisfied: nvidia-cublas-cu12==12.6.4.1 in /usr/local/lib/python3.12/dist-packages (from torch>=2.2.0->ctgan) (12.6.4.1)\n",
            "Requirement already satisfied: nvidia-cufft-cu12==11.3.0.4 in /usr/local/lib/python3.12/dist-packages (from torch>=2.2.0->ctgan) (11.3.0.4)\n",
            "Requirement already satisfied: nvidia-curand-cu12==10.3.7.77 in /usr/local/lib/python3.12/dist-packages (from torch>=2.2.0->ctgan) (10.3.7.77)\n",
            "Requirement already satisfied: nvidia-cusolver-cu12==11.7.1.2 in /usr/local/lib/python3.12/dist-packages (from torch>=2.2.0->ctgan) (11.7.1.2)\n",
            "Requirement already satisfied: nvidia-cusparse-cu12==12.5.4.2 in /usr/local/lib/python3.12/dist-packages (from torch>=2.2.0->ctgan) (12.5.4.2)\n",
            "Requirement already satisfied: nvidia-cusparselt-cu12==0.7.1 in /usr/local/lib/python3.12/dist-packages (from torch>=2.2.0->ctgan) (0.7.1)\n",
            "Requirement already satisfied: nvidia-nccl-cu12==2.27.3 in /usr/local/lib/python3.12/dist-packages (from torch>=2.2.0->ctgan) (2.27.3)\n",
            "Requirement already satisfied: nvidia-nvtx-cu12==12.6.77 in /usr/local/lib/python3.12/dist-packages (from torch>=2.2.0->ctgan) (12.6.77)\n",
            "Requirement already satisfied: nvidia-nvjitlink-cu12==12.6.85 in /usr/local/lib/python3.12/dist-packages (from torch>=2.2.0->ctgan) (12.6.85)\n",
            "Requirement already satisfied: nvidia-cufile-cu12==1.11.1.6 in /usr/local/lib/python3.12/dist-packages (from torch>=2.2.0->ctgan) (1.11.1.6)\n",
            "Requirement already satisfied: triton==3.4.0 in /usr/local/lib/python3.12/dist-packages (from torch>=2.2.0->ctgan) (3.4.0)\n",
            "Requirement already satisfied: six>=1.5 in /usr/local/lib/python3.12/dist-packages (from python-dateutil>=2.8.2->pandas>=2.1.1->ctgan) (1.17.0)\n",
            "Requirement already satisfied: joblib>=1.2.0 in /usr/local/lib/python3.12/dist-packages (from scikit-learn>=1.3.1->rdt>=1.14.0->ctgan) (1.5.2)\n",
            "Requirement already satisfied: threadpoolctl>=3.1.0 in /usr/local/lib/python3.12/dist-packages (from scikit-learn>=1.3.1->rdt>=1.14.0->ctgan) (3.6.0)\n",
            "Requirement already satisfied: mpmath<1.4,>=1.1.0 in /usr/local/lib/python3.12/dist-packages (from sympy>=1.13.3->torch>=2.2.0->ctgan) (1.3.0)\n",
            "Requirement already satisfied: MarkupSafe>=2.0 in /usr/local/lib/python3.12/dist-packages (from jinja2->torch>=2.2.0->ctgan) (3.0.3)\n",
            "Downloading ctgan-0.11.0-py3-none-any.whl (24 kB)\n",
            "Downloading rdt-1.18.1-py3-none-any.whl (74 kB)\n",
            "\u001b[2K   \u001b[90m━━━━━━━━━━━━━━━━━━━━━━━━━━━━━━━━━━━━━━━━\u001b[0m \u001b[32m74.3/74.3 kB\u001b[0m \u001b[31m2.3 MB/s\u001b[0m eta \u001b[36m0:00:00\u001b[0m\n",
            "\u001b[?25hDownloading faker-37.8.0-py3-none-any.whl (2.0 MB)\n",
            "\u001b[2K   \u001b[90m━━━━━━━━━━━━━━━━━━━━━━━━━━━━━━━━━━━━━━━━\u001b[0m \u001b[32m2.0/2.0 MB\u001b[0m \u001b[31m20.9 MB/s\u001b[0m eta \u001b[36m0:00:00\u001b[0m\n",
            "\u001b[?25hInstalling collected packages: Faker, rdt, ctgan\n",
            "Successfully installed Faker-37.8.0 ctgan-0.11.0 rdt-1.18.1\n",
            "Requirement already satisfied: ctgan in /usr/local/lib/python3.12/dist-packages (0.11.0)\n",
            "Requirement already satisfied: numpy>=1.26.0 in /usr/local/lib/python3.12/dist-packages (from ctgan) (2.0.2)\n",
            "Requirement already satisfied: pandas>=2.1.1 in /usr/local/lib/python3.12/dist-packages (from ctgan) (2.2.2)\n",
            "Requirement already satisfied: torch>=2.2.0 in /usr/local/lib/python3.12/dist-packages (from ctgan) (2.8.0+cu126)\n",
            "Requirement already satisfied: tqdm<5,>=4.29 in /usr/local/lib/python3.12/dist-packages (from ctgan) (4.67.1)\n",
            "Requirement already satisfied: rdt>=1.14.0 in /usr/local/lib/python3.12/dist-packages (from ctgan) (1.18.1)\n",
            "Requirement already satisfied: python-dateutil>=2.8.2 in /usr/local/lib/python3.12/dist-packages (from pandas>=2.1.1->ctgan) (2.9.0.post0)\n",
            "Requirement already satisfied: pytz>=2020.1 in /usr/local/lib/python3.12/dist-packages (from pandas>=2.1.1->ctgan) (2025.2)\n",
            "Requirement already satisfied: tzdata>=2022.7 in /usr/local/lib/python3.12/dist-packages (from pandas>=2.1.1->ctgan) (2025.2)\n",
            "Requirement already satisfied: scipy>=1.12.0 in /usr/local/lib/python3.12/dist-packages (from rdt>=1.14.0->ctgan) (1.16.2)\n",
            "Requirement already satisfied: scikit-learn>=1.3.1 in /usr/local/lib/python3.12/dist-packages (from rdt>=1.14.0->ctgan) (1.6.1)\n",
            "Requirement already satisfied: Faker>=17 in /usr/local/lib/python3.12/dist-packages (from rdt>=1.14.0->ctgan) (37.8.0)\n",
            "Requirement already satisfied: filelock in /usr/local/lib/python3.12/dist-packages (from torch>=2.2.0->ctgan) (3.19.1)\n",
            "Requirement already satisfied: typing-extensions>=4.10.0 in /usr/local/lib/python3.12/dist-packages (from torch>=2.2.0->ctgan) (4.15.0)\n",
            "Requirement already satisfied: setuptools in /usr/local/lib/python3.12/dist-packages (from torch>=2.2.0->ctgan) (75.2.0)\n",
            "Requirement already satisfied: sympy>=1.13.3 in /usr/local/lib/python3.12/dist-packages (from torch>=2.2.0->ctgan) (1.13.3)\n",
            "Requirement already satisfied: networkx in /usr/local/lib/python3.12/dist-packages (from torch>=2.2.0->ctgan) (3.5)\n",
            "Requirement already satisfied: jinja2 in /usr/local/lib/python3.12/dist-packages (from torch>=2.2.0->ctgan) (3.1.6)\n",
            "Requirement already satisfied: fsspec in /usr/local/lib/python3.12/dist-packages (from torch>=2.2.0->ctgan) (2025.3.0)\n",
            "Requirement already satisfied: nvidia-cuda-nvrtc-cu12==12.6.77 in /usr/local/lib/python3.12/dist-packages (from torch>=2.2.0->ctgan) (12.6.77)\n",
            "Requirement already satisfied: nvidia-cuda-runtime-cu12==12.6.77 in /usr/local/lib/python3.12/dist-packages (from torch>=2.2.0->ctgan) (12.6.77)\n",
            "Requirement already satisfied: nvidia-cuda-cupti-cu12==12.6.80 in /usr/local/lib/python3.12/dist-packages (from torch>=2.2.0->ctgan) (12.6.80)\n",
            "Requirement already satisfied: nvidia-cudnn-cu12==9.10.2.21 in /usr/local/lib/python3.12/dist-packages (from torch>=2.2.0->ctgan) (9.10.2.21)\n",
            "Requirement already satisfied: nvidia-cublas-cu12==12.6.4.1 in /usr/local/lib/python3.12/dist-packages (from torch>=2.2.0->ctgan) (12.6.4.1)\n",
            "Requirement already satisfied: nvidia-cufft-cu12==11.3.0.4 in /usr/local/lib/python3.12/dist-packages (from torch>=2.2.0->ctgan) (11.3.0.4)\n",
            "Requirement already satisfied: nvidia-curand-cu12==10.3.7.77 in /usr/local/lib/python3.12/dist-packages (from torch>=2.2.0->ctgan) (10.3.7.77)\n",
            "Requirement already satisfied: nvidia-cusolver-cu12==11.7.1.2 in /usr/local/lib/python3.12/dist-packages (from torch>=2.2.0->ctgan) (11.7.1.2)\n",
            "Requirement already satisfied: nvidia-cusparse-cu12==12.5.4.2 in /usr/local/lib/python3.12/dist-packages (from torch>=2.2.0->ctgan) (12.5.4.2)\n",
            "Requirement already satisfied: nvidia-cusparselt-cu12==0.7.1 in /usr/local/lib/python3.12/dist-packages (from torch>=2.2.0->ctgan) (0.7.1)\n",
            "Requirement already satisfied: nvidia-nccl-cu12==2.27.3 in /usr/local/lib/python3.12/dist-packages (from torch>=2.2.0->ctgan) (2.27.3)\n",
            "Requirement already satisfied: nvidia-nvtx-cu12==12.6.77 in /usr/local/lib/python3.12/dist-packages (from torch>=2.2.0->ctgan) (12.6.77)\n",
            "Requirement already satisfied: nvidia-nvjitlink-cu12==12.6.85 in /usr/local/lib/python3.12/dist-packages (from torch>=2.2.0->ctgan) (12.6.85)\n",
            "Requirement already satisfied: nvidia-cufile-cu12==1.11.1.6 in /usr/local/lib/python3.12/dist-packages (from torch>=2.2.0->ctgan) (1.11.1.6)\n",
            "Requirement already satisfied: triton==3.4.0 in /usr/local/lib/python3.12/dist-packages (from torch>=2.2.0->ctgan) (3.4.0)\n",
            "Requirement already satisfied: six>=1.5 in /usr/local/lib/python3.12/dist-packages (from python-dateutil>=2.8.2->pandas>=2.1.1->ctgan) (1.17.0)\n",
            "Requirement already satisfied: joblib>=1.2.0 in /usr/local/lib/python3.12/dist-packages (from scikit-learn>=1.3.1->rdt>=1.14.0->ctgan) (1.5.2)\n",
            "Requirement already satisfied: threadpoolctl>=3.1.0 in /usr/local/lib/python3.12/dist-packages (from scikit-learn>=1.3.1->rdt>=1.14.0->ctgan) (3.6.0)\n",
            "Requirement already satisfied: mpmath<1.4,>=1.1.0 in /usr/local/lib/python3.12/dist-packages (from sympy>=1.13.3->torch>=2.2.0->ctgan) (1.3.0)\n",
            "Requirement already satisfied: MarkupSafe>=2.0 in /usr/local/lib/python3.12/dist-packages (from jinja2->torch>=2.2.0->ctgan) (3.0.3)\n"
          ]
        }
      ]
    },
    {
      "cell_type": "markdown",
      "source": [
        "### **Necessary Imports**"
      ],
      "metadata": {
        "id": "ao5Z1oV1jyDR"
      }
    },
    {
      "cell_type": "code",
      "source": [
        "import pandas as pd\n",
        "from ctgan import CTGAN\n",
        "\n",
        "\n",
        "from sklearn.model_selection import train_test_split\n",
        "from sklearn.preprocessing import StandardScaler\n",
        "from sklearn.utils import class_weight\n",
        "from sklearn.metrics import classification_report, confusion_matrix, roc_auc_score\n",
        "from tensorflow.keras.models import Sequential\n",
        "from tensorflow.keras.layers import Dense, Dropout\n",
        "from tensorflow.keras.callbacks import EarlyStopping\n",
        "import numpy as np\n"
      ],
      "metadata": {
        "id": "xJyYUZYGjHkx"
      },
      "execution_count": null,
      "outputs": []
    },
    {
      "cell_type": "markdown",
      "source": [
        "### **Prepare Data**"
      ],
      "metadata": {
        "id": "PIVZKSLHj3o2"
      }
    },
    {
      "cell_type": "code",
      "source": [
        "# Split minority class (multi-morbid)\n",
        "df_minority = df[df['multi_morbid'] == 1]\n",
        "\n",
        "# keep only relevant columns\n",
        "columns_to_use = ['age','total_claims','num_conditions','num_meds','num_encounters','gender','race','multi_morbid']\n",
        "df_minority = df_minority[columns_to_use]\n"
      ],
      "metadata": {
        "id": "ga60TybwjHhL"
      },
      "execution_count": null,
      "outputs": []
    },
    {
      "cell_type": "markdown",
      "source": [
        "### **Fit CTGAN and generate synthetic samples**"
      ],
      "metadata": {
        "id": "1VjAxRhXk3nS"
      }
    },
    {
      "cell_type": "code",
      "source": [
        "# Define CTGAN\n",
        "ctgan = CTGAN(epochs=300)\n",
        "discrete_cols = ['gender','race','multi_morbid']  # categorical columns\n",
        "\n",
        "# Fit on minority class\n",
        "ctgan.fit(df_minority, discrete_columns=discrete_cols)\n",
        "\n",
        "# Generate synthetic minority samples (e.g., 200 samples)\n",
        "synthetic_minority = ctgan.sample(200)\n"
      ],
      "metadata": {
        "id": "Yx8l0kCxjHea"
      },
      "execution_count": null,
      "outputs": []
    },
    {
      "cell_type": "markdown",
      "source": [
        "**Why CTGAN?**\n",
        "\n",
        "- Generative neural network creates realistic synthetic samples of rare multimorbid patients.\n",
        "\n",
        "- Learns complex relationships between categorical and numeric features better than SMOTE.\n",
        "\n",
        "**Purpose:**\n",
        "\n",
        "Generate 200 synthetic minority class samples to balance the dataset, enabling better model training for detecting high-risk multimorbid patients.\n",
        "\n",
        "**Advantage:**\n",
        "\n",
        " Preserves true data distributions while addressing severe class imbalance (13 vs 280 patients).\n",
        "\n",
        " ---------------------------------"
      ],
      "metadata": {
        "id": "uMnkZ_okMdJH"
      }
    },
    {
      "cell_type": "markdown",
      "source": [
        "### **Combine with original dataset**"
      ],
      "metadata": {
        "id": "RXh715zGlmBo"
      }
    },
    {
      "cell_type": "code",
      "source": [
        "df_augmented = pd.concat([df, synthetic_minority], ignore_index=True)\n",
        "\n",
        "# Shuffle dataset\n",
        "df_augmented = df_augmented.sample(frac=1, random_state=42).reset_index(drop=True)\n"
      ],
      "metadata": {
        "id": "CGQvR599jHbl"
      },
      "execution_count": null,
      "outputs": []
    },
    {
      "cell_type": "markdown",
      "source": [
        "**Purpose:**\n",
        "\n",
        " Combines original data with 200 CTGAN-generated synthetic multimorbid patients, then shuffles for balanced training.\n",
        "\n",
        "**Result:**\n",
        "\n",
        "Augmented dataset with improved minority class representation—enables fairer model training and better detection of high-risk patients.\n",
        "\n",
        "------------------------------"
      ],
      "metadata": {
        "id": "Bc_3IKR3M1H0"
      }
    },
    {
      "cell_type": "markdown",
      "source": [
        "### **Split features & labels**"
      ],
      "metadata": {
        "id": "yvFwDh49lyZ6"
      }
    },
    {
      "cell_type": "code",
      "source": [
        "X = df_augmented[['age','total_claims','num_conditions','num_meds','num_encounters','gender','race']]\n",
        "y = df_augmented['multi_morbid']\n",
        "\n",
        "# Split into train/val\n",
        "X_train, X_val, y_train, y_val = train_test_split(X, y, test_size=0.2, stratify=y, random_state=42)\n",
        "\n",
        "# Scale numeric features\n",
        "scaler = StandardScaler()\n",
        "numeric_features = ['age','total_claims','num_conditions','num_meds','num_encounters']\n",
        "X_train[numeric_features] = scaler.fit_transform(X_train[numeric_features])\n",
        "X_val[numeric_features] = scaler.transform(X_val[numeric_features])\n"
      ],
      "metadata": {
        "id": "nzC64zLYjHYy"
      },
      "execution_count": null,
      "outputs": []
    },
    {
      "cell_type": "markdown",
      "source": [
        "**Purpose:**\n",
        "\n",
        " Prepares augmented dataset for modeling with proper preprocessing.\n",
        "\n",
        "**Key change:**\n",
        "\n",
        " Now includes num_conditions as a feature (since synthetic data may have varied this field independently of the target).\n",
        "\n",
        "**Result:**\n",
        "\n",
        " Balanced, scaled dataset ready for improved multimorbidity prediction with better minority class representation."
      ],
      "metadata": {
        "id": "gWTmqSEhNGw1"
      }
    },
    {
      "cell_type": "markdown",
      "source": [
        "### **Compute class weights**"
      ],
      "metadata": {
        "id": "9mf4fL0-l57H"
      }
    },
    {
      "cell_type": "code",
      "source": [
        "weights = class_weight.compute_class_weight(\n",
        "    class_weight='balanced',\n",
        "    classes=np.unique(y_train),\n",
        "    y=y_train\n",
        ")\n",
        "class_weight_dict = {0: weights[0], 1: weights[1]}\n",
        "print(\"Class weights:\", class_weight_dict)\n"
      ],
      "metadata": {
        "id": "Jig1kek8jHV6",
        "colab": {
          "base_uri": "https://localhost:8080/"
        },
        "outputId": "32d6a9b6-f238-410d-d962-4f83cab89986"
      },
      "execution_count": null,
      "outputs": [
        {
          "output_type": "stream",
          "name": "stdout",
          "text": [
            "Class weights: {0: np.float64(0.5959641255605381), 1: np.float64(3.1051401869158877)}\n"
          ]
        }
      ]
    },
    {
      "cell_type": "markdown",
      "source": [
        "Calculated balanced class weights for new, augmented dataset.\n",
        "Class 1 (multimorbid) still gets ~5× more weight, but the need for adjustment is less after CTGAN—helps model treat both classes fairly during training.\n",
        "\n",
        "----------------"
      ],
      "metadata": {
        "id": "YvAnigdDNb0Q"
      }
    },
    {
      "cell_type": "markdown",
      "source": [
        "## **Build Neural Network**"
      ],
      "metadata": {
        "id": "VDQwnj64mAfE"
      }
    },
    {
      "cell_type": "code",
      "source": [
        "model = Sequential([\n",
        "    Dense(64, activation='relu', input_shape=(X_train.shape[1],)),\n",
        "    Dropout(0.4),\n",
        "    Dense(32, activation='relu'),\n",
        "    Dropout(0.3),\n",
        "    Dense(16, activation='relu'),\n",
        "    Dense(1, activation='sigmoid')\n",
        "])\n",
        "\n",
        "model.compile(optimizer='adam', loss='binary_crossentropy', metrics=['accuracy'])\n"
      ],
      "metadata": {
        "id": "TvHlkbQfjHTB"
      },
      "execution_count": null,
      "outputs": []
    },
    {
      "cell_type": "markdown",
      "source": [
        "### **Train NN with class weights**"
      ],
      "metadata": {
        "id": "8hy7AQN5mF8A"
      }
    },
    {
      "cell_type": "code",
      "source": [
        "early_stop = EarlyStopping(monitor='val_loss', patience=10, restore_best_weights=True)\n",
        "\n",
        "history = model.fit(\n",
        "    X_train, y_train,\n",
        "    validation_data=(X_val, y_val),\n",
        "    epochs=100,\n",
        "    batch_size=16,\n",
        "    class_weight=class_weight_dict,\n",
        "    callbacks=[early_stop],\n",
        "    verbose=2\n",
        ")\n"
      ],
      "metadata": {
        "id": "pSV8g0jLjHP8",
        "colab": {
          "base_uri": "https://localhost:8080/"
        },
        "outputId": "4016d4ca-6732-42be-e72f-893337c73a16"
      },
      "execution_count": null,
      "outputs": [
        {
          "output_type": "stream",
          "name": "stdout",
          "text": [
            "Epoch 1/100\n",
            "84/84 - 3s - 35ms/step - accuracy: 0.6057 - loss: 0.5291 - val_accuracy: 0.8468 - val_loss: 0.4445\n",
            "Epoch 2/100\n",
            "84/84 - 1s - 7ms/step - accuracy: 0.8856 - loss: 0.2887 - val_accuracy: 0.9429 - val_loss: 0.1741\n",
            "Epoch 3/100\n",
            "84/84 - 1s - 8ms/step - accuracy: 0.9353 - loss: 0.1651 - val_accuracy: 0.9429 - val_loss: 0.1346\n",
            "Epoch 4/100\n",
            "84/84 - 1s - 13ms/step - accuracy: 0.9436 - loss: 0.1351 - val_accuracy: 0.9459 - val_loss: 0.1209\n",
            "Epoch 5/100\n",
            "84/84 - 1s - 6ms/step - accuracy: 0.9511 - loss: 0.1161 - val_accuracy: 0.9489 - val_loss: 0.0954\n",
            "Epoch 6/100\n",
            "84/84 - 1s - 7ms/step - accuracy: 0.9556 - loss: 0.0963 - val_accuracy: 0.9580 - val_loss: 0.0775\n",
            "Epoch 7/100\n",
            "84/84 - 1s - 7ms/step - accuracy: 0.9661 - loss: 0.0871 - val_accuracy: 0.9550 - val_loss: 0.0904\n",
            "Epoch 8/100\n",
            "84/84 - 0s - 5ms/step - accuracy: 0.9669 - loss: 0.0706 - val_accuracy: 0.9580 - val_loss: 0.0850\n",
            "Epoch 9/100\n",
            "84/84 - 1s - 7ms/step - accuracy: 0.9609 - loss: 0.0829 - val_accuracy: 0.9670 - val_loss: 0.0737\n",
            "Epoch 10/100\n",
            "84/84 - 1s - 8ms/step - accuracy: 0.9737 - loss: 0.0728 - val_accuracy: 0.9520 - val_loss: 0.0880\n",
            "Epoch 11/100\n",
            "84/84 - 1s - 8ms/step - accuracy: 0.9691 - loss: 0.0720 - val_accuracy: 0.9610 - val_loss: 0.0867\n",
            "Epoch 12/100\n",
            "84/84 - 0s - 5ms/step - accuracy: 0.9669 - loss: 0.0701 - val_accuracy: 0.9730 - val_loss: 0.0600\n",
            "Epoch 13/100\n",
            "84/84 - 1s - 7ms/step - accuracy: 0.9767 - loss: 0.0547 - val_accuracy: 0.9670 - val_loss: 0.0656\n",
            "Epoch 14/100\n",
            "84/84 - 0s - 6ms/step - accuracy: 0.9752 - loss: 0.0672 - val_accuracy: 0.9670 - val_loss: 0.0635\n",
            "Epoch 15/100\n",
            "84/84 - 1s - 11ms/step - accuracy: 0.9714 - loss: 0.0575 - val_accuracy: 0.9670 - val_loss: 0.0600\n",
            "Epoch 16/100\n",
            "84/84 - 2s - 19ms/step - accuracy: 0.9812 - loss: 0.0448 - val_accuracy: 0.9700 - val_loss: 0.0646\n",
            "Epoch 17/100\n",
            "84/84 - 1s - 18ms/step - accuracy: 0.9707 - loss: 0.0617 - val_accuracy: 0.9670 - val_loss: 0.0505\n",
            "Epoch 18/100\n",
            "84/84 - 1s - 8ms/step - accuracy: 0.9842 - loss: 0.0464 - val_accuracy: 0.9700 - val_loss: 0.0546\n",
            "Epoch 19/100\n",
            "84/84 - 0s - 4ms/step - accuracy: 0.9797 - loss: 0.0411 - val_accuracy: 0.9700 - val_loss: 0.0626\n",
            "Epoch 20/100\n",
            "84/84 - 0s - 4ms/step - accuracy: 0.9782 - loss: 0.0421 - val_accuracy: 0.9730 - val_loss: 0.0557\n",
            "Epoch 21/100\n",
            "84/84 - 1s - 8ms/step - accuracy: 0.9827 - loss: 0.0385 - val_accuracy: 0.9760 - val_loss: 0.0444\n",
            "Epoch 22/100\n",
            "84/84 - 1s - 8ms/step - accuracy: 0.9857 - loss: 0.0294 - val_accuracy: 0.9790 - val_loss: 0.0434\n",
            "Epoch 23/100\n",
            "84/84 - 1s - 7ms/step - accuracy: 0.9804 - loss: 0.0477 - val_accuracy: 0.9700 - val_loss: 0.0520\n",
            "Epoch 24/100\n",
            "84/84 - 0s - 5ms/step - accuracy: 0.9819 - loss: 0.0334 - val_accuracy: 0.9760 - val_loss: 0.0446\n",
            "Epoch 25/100\n",
            "84/84 - 1s - 7ms/step - accuracy: 0.9865 - loss: 0.0357 - val_accuracy: 0.9640 - val_loss: 0.0589\n",
            "Epoch 26/100\n",
            "84/84 - 1s - 7ms/step - accuracy: 0.9797 - loss: 0.0401 - val_accuracy: 0.9820 - val_loss: 0.0398\n",
            "Epoch 27/100\n",
            "84/84 - 1s - 9ms/step - accuracy: 0.9880 - loss: 0.0309 - val_accuracy: 0.9790 - val_loss: 0.0395\n",
            "Epoch 28/100\n",
            "84/84 - 1s - 6ms/step - accuracy: 0.9880 - loss: 0.0296 - val_accuracy: 0.9820 - val_loss: 0.0394\n",
            "Epoch 29/100\n",
            "84/84 - 0s - 4ms/step - accuracy: 0.9819 - loss: 0.0355 - val_accuracy: 0.9820 - val_loss: 0.0436\n",
            "Epoch 30/100\n",
            "84/84 - 0s - 5ms/step - accuracy: 0.9872 - loss: 0.0254 - val_accuracy: 0.9850 - val_loss: 0.0383\n",
            "Epoch 31/100\n",
            "84/84 - 1s - 8ms/step - accuracy: 0.9902 - loss: 0.0393 - val_accuracy: 0.9850 - val_loss: 0.0396\n",
            "Epoch 32/100\n",
            "84/84 - 1s - 8ms/step - accuracy: 0.9917 - loss: 0.0209 - val_accuracy: 0.9760 - val_loss: 0.0677\n",
            "Epoch 33/100\n",
            "84/84 - 1s - 7ms/step - accuracy: 0.9910 - loss: 0.0205 - val_accuracy: 0.9760 - val_loss: 0.0557\n",
            "Epoch 34/100\n",
            "84/84 - 1s - 7ms/step - accuracy: 0.9887 - loss: 0.0223 - val_accuracy: 0.9760 - val_loss: 0.0508\n",
            "Epoch 35/100\n",
            "84/84 - 1s - 10ms/step - accuracy: 0.9932 - loss: 0.0166 - val_accuracy: 0.9790 - val_loss: 0.0473\n",
            "Epoch 36/100\n",
            "84/84 - 1s - 10ms/step - accuracy: 0.9902 - loss: 0.0213 - val_accuracy: 0.9850 - val_loss: 0.0428\n",
            "Epoch 37/100\n",
            "84/84 - 1s - 9ms/step - accuracy: 0.9925 - loss: 0.0264 - val_accuracy: 0.9790 - val_loss: 0.0527\n",
            "Epoch 38/100\n",
            "84/84 - 1s - 11ms/step - accuracy: 0.9902 - loss: 0.0233 - val_accuracy: 0.9820 - val_loss: 0.0427\n",
            "Epoch 39/100\n",
            "84/84 - 1s - 11ms/step - accuracy: 0.9895 - loss: 0.0228 - val_accuracy: 0.9820 - val_loss: 0.0443\n",
            "Epoch 40/100\n",
            "84/84 - 1s - 7ms/step - accuracy: 0.9902 - loss: 0.0187 - val_accuracy: 0.9880 - val_loss: 0.0363\n",
            "Epoch 41/100\n",
            "84/84 - 1s - 8ms/step - accuracy: 0.9932 - loss: 0.0173 - val_accuracy: 0.9850 - val_loss: 0.0463\n",
            "Epoch 42/100\n",
            "84/84 - 1s - 7ms/step - accuracy: 0.9970 - loss: 0.0091 - val_accuracy: 0.9820 - val_loss: 0.0450\n",
            "Epoch 43/100\n",
            "84/84 - 1s - 7ms/step - accuracy: 0.9955 - loss: 0.0151 - val_accuracy: 0.9790 - val_loss: 0.0523\n",
            "Epoch 44/100\n",
            "84/84 - 1s - 8ms/step - accuracy: 0.9910 - loss: 0.0182 - val_accuracy: 0.9820 - val_loss: 0.0470\n",
            "Epoch 45/100\n",
            "84/84 - 1s - 7ms/step - accuracy: 0.9955 - loss: 0.0159 - val_accuracy: 0.9880 - val_loss: 0.0358\n",
            "Epoch 46/100\n",
            "84/84 - 1s - 7ms/step - accuracy: 0.9902 - loss: 0.0274 - val_accuracy: 0.9790 - val_loss: 0.0628\n",
            "Epoch 47/100\n",
            "84/84 - 1s - 7ms/step - accuracy: 0.9955 - loss: 0.0149 - val_accuracy: 0.9820 - val_loss: 0.0538\n",
            "Epoch 48/100\n",
            "84/84 - 1s - 7ms/step - accuracy: 0.9955 - loss: 0.0112 - val_accuracy: 0.9910 - val_loss: 0.0420\n",
            "Epoch 49/100\n",
            "84/84 - 1s - 12ms/step - accuracy: 0.9895 - loss: 0.0225 - val_accuracy: 0.9880 - val_loss: 0.0425\n",
            "Epoch 50/100\n",
            "84/84 - 2s - 19ms/step - accuracy: 0.9940 - loss: 0.0168 - val_accuracy: 0.9790 - val_loss: 0.0622\n",
            "Epoch 51/100\n",
            "84/84 - 1s - 14ms/step - accuracy: 0.9940 - loss: 0.0183 - val_accuracy: 0.9790 - val_loss: 0.0591\n",
            "Epoch 52/100\n",
            "84/84 - 1s - 13ms/step - accuracy: 0.9962 - loss: 0.0087 - val_accuracy: 0.9790 - val_loss: 0.0706\n",
            "Epoch 53/100\n",
            "84/84 - 0s - 5ms/step - accuracy: 0.9962 - loss: 0.0091 - val_accuracy: 0.9820 - val_loss: 0.0604\n",
            "Epoch 54/100\n",
            "84/84 - 0s - 5ms/step - accuracy: 0.9977 - loss: 0.0064 - val_accuracy: 0.9820 - val_loss: 0.0580\n",
            "Epoch 55/100\n",
            "84/84 - 1s - 6ms/step - accuracy: 0.9955 - loss: 0.0122 - val_accuracy: 0.9880 - val_loss: 0.0454\n"
          ]
        }
      ]
    },
    {
      "cell_type": "markdown",
      "source": [
        "**CTGAN-augmented neural network training shows dramatic improvement:**\n",
        "\n",
        "**Training accuracy:** Climbs from 60% to 99% (excellent learning)\n",
        "\n",
        "**Validation accuracy:** Reaches 98.8% (strong generalization)\n",
        "\n",
        "**Loss convergence:** Steady drop indicates proper model fit without overfitting\n",
        "\n",
        "**Key benefit:**\n",
        "\n",
        "Synthetic data balancing enables the model to learn multimorbidity patterns effectively, achieving near-perfect performance on both classes.\n",
        "\n",
        "-----"
      ],
      "metadata": {
        "id": "U7l3LmT0N-j2"
      }
    },
    {
      "cell_type": "markdown",
      "source": [
        "### **Evaluate model**"
      ],
      "metadata": {
        "id": "f6mSynLYmXym"
      }
    },
    {
      "cell_type": "code",
      "source": [
        "# Predict probabilities\n",
        "y_val_probs = model.predict(X_val)\n",
        "threshold = 0.3  # adjust threshold to improve minority recall\n",
        "y_val_pred = (y_val_probs > threshold).astype(int)\n",
        "\n",
        "# Confusion matrix\n",
        "cm = confusion_matrix(y_val, y_val_pred)\n",
        "print(\"Confusion Matrix:\\n\", cm)\n",
        "\n",
        "# Classification report\n",
        "print(\"\\nClassification Report:\\n\", classification_report(y_val, y_val_pred))\n",
        "\n",
        "# ROC-AUC\n",
        "roc_auc = roc_auc_score(y_val, y_val_probs)\n",
        "print(f\"ROC-AUC Score: {roc_auc:.4f}\")\n"
      ],
      "metadata": {
        "id": "ZwrOwd0sjHNI",
        "colab": {
          "base_uri": "https://localhost:8080/"
        },
        "outputId": "9af6755c-2317-4166-93d0-32e47f7c253a"
      },
      "execution_count": null,
      "outputs": [
        {
          "output_type": "stream",
          "name": "stdout",
          "text": [
            "\u001b[1m11/11\u001b[0m \u001b[32m━━━━━━━━━━━━━━━━━━━━\u001b[0m\u001b[37m\u001b[0m \u001b[1m0s\u001b[0m 7ms/step \n",
            "Confusion Matrix:\n",
            " [[277   3]\n",
            " [  2  51]]\n",
            "\n",
            "Classification Report:\n",
            "               precision    recall  f1-score   support\n",
            "\n",
            "           0       0.99      0.99      0.99       280\n",
            "           1       0.94      0.96      0.95        53\n",
            "\n",
            "    accuracy                           0.98       333\n",
            "   macro avg       0.97      0.98      0.97       333\n",
            "weighted avg       0.99      0.98      0.99       333\n",
            "\n",
            "ROC-AUC Score: 0.9984\n"
          ]
        }
      ]
    },
    {
      "cell_type": "markdown",
      "source": [
        "**Exceptional performance with CTGAN augmentation:**\n",
        "\n",
        "**Overall accuracy:** 98.5%\n",
        "\n",
        "**Minority class (multimorbid):** 96% recall, 94% precision - captures 96% of high-risk patients\n",
        "\n",
        "**ROC-AUC:** 0.998 (near-perfect discrimination)\n",
        "\n",
        "Only 5 misclassifications out of 333 patients\n",
        "\n",
        "**Clinical impact:**\n",
        "\n",
        "Model now reliably identifies multimorbid patients without sacrificing accuracy for the majority class—ready for healthcare deployment with confidence.\n",
        "\n",
        "---------------------------------"
      ],
      "metadata": {
        "id": "lXhJL8hTPGtw"
      }
    },
    {
      "cell_type": "markdown",
      "source": [
        "### **Plot Curves**"
      ],
      "metadata": {
        "id": "XrzyWjcUm8lk"
      }
    },
    {
      "cell_type": "code",
      "source": [
        "# Plot training history\n",
        "plt.figure(figsize=(12,5))\n",
        "plt.subplot(1,2,1)\n",
        "plt.plot(history.history['accuracy'], label='train acc')\n",
        "plt.plot(history.history['val_accuracy'], label='val acc')\n",
        "plt.title('Accuracy')\n",
        "plt.legend()\n",
        "\n",
        "plt.subplot(1,2,2)\n",
        "plt.plot(history.history['loss'], label='train loss')\n",
        "plt.plot(history.history['val_loss'], label='val loss')\n",
        "plt.title('Loss')\n",
        "plt.legend()\n",
        "plt.show()"
      ],
      "metadata": {
        "id": "wyBSMiwkjHKc",
        "colab": {
          "base_uri": "https://localhost:8080/",
          "height": 468
        },
        "outputId": "af018d64-d25c-4585-a34f-7fbf886a8105"
      },
      "execution_count": null,
      "outputs": [
        {
          "output_type": "display_data",
          "data": {
            "text/plain": [
              "<Figure size 1200x500 with 2 Axes>"
            ],
            "image/png": "[encoded data removed]"
          },
          "metadata": {}
        }
      ]
    },
    {
      "cell_type": "markdown",
      "source": [
        "**Left plot (“Accuracy”):**\n",
        "\n",
        "-  Train accuracy (blue) and validation accuracy (orange) both climb rapidly above 0.90 within a few epochs.\n",
        "- They stabilize near 0.99, indicating almost perfect classification on both training and validation sets.\n",
        "\n",
        "**Right plot (“Loss”):**\n",
        "\n",
        "- Train loss (blue) and validation loss (orange) both drop steeply from ~0.50 to below 0.05.\n",
        "- The curves remain low and closely aligned, showing no overfitting and consistent generalization.\n",
        "\n",
        "Overall, the plots confirm that CTGAN-balanced training yields exceptionally high and stable accuracy with minimal loss on unseen data.\n",
        "\n",
        "-------------------------------"
      ],
      "metadata": {
        "id": "ytNkncJxPmWQ"
      }
    },
    {
      "cell_type": "code",
      "source": [],
      "metadata": {
        "id": "XVJyhZIdjHEx"
      },
      "execution_count": null,
      "outputs": []
    },
    {
      "cell_type": "markdown",
      "source": [
        "## **10.  Save best model and artifacts**"
      ],
      "metadata": {
        "id": "oj_dQ1lz6A_T"
      }
    },
    {
      "cell_type": "code",
      "source": [
        "# Save full model (\n",
        "model.save('best_nn_model.h5')\n",
        "print(\"Saved model as best_nn_model.h5\")\n",
        "\n"
      ],
      "metadata": {
        "id": "gvN4W0I35nGv",
        "colab": {
          "base_uri": "https://localhost:8080/"
        },
        "outputId": "1cac1280-907c-4133-806d-9a4458ae2ca8"
      },
      "execution_count": null,
      "outputs": [
        {
          "output_type": "stream",
          "name": "stderr",
          "text": [
            "WARNING:absl:You are saving your model as an HDF5 file via `model.save()` or `keras.saving.save_model(model)`. This file format is considered legacy. We recommend using instead the native Keras format, e.g. `model.save('my_model.keras')` or `keras.saving.save_model(model, 'my_model.keras')`. \n"
          ]
        },
        {
          "output_type": "stream",
          "name": "stdout",
          "text": [
            "Saved model as best_nn_model.h5\n"
          ]
        }
      ]
    },
    {
      "cell_type": "code",
      "source": [
        "import joblib\n",
        "from sklearn.preprocessing import StandardScaler\n",
        "\n",
        "#X_train with numeric features\n",
        "numeric_features = ['age','total_claims','num_conditions','num_meds','num_encounters']\n",
        "\n",
        "scaler = StandardScaler()\n",
        "scaler.fit(X_train[numeric_features])\n",
        "\n",
        "# Save it\n",
        "joblib.dump(scaler, 'scaler.pkl')\n",
        "print(\"Scaler saved as scaler.pkl\")"
      ],
      "metadata": {
        "id": "2H8wNYCSpCId",
        "colab": {
          "base_uri": "https://localhost:8080/"
        },
        "outputId": "095591ef-6a9b-4491-ec9c-d47e7e622241"
      },
      "execution_count": null,
      "outputs": [
        {
          "output_type": "stream",
          "name": "stdout",
          "text": [
            "Scaler saved as scaler.pkl\n"
          ]
        }
      ]
    },
    {
      "cell_type": "code",
      "source": [
        "#Save as pkl\n",
        "joblib.dump(model, 'best_nn_model_joblib.pkl')\n",
        "print(\"Model saved as best_nn_model_joblib.pkl\")"
      ],
      "metadata": {
        "id": "01oRImzSrUbi",
        "colab": {
          "base_uri": "https://localhost:8080/"
        },
        "outputId": "3be447af-23fe-47a3-f730-7bb1a41acb08"
      },
      "execution_count": null,
      "outputs": [
        {
          "output_type": "stream",
          "name": "stdout",
          "text": [
            "Model saved as best_nn_model_joblib.pkl\n"
          ]
        }
      ]
    },
    {
      "cell_type": "code",
      "source": [
        "from google.colab import files\n",
        "files.download('best_nn_model_joblib.pkl')\n",
        "files.download('scaler.pkl')\n",
        "files.download('best_nn_model.h5')\n"
      ],
      "metadata": {
        "id": "FyKNDaOAtdSk",
        "colab": {
          "base_uri": "https://localhost:8080/",
          "height": 17
        },
        "outputId": "b6b40dda-25f5-4b54-e544-b585d572f5fe"
      },
      "execution_count": null,
      "outputs": [
        {
          "output_type": "display_data",
          "data": {
            "text/plain": [
              "<IPython.core.display.Javascript object>"
            ],
            "application/javascript": [
              "\n",
              "    async function download(id, filename, size) {\n",
              "      if (!google.colab.kernel.accessAllowed) {\n",
              "        return;\n",
              "      }\n",
              "      const div = document.createElement('div');\n",
              "      const label = document.createElement('label');\n",
              "      label.textContent = `Downloading \"${filename}\": `;\n",
              "      div.appendChild(label);\n",
              "      const progress = document.createElement('progress');\n",
              "      progress.max = size;\n",
              "      div.appendChild(progress);\n",
              "      document.body.appendChild(div);\n",
              "\n",
              "      const buffers = [];\n",
              "      let downloaded = 0;\n",
              "\n",
              "      const channel = await google.colab.kernel.comms.open(id);\n",
              "      // Send a message to notify the kernel that we're ready.\n",
              "      channel.send({})\n",
              "\n",
              "      for await (const message of channel.messages) {\n",
              "        // Send a message to notify the kernel that we're ready.\n",
              "        channel.send({})\n",
              "        if (message.buffers) {\n",
              "          for (const buffer of message.buffers) {\n",
              "            buffers.push(buffer);\n",
              "            downloaded += buffer.byteLength;\n",
              "            progress.value = downloaded;\n",
              "          }\n",
              "        }\n",
              "      }\n",
              "      const blob = new Blob(buffers, {type: 'application/binary'});\n",
              "      const a = document.createElement('a');\n",
              "      a.href = window.URL.createObjectURL(blob);\n",
              "      a.download = filename;\n",
              "      div.appendChild(a);\n",
              "      a.click();\n",
              "      div.remove();\n",
              "    }\n",
              "  "
            ]
          },
          "metadata": {}
        },
        {
          "output_type": "display_data",
          "data": {
            "text/plain": [
              "<IPython.core.display.Javascript object>"
            ],
            "application/javascript": [
              "download(\"download_63464ee8-92aa-478b-9a7f-c41b24da8e31\", \"best_nn_model_joblib.pkl\", 71952)"
            ]
          },
          "metadata": {}
        },
        {
          "output_type": "display_data",
          "data": {
            "text/plain": [
              "<IPython.core.display.Javascript object>"
            ],
            "application/javascript": [
              "\n",
              "    async function download(id, filename, size) {\n",
              "      if (!google.colab.kernel.accessAllowed) {\n",
              "        return;\n",
              "      }\n",
              "      const div = document.createElement('div');\n",
              "      const label = document.createElement('label');\n",
              "      label.textContent = `Downloading \"${filename}\": `;\n",
              "      div.appendChild(label);\n",
              "      const progress = document.createElement('progress');\n",
              "      progress.max = size;\n",
              "      div.appendChild(progress);\n",
              "      document.body.appendChild(div);\n",
              "\n",
              "      const buffers = [];\n",
              "      let downloaded = 0;\n",
              "\n",
              "      const channel = await google.colab.kernel.comms.open(id);\n",
              "      // Send a message to notify the kernel that we're ready.\n",
              "      channel.send({})\n",
              "\n",
              "      for await (const message of channel.messages) {\n",
              "        // Send a message to notify the kernel that we're ready.\n",
              "        channel.send({})\n",
              "        if (message.buffers) {\n",
              "          for (const buffer of message.buffers) {\n",
              "            buffers.push(buffer);\n",
              "            downloaded += buffer.byteLength;\n",
              "            progress.value = downloaded;\n",
              "          }\n",
              "        }\n",
              "      }\n",
              "      const blob = new Blob(buffers, {type: 'application/binary'});\n",
              "      const a = document.createElement('a');\n",
              "      a.href = window.URL.createObjectURL(blob);\n",
              "      a.download = filename;\n",
              "      div.appendChild(a);\n",
              "      a.click();\n",
              "      div.remove();\n",
              "    }\n",
              "  "
            ]
          },
          "metadata": {}
        },
        {
          "output_type": "display_data",
          "data": {
            "text/plain": [
              "<IPython.core.display.Javascript object>"
            ],
            "application/javascript": [
              "download(\"download_96987272-b700-4092-8795-cfe7a7be9da1\", \"scaler.pkl\", 1039)"
            ]
          },
          "metadata": {}
        },
        {
          "output_type": "display_data",
          "data": {
            "text/plain": [
              "<IPython.core.display.Javascript object>"
            ],
            "application/javascript": [
              "\n",
              "    async function download(id, filename, size) {\n",
              "      if (!google.colab.kernel.accessAllowed) {\n",
              "        return;\n",
              "      }\n",
              "      const div = document.createElement('div');\n",
              "      const label = document.createElement('label');\n",
              "      label.textContent = `Downloading \"${filename}\": `;\n",
              "      div.appendChild(label);\n",
              "      const progress = document.createElement('progress');\n",
              "      progress.max = size;\n",
              "      div.appendChild(progress);\n",
              "      document.body.appendChild(div);\n",
              "\n",
              "      const buffers = [];\n",
              "      let downloaded = 0;\n",
              "\n",
              "      const channel = await google.colab.kernel.comms.open(id);\n",
              "      // Send a message to notify the kernel that we're ready.\n",
              "      channel.send({})\n",
              "\n",
              "      for await (const message of channel.messages) {\n",
              "        // Send a message to notify the kernel that we're ready.\n",
              "        channel.send({})\n",
              "        if (message.buffers) {\n",
              "          for (const buffer of message.buffers) {\n",
              "            buffers.push(buffer);\n",
              "            downloaded += buffer.byteLength;\n",
              "            progress.value = downloaded;\n",
              "          }\n",
              "        }\n",
              "      }\n",
              "      const blob = new Blob(buffers, {type: 'application/binary'});\n",
              "      const a = document.createElement('a');\n",
              "      a.href = window.URL.createObjectURL(blob);\n",
              "      a.download = filename;\n",
              "      div.appendChild(a);\n",
              "      a.click();\n",
              "      div.remove();\n",
              "    }\n",
              "  "
            ]
          },
          "metadata": {}
        },
        {
          "output_type": "display_data",
          "data": {
            "text/plain": [
              "<IPython.core.display.Javascript object>"
            ],
            "application/javascript": [
              "download(\"download_5620bf28-5978-4779-a8e8-22b6092c0653\", \"best_nn_model.h5\", 76968)"
            ]
          },
          "metadata": {}
        }
      ]
    },
    {
      "cell_type": "markdown",
      "source": [
        "**Model Persistence & Deployment Ready**\n",
        "\n",
        "**What was saved:**\n",
        "\n",
        "- best_nn_model.h5: TensorFlow/Keras model format for neural network weights and architecture\n",
        "\n",
        "- best_nn_model_joblib.pkl: Alternative pickle format for cross-platform compatibility\n",
        "\n",
        "- scaler.pkl: Fitted StandardScaler for consistent preprocessing of new patient data\n",
        "\n",
        "**Purpose:**\n",
        "\n",
        " Complete deployment package ensuring new patient data gets identical preprocessing and prediction pipeline.\n",
        "\n",
        "**Clinical deployment:**\n",
        "\n",
        " Healthcare systems can load these files to predict multimorbidity risk for incoming patients with 98.5% accuracy."
      ],
      "metadata": {
        "id": "kp9O1aXeQpR_"
      }
    },
    {
      "cell_type": "markdown",
      "source": [
        "-------------------------------\n",
        "\n",
        "# **Overall Insight & Conclusion**"
      ],
      "metadata": {
        "id": "ipil742HQyyY"
      }
    },
    {
      "cell_type": "markdown",
      "source": [
        "- Hypothesis testing confirmed multimorbid patients (>2 conditions) have significantly higher healthcare costs, take more medications, and exhibit gender disparities.\n",
        "\n",
        "- Initial Random Forest and XGBoost models showed high overall accuracy (>90%) but failed to detect most multimorbid patients (recall <25%).\n",
        "\n",
        "- Pearson correlation (r=0.46) validated a moderate positive relationship between conditions and medications; chi-square (χ²=11.335, p=0.0008) revealed gender association with multimorbidity.\n",
        "\n",
        "- Preprocessing with scaling and one-hot encoding ensured clean inputs; stratified splits preserved class balance for fair evaluation.\n",
        "\n",
        "- Class weights improved minority focus, raising sensitivity from 23% to 92% in a basic neural network, with ROC-AUC increasing to 0.90.\n",
        "\n",
        "- CTGAN generated 200 realistic synthetic multimorbid samples to rebalance the dataset without distorting distributions.\n",
        "\n",
        "- Final neural network on augmented data achieved 98.5% accuracy, 96% recall, 94% precision for multimorbid patients, and ROC-AUC of 0.998—near-perfect discrimination.\n",
        "\n",
        "- Stable loss/accuracy curves and early stopping indicate no overfitting; saved model and scaler artifacts support reproducible deployment.\n",
        "\n",
        "End-to-end workflow combines statistical validation, robust modeling, and advanced data augmentation for reliable, clinically actionable multimorbidity risk prediction."
      ],
      "metadata": {
        "id": "mqJVo8pWT2mT"
      }
    }
  ]
}