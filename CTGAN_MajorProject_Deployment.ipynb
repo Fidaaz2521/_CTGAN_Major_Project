{
  "nbformat": 4,
  "nbformat_minor": 0,
  "metadata": {
    "colab": {
      "provenance": [],
      "authorship_tag": "ABX9TyPU7dwNs5fVA15+2704UnIZ",
      "include_colab_link": true
    },
    "kernelspec": {
      "name": "python3",
      "display_name": "Python 3"
    },
    "language_info": {
      "name": "python"
    }
  },
  "cells": [
    {
      "cell_type": "markdown",
      "metadata": {
        "id": "view-in-github",
        "colab_type": "text"
      },
      "source": [
        "<a href=\"https://colab.research.google.com/github/Fidaaz2521/_CTGAN_Major_Project/blob/main/CTGAN_MajorProject_Deployment.ipynb\" target=\"_parent\"><img src=\"https://colab.research.google.com/assets/colab-badge.svg\" alt=\"Open In Colab\"/></a>"
      ]
    },
    {
      "cell_type": "markdown",
      "source": [
        "---------------------------\n",
        "\n",
        "# **Project Title:**\n",
        "\n",
        "# **MEDSYNTH: PREDICTIVE ANALYTICS FOR SYNTHETIC PATIENT DATA**\n",
        "\n",
        "**PART-3 (DEPLOYMENT)**\n",
        "\n",
        "\n",
        "\n",
        "-------------------------------------------------------------"
      ],
      "metadata": {
        "id": "BS0CYMqPUT71"
      }
    },
    {
      "cell_type": "markdown",
      "source": [
        "**Project Type :**\n",
        " EDA + Hypothesis Testing + Supervised & Unsupervised Models+ Synthetic data Generation (CTGAN)+ Neural Network + Deployment(streamlit).\n",
        "\n",
        "**Contribution:** Team\n",
        "\n",
        "**Team Members:**\n",
        "\n",
        "\n",
        "1.   Fida Taneem\n",
        "2.   Isha Shrivastava\n",
        "3.   Manthan M Y\n",
        "4.   Nischitha K N\n",
        "5.   Padakandla Venkata Naga Sai Hasini\n",
        "\n",
        "---------------------------------------------------------"
      ],
      "metadata": {
        "id": "WdaUIG9uUT4o"
      }
    },
    {
      "cell_type": "markdown",
      "source": [
        "## **PART-2 SUMMARY**\n",
        "\n",
        "- Built and evaluated classification models (Random Forest, XGBoost, Neural Network) to predict multimorbidity, addressing feature selection, class imbalance, and robust metrics (accuracy, ROC-AUC, recall).\n",
        "\n",
        "- Initial tree-based models achieved >90% accuracy but <25% recall for multimorbid patients, indicating poor rare-class detection.\n",
        "\n",
        "- Employed CTGAN to generate 200 realistic synthetic multimorbid samples, preserving original data distributions and outperforming SMOTE.\n",
        "\n",
        "- Augmented dataset enabled the neural network to attain 98.5% accuracy, 96% recall, 94% precision for multimorbidity, and ROC-AUC of 0.998.\n",
        "\n",
        "Final workflow validates statistical associations and delivers a clinically actionable, unbiased multimorbidity risk prediction system."
      ],
      "metadata": {
        "id": "5EYxRR4HUT1l"
      }
    },
    {
      "cell_type": "markdown",
      "source": [
        "---------------------\n",
        "\n",
        "\n",
        "# **Project Summary(PART-3)**\n",
        "\n",
        "## **Model Deployment**\n",
        "\n",
        "\n",
        "1. Exported the best-trained model along with preprocessing artifacts for real-world use.\n",
        "\n",
        "2. Wrapped the model into a user-friendly web interface (e.g., Streamlit app) So predictions can be easily made on new, unseen data by clinicians or analysts.\n",
        "\n",
        "3. Purpose: Transitioned from research to practical utility—making the predictive tool usable and actionable in real healthcare workflows.\n",
        "\n",
        "--------------------------------------------"
      ],
      "metadata": {
        "id": "PJBqWtrOUTxe"
      }
    },
    {
      "cell_type": "code",
      "execution_count": 1,
      "metadata": {
        "id": "djwspyey34t0"
      },
      "outputs": [],
      "source": [
        "#!pip install streamlit pyngrok joblib tensorflow scikit-learn plotly seaborn\n"
      ]
    },
    {
      "cell_type": "markdown",
      "source": [
        "## **1. Upload Saved File (Best Model)**"
      ],
      "metadata": {
        "id": "hrrL4vxuWCVx"
      }
    },
    {
      "cell_type": "code",
      "source": [
        "from google.colab import files\n",
        "\n",
        "# Upload saved files\n",
        "uploaded = files.upload()\n",
        "# Choose: best_nn_model_joblib.pkl and scaler.pkl\n"
      ],
      "metadata": {
        "colab": {
          "base_uri": "https://localhost:8080/",
          "height": 142
        },
        "id": "t4WI8NG3s2Mm",
        "outputId": "b6e6194a-be58-4d5b-d071-586cc1243810"
      },
      "execution_count": 2,
      "outputs": [
        {
          "output_type": "display_data",
          "data": {
            "text/plain": [
              "<IPython.core.display.HTML object>"
            ],
            "text/html": [
              "\n",
              "     <input type=\"file\" id=\"files-9c5554b8-b674-4bf7-9054-5a944dd4efe6\" name=\"files[]\" multiple disabled\n",
              "        style=\"border:none\" />\n",
              "     <output id=\"result-9c5554b8-b674-4bf7-9054-5a944dd4efe6\">\n",
              "      Upload widget is only available when the cell has been executed in the\n",
              "      current browser session. Please rerun this cell to enable.\n",
              "      </output>\n",
              "      <script>// Copyright 2017 Google LLC\n",
              "//\n",
              "// Licensed under the Apache License, Version 2.0 (the \"License\");\n",
              "// you may not use this file except in compliance with the License.\n",
              "// You may obtain a copy of the License at\n",
              "//\n",
              "//      http://www.apache.org/licenses/LICENSE-2.0\n",
              "//\n",
              "// Unless required by applicable law or agreed to in writing, software\n",
              "// distributed under the License is distributed on an \"AS IS\" BASIS,\n",
              "// WITHOUT WARRANTIES OR CONDITIONS OF ANY KIND, either express or implied.\n",
              "// See the License for the specific language governing permissions and\n",
              "// limitations under the License.\n",
              "\n",
              "/**\n",
              " * @fileoverview Helpers for google.colab Python module.\n",
              " */\n",
              "(function(scope) {\n",
              "function span(text, styleAttributes = {}) {\n",
              "  const element = document.createElement('span');\n",
              "  element.textContent = text;\n",
              "  for (const key of Object.keys(styleAttributes)) {\n",
              "    element.style[key] = styleAttributes[key];\n",
              "  }\n",
              "  return element;\n",
              "}\n",
              "\n",
              "// Max number of bytes which will be uploaded at a time.\n",
              "const MAX_PAYLOAD_SIZE = 100 * 1024;\n",
              "\n",
              "function _uploadFiles(inputId, outputId) {\n",
              "  const steps = uploadFilesStep(inputId, outputId);\n",
              "  const outputElement = document.getElementById(outputId);\n",
              "  // Cache steps on the outputElement to make it available for the next call\n",
              "  // to uploadFilesContinue from Python.\n",
              "  outputElement.steps = steps;\n",
              "\n",
              "  return _uploadFilesContinue(outputId);\n",
              "}\n",
              "\n",
              "// This is roughly an async generator (not supported in the browser yet),\n",
              "// where there are multiple asynchronous steps and the Python side is going\n",
              "// to poll for completion of each step.\n",
              "// This uses a Promise to block the python side on completion of each step,\n",
              "// then passes the result of the previous step as the input to the next step.\n",
              "function _uploadFilesContinue(outputId) {\n",
              "  const outputElement = document.getElementById(outputId);\n",
              "  const steps = outputElement.steps;\n",
              "\n",
              "  const next = steps.next(outputElement.lastPromiseValue);\n",
              "  return Promise.resolve(next.value.promise).then((value) => {\n",
              "    // Cache the last promise value to make it available to the next\n",
              "    // step of the generator.\n",
              "    outputElement.lastPromiseValue = value;\n",
              "    return next.value.response;\n",
              "  });\n",
              "}\n",
              "\n",
              "/**\n",
              " * Generator function which is called between each async step of the upload\n",
              " * process.\n",
              " * @param {string} inputId Element ID of the input file picker element.\n",
              " * @param {string} outputId Element ID of the output display.\n",
              " * @return {!Iterable<!Object>} Iterable of next steps.\n",
              " */\n",
              "function* uploadFilesStep(inputId, outputId) {\n",
              "  const inputElement = document.getElementById(inputId);\n",
              "  inputElement.disabled = false;\n",
              "\n",
              "  const outputElement = document.getElementById(outputId);\n",
              "  outputElement.innerHTML = '';\n",
              "\n",
              "  const pickedPromise = new Promise((resolve) => {\n",
              "    inputElement.addEventListener('change', (e) => {\n",
              "      resolve(e.target.files);\n",
              "    });\n",
              "  });\n",
              "\n",
              "  const cancel = document.createElement('button');\n",
              "  inputElement.parentElement.appendChild(cancel);\n",
              "  cancel.textContent = 'Cancel upload';\n",
              "  const cancelPromise = new Promise((resolve) => {\n",
              "    cancel.onclick = () => {\n",
              "      resolve(null);\n",
              "    };\n",
              "  });\n",
              "\n",
              "  // Wait for the user to pick the files.\n",
              "  const files = yield {\n",
              "    promise: Promise.race([pickedPromise, cancelPromise]),\n",
              "    response: {\n",
              "      action: 'starting',\n",
              "    }\n",
              "  };\n",
              "\n",
              "  cancel.remove();\n",
              "\n",
              "  // Disable the input element since further picks are not allowed.\n",
              "  inputElement.disabled = true;\n",
              "\n",
              "  if (!files) {\n",
              "    return {\n",
              "      response: {\n",
              "        action: 'complete',\n",
              "      }\n",
              "    };\n",
              "  }\n",
              "\n",
              "  for (const file of files) {\n",
              "    const li = document.createElement('li');\n",
              "    li.append(span(file.name, {fontWeight: 'bold'}));\n",
              "    li.append(span(\n",
              "        `(${file.type || 'n/a'}) - ${file.size} bytes, ` +\n",
              "        `last modified: ${\n",
              "            file.lastModifiedDate ? file.lastModifiedDate.toLocaleDateString() :\n",
              "                                    'n/a'} - `));\n",
              "    const percent = span('0% done');\n",
              "    li.appendChild(percent);\n",
              "\n",
              "    outputElement.appendChild(li);\n",
              "\n",
              "    const fileDataPromise = new Promise((resolve) => {\n",
              "      const reader = new FileReader();\n",
              "      reader.onload = (e) => {\n",
              "        resolve(e.target.result);\n",
              "      };\n",
              "      reader.readAsArrayBuffer(file);\n",
              "    });\n",
              "    // Wait for the data to be ready.\n",
              "    let fileData = yield {\n",
              "      promise: fileDataPromise,\n",
              "      response: {\n",
              "        action: 'continue',\n",
              "      }\n",
              "    };\n",
              "\n",
              "    // Use a chunked sending to avoid message size limits. See b/62115660.\n",
              "    let position = 0;\n",
              "    do {\n",
              "      const length = Math.min(fileData.byteLength - position, MAX_PAYLOAD_SIZE);\n",
              "      const chunk = new Uint8Array(fileData, position, length);\n",
              "      position += length;\n",
              "\n",
              "      const base64 = btoa(String.fromCharCode.apply(null, chunk));\n",
              "      yield {\n",
              "        response: {\n",
              "          action: 'append',\n",
              "          file: file.name,\n",
              "          data: base64,\n",
              "        },\n",
              "      };\n",
              "\n",
              "      let percentDone = fileData.byteLength === 0 ?\n",
              "          100 :\n",
              "          Math.round((position / fileData.byteLength) * 100);\n",
              "      percent.textContent = `${percentDone}% done`;\n",
              "\n",
              "    } while (position < fileData.byteLength);\n",
              "  }\n",
              "\n",
              "  // All done.\n",
              "  yield {\n",
              "    response: {\n",
              "      action: 'complete',\n",
              "    }\n",
              "  };\n",
              "}\n",
              "\n",
              "scope.google = scope.google || {};\n",
              "scope.google.colab = scope.google.colab || {};\n",
              "scope.google.colab._files = {\n",
              "  _uploadFiles,\n",
              "  _uploadFilesContinue,\n",
              "};\n",
              "})(self);\n",
              "</script> "
            ]
          },
          "metadata": {}
        },
        {
          "output_type": "stream",
          "name": "stdout",
          "text": [
            "Saving best_nn_model.h5 to best_nn_model.h5\n",
            "Saving best_nn_model_joblib.pkl to best_nn_model_joblib.pkl\n",
            "Saving scaler.pkl to scaler.pkl\n"
          ]
        }
      ]
    },
    {
      "cell_type": "code",
      "source": [],
      "metadata": {
        "id": "bvOz-VH5s162"
      },
      "execution_count": 2,
      "outputs": []
    },
    {
      "cell_type": "markdown",
      "source": [
        "---------------------------------\n",
        "\n",
        "# **2. Streamlit App (app.py)**"
      ],
      "metadata": {
        "id": "HvS93QcJqkQL"
      }
    },
    {
      "cell_type": "markdown",
      "source": [
        "Install Streamlit and Pyngrok to serve the model as a web app and create a tunnel to localhost.\n",
        "\n",
        "Authenticate ngrok with your authtoken to enable secure tunnels."
      ],
      "metadata": {
        "id": "feZNexRmWsMz"
      }
    },
    {
      "cell_type": "code",
      "source": [
        "!pip install streamlit pyngrok\n",
        "\n",
        "from pyngrok import ngrok\n",
        "\n",
        "\n",
        "# Replace YOUR_NGROK_AUTHTOKEN_HERE with your actual token\n",
        "!ngrok authtoken 33TQOGC36M3l0NRjglYzm5UNzwS_3cDL9Bw3ZdEywdeAtSx6V\n"
      ],
      "metadata": {
        "colab": {
          "base_uri": "https://localhost:8080/"
        },
        "id": "4hGL3aeQ7Xdh",
        "outputId": "3e2b6fbd-f0d1-41e3-d6e3-c8635717b413"
      },
      "execution_count": 3,
      "outputs": [
        {
          "output_type": "stream",
          "name": "stdout",
          "text": [
            "Collecting streamlit\n",
            "  Downloading streamlit-1.50.0-py3-none-any.whl.metadata (9.5 kB)\n",
            "Collecting pyngrok\n",
            "  Downloading pyngrok-7.4.0-py3-none-any.whl.metadata (8.1 kB)\n",
            "Requirement already satisfied: altair!=5.4.0,!=5.4.1,<6,>=4.0 in /usr/local/lib/python3.12/dist-packages (from streamlit) (5.5.0)\n",
            "Requirement already satisfied: blinker<2,>=1.5.0 in /usr/local/lib/python3.12/dist-packages (from streamlit) (1.9.0)\n",
            "Requirement already satisfied: cachetools<7,>=4.0 in /usr/local/lib/python3.12/dist-packages (from streamlit) (5.5.2)\n",
            "Requirement already satisfied: click<9,>=7.0 in /usr/local/lib/python3.12/dist-packages (from streamlit) (8.3.0)\n",
            "Requirement already satisfied: numpy<3,>=1.23 in /usr/local/lib/python3.12/dist-packages (from streamlit) (2.0.2)\n",
            "Requirement already satisfied: packaging<26,>=20 in /usr/local/lib/python3.12/dist-packages (from streamlit) (25.0)\n",
            "Requirement already satisfied: pandas<3,>=1.4.0 in /usr/local/lib/python3.12/dist-packages (from streamlit) (2.2.2)\n",
            "Requirement already satisfied: pillow<12,>=7.1.0 in /usr/local/lib/python3.12/dist-packages (from streamlit) (11.3.0)\n",
            "Requirement already satisfied: protobuf<7,>=3.20 in /usr/local/lib/python3.12/dist-packages (from streamlit) (5.29.5)\n",
            "Requirement already satisfied: pyarrow>=7.0 in /usr/local/lib/python3.12/dist-packages (from streamlit) (18.1.0)\n",
            "Requirement already satisfied: requests<3,>=2.27 in /usr/local/lib/python3.12/dist-packages (from streamlit) (2.32.4)\n",
            "Requirement already satisfied: tenacity<10,>=8.1.0 in /usr/local/lib/python3.12/dist-packages (from streamlit) (8.5.0)\n",
            "Requirement already satisfied: toml<2,>=0.10.1 in /usr/local/lib/python3.12/dist-packages (from streamlit) (0.10.2)\n",
            "Requirement already satisfied: typing-extensions<5,>=4.4.0 in /usr/local/lib/python3.12/dist-packages (from streamlit) (4.15.0)\n",
            "Requirement already satisfied: watchdog<7,>=2.1.5 in /usr/local/lib/python3.12/dist-packages (from streamlit) (6.0.0)\n",
            "Requirement already satisfied: gitpython!=3.1.19,<4,>=3.0.7 in /usr/local/lib/python3.12/dist-packages (from streamlit) (3.1.45)\n",
            "Collecting pydeck<1,>=0.8.0b4 (from streamlit)\n",
            "  Downloading pydeck-0.9.1-py2.py3-none-any.whl.metadata (4.1 kB)\n",
            "Requirement already satisfied: tornado!=6.5.0,<7,>=6.0.3 in /usr/local/lib/python3.12/dist-packages (from streamlit) (6.4.2)\n",
            "Requirement already satisfied: PyYAML>=5.1 in /usr/local/lib/python3.12/dist-packages (from pyngrok) (6.0.3)\n",
            "Requirement already satisfied: jinja2 in /usr/local/lib/python3.12/dist-packages (from altair!=5.4.0,!=5.4.1,<6,>=4.0->streamlit) (3.1.6)\n",
            "Requirement already satisfied: jsonschema>=3.0 in /usr/local/lib/python3.12/dist-packages (from altair!=5.4.0,!=5.4.1,<6,>=4.0->streamlit) (4.25.1)\n",
            "Requirement already satisfied: narwhals>=1.14.2 in /usr/local/lib/python3.12/dist-packages (from altair!=5.4.0,!=5.4.1,<6,>=4.0->streamlit) (2.6.0)\n",
            "Requirement already satisfied: gitdb<5,>=4.0.1 in /usr/local/lib/python3.12/dist-packages (from gitpython!=3.1.19,<4,>=3.0.7->streamlit) (4.0.12)\n",
            "Requirement already satisfied: python-dateutil>=2.8.2 in /usr/local/lib/python3.12/dist-packages (from pandas<3,>=1.4.0->streamlit) (2.9.0.post0)\n",
            "Requirement already satisfied: pytz>=2020.1 in /usr/local/lib/python3.12/dist-packages (from pandas<3,>=1.4.0->streamlit) (2025.2)\n",
            "Requirement already satisfied: tzdata>=2022.7 in /usr/local/lib/python3.12/dist-packages (from pandas<3,>=1.4.0->streamlit) (2025.2)\n",
            "Requirement already satisfied: charset_normalizer<4,>=2 in /usr/local/lib/python3.12/dist-packages (from requests<3,>=2.27->streamlit) (3.4.3)\n",
            "Requirement already satisfied: idna<4,>=2.5 in /usr/local/lib/python3.12/dist-packages (from requests<3,>=2.27->streamlit) (3.10)\n",
            "Requirement already satisfied: urllib3<3,>=1.21.1 in /usr/local/lib/python3.12/dist-packages (from requests<3,>=2.27->streamlit) (2.5.0)\n",
            "Requirement already satisfied: certifi>=2017.4.17 in /usr/local/lib/python3.12/dist-packages (from requests<3,>=2.27->streamlit) (2025.8.3)\n",
            "Requirement already satisfied: smmap<6,>=3.0.1 in /usr/local/lib/python3.12/dist-packages (from gitdb<5,>=4.0.1->gitpython!=3.1.19,<4,>=3.0.7->streamlit) (5.0.2)\n",
            "Requirement already satisfied: MarkupSafe>=2.0 in /usr/local/lib/python3.12/dist-packages (from jinja2->altair!=5.4.0,!=5.4.1,<6,>=4.0->streamlit) (3.0.3)\n",
            "Requirement already satisfied: attrs>=22.2.0 in /usr/local/lib/python3.12/dist-packages (from jsonschema>=3.0->altair!=5.4.0,!=5.4.1,<6,>=4.0->streamlit) (25.3.0)\n",
            "Requirement already satisfied: jsonschema-specifications>=2023.03.6 in /usr/local/lib/python3.12/dist-packages (from jsonschema>=3.0->altair!=5.4.0,!=5.4.1,<6,>=4.0->streamlit) (2025.9.1)\n",
            "Requirement already satisfied: referencing>=0.28.4 in /usr/local/lib/python3.12/dist-packages (from jsonschema>=3.0->altair!=5.4.0,!=5.4.1,<6,>=4.0->streamlit) (0.36.2)\n",
            "Requirement already satisfied: rpds-py>=0.7.1 in /usr/local/lib/python3.12/dist-packages (from jsonschema>=3.0->altair!=5.4.0,!=5.4.1,<6,>=4.0->streamlit) (0.27.1)\n",
            "Requirement already satisfied: six>=1.5 in /usr/local/lib/python3.12/dist-packages (from python-dateutil>=2.8.2->pandas<3,>=1.4.0->streamlit) (1.17.0)\n",
            "Downloading streamlit-1.50.0-py3-none-any.whl (10.1 MB)\n",
            "\u001b[2K   \u001b[90m━━━━━━━━━━━━━━━━━━━━━━━━━━━━━━━━━━━━━━━━\u001b[0m \u001b[32m10.1/10.1 MB\u001b[0m \u001b[31m69.5 MB/s\u001b[0m eta \u001b[36m0:00:00\u001b[0m\n",
            "\u001b[?25hDownloading pyngrok-7.4.0-py3-none-any.whl (25 kB)\n",
            "Downloading pydeck-0.9.1-py2.py3-none-any.whl (6.9 MB)\n",
            "\u001b[2K   \u001b[90m━━━━━━━━━━━━━━━━━━━━━━━━━━━━━━━━━━━━━━━━\u001b[0m \u001b[32m6.9/6.9 MB\u001b[0m \u001b[31m100.9 MB/s\u001b[0m eta \u001b[36m0:00:00\u001b[0m\n",
            "\u001b[?25hInstalling collected packages: pyngrok, pydeck, streamlit\n",
            "Successfully installed pydeck-0.9.1 pyngrok-7.4.0 streamlit-1.50.0\n",
            "Authtoken saved to configuration file: /root/.config/ngrok/ngrok.yml\n"
          ]
        }
      ]
    },
    {
      "cell_type": "code",
      "source": [
        "# Install packages\n",
        "!pip install streamlit pyngrok --quiet"
      ],
      "metadata": {
        "id": "HDRYqkLP2Rv9"
      },
      "execution_count": 4,
      "outputs": []
    },
    {
      "cell_type": "markdown",
      "source": [
        "## **UI Web App Design**"
      ],
      "metadata": {
        "id": "R8Q8n9wjb9s2"
      }
    },
    {
      "cell_type": "code",
      "source": [
        "%%writefile app.py\n",
        "import streamlit as st\n",
        "import pandas as pd\n",
        "import numpy as np\n",
        "from tensorflow.keras.models import load_model\n",
        "import joblib\n",
        "import plotly.graph_objects as go\n",
        "\n",
        "# --- Page config ---\n",
        "st.set_page_config(\n",
        "    page_title=\"Medical Risk Predictor\",\n",
        "    page_icon=\"❤️\",\n",
        "    layout=\"wide\"\n",
        ")\n",
        "\n",
        "# --- Custom Banner ---\n",
        "st.markdown(\"\"\"\n",
        "    <style>\n",
        "    .banner {\n",
        "        background: linear-gradient(to right, #4B6EFF, #61FFDA);\n",
        "        color: white;\n",
        "        text-align: center;\n",
        "        padding: 15px;\n",
        "        font-size: 22px;\n",
        "        font-weight: bold;\n",
        "        border-radius: 8px;\n",
        "        margin-bottom: 20px;\n",
        "        position: sticky;\n",
        "        top: 0;\n",
        "        z-index: 100;\n",
        "    }\n",
        "    </style>\n",
        "    <div class=\"banner\">🩺 Medical Risk Prediction Dashboard</div>\n",
        "\"\"\", unsafe_allow_html=True)\n",
        "\n",
        "# --- Intro Text ---\n",
        "st.markdown(\"\"\"\n",
        "This tool predicts whether a patient is **multi-morbid** (has >2 medical conditions)\n",
        "based on key **health** and **demographic** features.\n",
        "\n",
        "You can:\n",
        "- 🔹 Enter details manually for a **single patient**\n",
        "- 🔹 Upload a **CSV file** for **batch predictions**\n",
        "\n",
        "\"\"\")\n",
        "\n",
        "# --- Load model and scaler ---\n",
        "model = load_model('best_nn_model.h5')\n",
        "scaler = joblib.load('scaler.pkl')\n",
        "\n",
        "# --- Features ---\n",
        "numeric_features = ['age','total_claims','num_conditions','num_meds','num_encounters']\n",
        "categorical_features = ['gender','race']\n",
        "\n",
        "# --- Sidebar Settings (no disclaimer now) ---\n",
        "st.sidebar.title(\"⚙️ Settings\")\n",
        "smoothing_factor = st.sidebar.slider(\"Smoothing Factor\", 0.5, 1.0, 0.9)\n",
        "\n",
        "# --- Sigmoid smoothing ---\n",
        "def smooth_prob(p, factor=0.95):\n",
        "    return factor * p + (1 - factor) * 0.5\n",
        "\n",
        "# --- Single Patient Input ---\n",
        "st.subheader(\"📍 Single Patient Prediction\")\n",
        "with st.form(\"patient_form\"):\n",
        "    age = st.number_input(\"Age\", min_value=0, max_value=120, value=45)\n",
        "    total_claims = st.number_input(\"Total Claims\", min_value=0, value=5)\n",
        "    num_conditions = st.number_input(\"Number of Conditions\", min_value=0, value=1)\n",
        "    num_meds = st.number_input(\"Number of Medications\", min_value=0, value=1)\n",
        "    num_encounters = st.number_input(\"Number of Encounters\", min_value=0, value=5)\n",
        "\n",
        "    gender = st.selectbox(\"Gender\", [\"Male\", \"Female\"])\n",
        "    race = st.selectbox(\"Race\", [\"White\", \"Black\", \"Asian\", \"Other\"])\n",
        "\n",
        "    submitted = st.form_submit_button(\"🔍 Predict Risk\")\n",
        "\n",
        "if submitted:\n",
        "    # Prepare dataframe\n",
        "    data = pd.DataFrame([[age, total_claims, num_conditions, num_meds, num_encounters, gender, race]],\n",
        "                        columns=numeric_features + categorical_features)\n",
        "\n",
        "    # Encode categorical features\n",
        "    data['gender'] = data['gender'].map({\"Male\": 0, \"Female\": 1})\n",
        "    data['race'] = data['race'].map({\"White\": 0, \"Black\": 1, \"Asian\": 2, \"Other\": 3})\n",
        "\n",
        "    # Scale numeric features\n",
        "    data[numeric_features] = scaler.transform(data[numeric_features])\n",
        "\n",
        "    # Predict\n",
        "    raw_prob = model.predict(data)[0][0]\n",
        "    pred_prob = smooth_prob(raw_prob, factor=smoothing_factor)\n",
        "    pred_class = int(pred_prob > 0.5)\n",
        "\n",
        "    # --- Styled Result ---\n",
        "    if pred_class == 1:\n",
        "        st.markdown(f\"\"\"\n",
        "        <div style=\"background-color:#ffe6e6; padding:20px; border-radius:10px; border:1px solid red;\">\n",
        "            <h3 style=\"color:#cc0000;\">⚠️ High Risk of Multi-Morbidity</h3>\n",
        "            <p>Probability: <b>{pred_prob*100:.2f}%</b></p>\n",
        "        </div>\n",
        "        \"\"\", unsafe_allow_html=True)\n",
        "    else:\n",
        "        st.markdown(f\"\"\"\n",
        "        <div style=\"background-color:#e6ffe6; padding:20px; border-radius:10px; border:1px solid green;\">\n",
        "            <h3 style=\"color:#008000;\">✅ Low Risk of Multi-Morbidity</h3>\n",
        "            <p>Probability: <b>{pred_prob*100:.2f}%</b></p>\n",
        "        </div>\n",
        "        \"\"\", unsafe_allow_html=True)\n",
        "\n",
        "    # --- Probability Gauge ---\n",
        "    fig = go.Figure(go.Indicator(\n",
        "        mode=\"gauge+number\",\n",
        "        value=pred_prob*100,\n",
        "        title={'text': \"Risk Probability\"},\n",
        "        gauge={'axis': {'range': [0,100]},\n",
        "               'bar': {'color': \"red\" if pred_class==1 else \"green\"}}\n",
        "    ))\n",
        "    st.plotly_chart(fig, use_container_width=True)\n",
        "\n",
        "# --- Batch Prediction (Clean Version) ---\n",
        "st.subheader(\"📂 Batch Prediction (Upload CSV)\")\n",
        "uploaded_file = st.file_uploader(\"Upload CSV\", type=['csv'])\n",
        "\n",
        "if uploaded_file is not None:\n",
        "    df = pd.read_csv(uploaded_file)\n",
        "\n",
        "    # Define features exactly as trained\n",
        "    numeric_features = ['age','total_claims','num_conditions','num_meds','num_encounters']\n",
        "    categorical_features = ['gender','race']\n",
        "    required_cols = numeric_features + categorical_features\n",
        "\n",
        "    # Check if all required columns exist\n",
        "    if all(col in df.columns for col in required_cols):\n",
        "        with st.spinner(\"Running predictions...\"):\n",
        "\n",
        "            # --- Encode categorical features ---\n",
        "            df['gender'] = df['gender'].map({\"Male\": 0, \"Female\": 1})\n",
        "            df['race'] = df['race'].map({\"White\": 0, \"Black\": 1, \"Asian\": 2, \"Other\": 3})\n",
        "\n",
        "            # --- Ensure numeric column order matches training ---\n",
        "            df_numeric = df[numeric_features].copy()\n",
        "\n",
        "            # --- Scale numeric features ---\n",
        "            df[numeric_features] = scaler.transform(df_numeric)\n",
        "\n",
        "            # --- Generate probabilities ---\n",
        "            if hasattr(model, \"predict_proba\"):  # scikit-learn / XGBoost\n",
        "                raw_probs = model.predict_proba(df)[:, 1]  # probability of 'High'\n",
        "            else:  # Keras / TensorFlow\n",
        "                raw_probs = model.predict(df).flatten()\n",
        "                # Apply sigmoid if NN output is not [0,1]\n",
        "                if raw_probs.max() > 1 or raw_probs.min() < 0:\n",
        "                    raw_probs = 1 / (1 + np.exp(-raw_probs))\n",
        "\n",
        "            # --- Apply smoothing (optional) ---\n",
        "            df['MultiMorbid_Probability'] = np.array(\n",
        "                [smooth_prob(p, factor=smoothing_factor) for p in raw_probs]\n",
        "            )\n",
        "\n",
        "            # --- Label risk ---\n",
        "            df['Risk'] = np.where(df['MultiMorbid_Probability'] > 0.5, 'High', 'Low')\n",
        "\n",
        "        st.success(\"✅ Predictions Completed\")\n",
        "        st.dataframe(df)\n",
        "\n",
        "        # --- Download option ---\n",
        "        st.download_button(\n",
        "            \"📥 Download Predictions as CSV\",\n",
        "            df.to_csv(index=False),\n",
        "            \"predictions_corrected.csv\",\n",
        "            \"text/csv\"\n",
        "        )\n",
        "\n",
        "    else:\n",
        "        st.error(f\"❌ Uploaded CSV must contain these columns: {required_cols}\")\n",
        "\n"
      ],
      "metadata": {
        "colab": {
          "base_uri": "https://localhost:8080/"
        },
        "id": "IqS36b2P7XPA",
        "outputId": "1d5761f2-0b92-481a-c455-96c3f9105da4"
      },
      "execution_count": 5,
      "outputs": [
        {
          "output_type": "stream",
          "name": "stdout",
          "text": [
            "Writing app.py\n"
          ]
        }
      ]
    },
    {
      "cell_type": "markdown",
      "source": [
        "- Initializes a Streamlit dashboard titled Medical Risk Prediction Dashboard with a blue–teal gradient banner.\n",
        "\n",
        "- Loads the trained neural network (best_nn_model.h5) and scaler.pkl for consistent preprocessing.\n",
        "\n",
        "- Provides a single-patient form to input demographics and health metrics; encodes, scales, then predicts multimorbidity risk.\n",
        "\n",
        "- Applies a smoothing factor (configurable in sidebar) to stabilize probability outputs.\n",
        "\n",
        "- Displays results in styled alert boxes (red for high risk, green for low risk) plus a Plotly gauge chart.\n",
        "\n",
        "- Supports batch predictions by CSV upload: validates required columns, encodes/scales data, computes smoothed probabilities, labels risk, and offers a CSV download of predictions.\n",
        "\n",
        "- Uses st.download_button for exporting batch results and ensures all UI elements are mobile-responsive with layout=\"wide\".\n",
        "\n",
        "Ready for deployment via streamlit run app.py; public access can be enabled using Pyngrok.\n",
        "\n",
        "\n",
        "---------------"
      ],
      "metadata": {
        "id": "QmvH_t1qbJyo"
      }
    },
    {
      "cell_type": "code",
      "source": [
        "#Confirming app.py is saved\n",
        "\n",
        "!ls -l app.py\n"
      ],
      "metadata": {
        "colab": {
          "base_uri": "https://localhost:8080/"
        },
        "id": "C60CrWLAZT3h",
        "outputId": "a9a65ebb-a45f-4307-ef6f-ffb4cddaac91"
      },
      "execution_count": 9,
      "outputs": [
        {
          "output_type": "stream",
          "name": "stdout",
          "text": [
            "-rw-r--r-- 1 root root 6223 Oct  6 11:56 app.py\n"
          ]
        }
      ]
    },
    {
      "cell_type": "code",
      "source": [
        "#Run Streamlit\n",
        "\n",
        "!streamlit run app.py\n"
      ],
      "metadata": {
        "colab": {
          "base_uri": "https://localhost:8080/"
        },
        "id": "nJXAhML2ZA7l",
        "outputId": "cac6ac01-9f09-491b-f76b-59d6b5d954b9"
      },
      "execution_count": 8,
      "outputs": [
        {
          "output_type": "stream",
          "name": "stdout",
          "text": [
            "\n",
            "Collecting usage statistics. To deactivate, set browser.gatherUsageStats to false.\n",
            "\u001b[0m\n",
            "\u001b[0m\n",
            "\u001b[34m\u001b[1m  You can now view your Streamlit app in your browser.\u001b[0m\n",
            "\u001b[0m\n",
            "\u001b[34m  Local URL: \u001b[0m\u001b[1mhttp://localhost:8501\u001b[0m\n",
            "\u001b[34m  Network URL: \u001b[0m\u001b[1mhttp://172.28.0.12:8501\u001b[0m\n",
            "\u001b[34m  External URL: \u001b[0m\u001b[1mhttp://34.127.72.43:8501\u001b[0m\n",
            "\u001b[0m\n",
            "\u001b[34m  Stopping...\u001b[0m\n",
            "Traceback (most recent call last):\n",
            "  File \"/usr/local/bin/streamlit\", line 8, in <module>\n",
            "    sys.exit(main())\n",
            "             ^^^^^^\n",
            "  File \"/usr/local/lib/python3.12/dist-packages/click/core.py\", line 1462, in __call__\n",
            "    return self.main(*args, **kwargs)\n",
            "           ^^^^^^^^^^^^^^^^^^^^^^^^^^\n",
            "  File \"/usr/local/lib/python3.12/dist-packages/click/core.py\", line 1383, in main\n",
            "    rv = self.invoke(ctx)\n",
            "         ^^^^^^^^^^^^^^^^\n",
            "  File \"/usr/local/lib/python3.12/dist-packages/click/core.py\", line 1850, in invoke\n",
            "    return _process_result(sub_ctx.command.invoke(sub_ctx))\n",
            "                           ^^^^^^^^^^^^^^^^^^^^^^^^^^^^^^^\n",
            "  File \"/usr/local/lib/python3.12/dist-packages/click/core.py\", line 1246, in invoke\n",
            "    return ctx.invoke(self.callback, **ctx.params)\n",
            "           ^^^^^^^^^^^^^^^^^^^^^^^^^^^^^^^^^^^^^^^\n",
            "  File \"/usr/local/lib/python3.12/dist-packages/click/core.py\", line 814, in invoke\n",
            "    return callback(*args, **kwargs)\n",
            "           ^^^^^^^^^^^^^^^^^^^^^^^^^\n",
            "  File \"/usr/local/lib/python3.12/dist-packages/streamlit/web/cli.py\", line 237, in main_run\n",
            "    _main_run(target, args, flag_options=kwargs)\n",
            "  File \"/usr/local/lib/python3.12/dist-packages/streamlit/web/cli.py\", line 279, in _main_run\n",
            "    bootstrap.run(file, is_hello, args, flag_options)\n",
            "  File \"/usr/local/lib/python3.12/dist-packages/streamlit/web/bootstrap.py\", line 332, in run\n",
            "    asyncio.run(main())\n",
            "  File \"/usr/lib/python3.12/asyncio/runners.py\", line 195, in run\n",
            "    return runner.run(main)\n",
            "           ^^^^^^^^^^^^^^^^\n",
            "  File \"/usr/lib/python3.12/asyncio/runners.py\", line 118, in run\n",
            "    return self._loop.run_until_complete(task)\n",
            "           ^^^^^^^^^^^^^^^^^^^^^^^^^^^^^^^^^^^\n",
            "  File \"/usr/lib/python3.12/asyncio/base_events.py\", line 678, in run_until_complete\n",
            "    self.run_forever()\n",
            "  File \"/usr/lib/python3.12/asyncio/base_events.py\", line 645, in run_forever\n",
            "    self._run_once()\n",
            "  File \"/usr/lib/python3.12/asyncio/base_events.py\", line 1961, in _run_once\n",
            "    event_list = self._selector.select(timeout)\n",
            "                 ^^^^^^^^^^^^^^^^^^^^^^^^^^^^^^\n",
            "  File \"/usr/lib/python3.12/selectors.py\", line 468, in select\n",
            "    fd_event_list = self._selector.poll(timeout, max_ev)\n",
            "                    ^^^^^^^^^^^^^^^^^^^^^^^^^^^^^^^^^^^^\n",
            "  File \"/usr/local/lib/python3.12/dist-packages/streamlit/web/bootstrap.py\", line 42, in signal_handler\n",
            "    server.stop()\n",
            "  File \"/usr/local/lib/python3.12/dist-packages/streamlit/web/server/server.py\", line 509, in stop\n",
            "    cli_util.print_to_cli(\"  Stopping...\", fg=\"blue\")\n",
            "  File \"/usr/local/lib/python3.12/dist-packages/streamlit/cli_util.py\", line 35, in print_to_cli\n",
            "    click.secho(message, **kwargs)\n",
            "  File \"/usr/local/lib/python3.12/dist-packages/click/termui.py\", line 684, in secho\n",
            "    return echo(message, file=file, nl=nl, err=err, color=color)\n",
            "           ^^^^^^^^^^^^^^^^^^^^^^^^^^^^^^^^^^^^^^^^^^^^^^^^^^^^^\n",
            "  File \"/usr/local/lib/python3.12/dist-packages/click/utils.py\", line 321, in echo\n",
            "    file.write(out)  # type: ignore\n",
            "    ^^^^^^^^^^^^^^^\n",
            "  File \"/usr/local/lib/python3.12/dist-packages/streamlit/web/bootstrap.py\", line 42, in signal_handler\n",
            "    server.stop()\n",
            "  File \"/usr/local/lib/python3.12/dist-packages/streamlit/web/server/server.py\", line 509, in stop\n",
            "    cli_util.print_to_cli(\"  Stopping...\", fg=\"blue\")\n",
            "  File \"/usr/local/lib/python3.12/dist-packages/streamlit/cli_util.py\", line 35, in print_to_cli\n",
            "    click.secho(message, **kwargs)\n",
            "  File \"/usr/local/lib/python3.12/dist-packages/click/termui.py\", line 684, in secho\n",
            "    return echo(message, file=file, nl=nl, err=err, color=color)\n",
            "           ^^^^^^^^^^^^^^^^^^^^^^^^^^^^^^^^^^^^^^^^^^^^^^^^^^^^^\n",
            "  File \"/usr/local/lib/python3.12/dist-packages/click/utils.py\", line 321, in echo\n",
            "    file.write(out)  # type: ignore\n",
            "    ^^^^^^^^^^^^^^^\n",
            "RuntimeError: reentrant call inside <_io.BufferedWriter name='<stdout>'>\n"
          ]
        }
      ]
    },
    {
      "cell_type": "markdown",
      "source": [
        "------\n",
        "\n",
        "### **Run Streamlit app in background**"
      ],
      "metadata": {
        "id": "3Qffev_fXCYV"
      }
    },
    {
      "cell_type": "code",
      "source": [
        "\n",
        "!get_ipython().system_raw('streamlit run app.py &')\n"
      ],
      "metadata": {
        "colab": {
          "base_uri": "https://localhost:8080/"
        },
        "id": "gItwUR3C7XZ_",
        "outputId": "15b87d31-7873-42d2-b46e-46dc95eb2a23"
      },
      "execution_count": 6,
      "outputs": [
        {
          "output_type": "stream",
          "name": "stdout",
          "text": [
            "/bin/bash: -c: line 1: syntax error near unexpected token `.system_raw'\n",
            "/bin/bash: -c: line 1: `get_ipython().system_raw('streamlit run app.py &')'\n"
          ]
        }
      ]
    },
    {
      "cell_type": "markdown",
      "source": [
        "### **Download the app.py to PC**"
      ],
      "metadata": {
        "id": "J_1w4snDZ9js"
      }
    },
    {
      "cell_type": "code",
      "source": [
        "from google.colab import files\n",
        "\n",
        "files.download('app.py')\n"
      ],
      "metadata": {
        "colab": {
          "base_uri": "https://localhost:8080/",
          "height": 17
        },
        "id": "_6GBIJCiZ8lt",
        "outputId": "5cef10e8-be4c-454a-be8f-4d15ef63a130"
      },
      "execution_count": 13,
      "outputs": [
        {
          "output_type": "display_data",
          "data": {
            "text/plain": [
              "<IPython.core.display.Javascript object>"
            ],
            "application/javascript": [
              "\n",
              "    async function download(id, filename, size) {\n",
              "      if (!google.colab.kernel.accessAllowed) {\n",
              "        return;\n",
              "      }\n",
              "      const div = document.createElement('div');\n",
              "      const label = document.createElement('label');\n",
              "      label.textContent = `Downloading \"${filename}\": `;\n",
              "      div.appendChild(label);\n",
              "      const progress = document.createElement('progress');\n",
              "      progress.max = size;\n",
              "      div.appendChild(progress);\n",
              "      document.body.appendChild(div);\n",
              "\n",
              "      const buffers = [];\n",
              "      let downloaded = 0;\n",
              "\n",
              "      const channel = await google.colab.kernel.comms.open(id);\n",
              "      // Send a message to notify the kernel that we're ready.\n",
              "      channel.send({})\n",
              "\n",
              "      for await (const message of channel.messages) {\n",
              "        // Send a message to notify the kernel that we're ready.\n",
              "        channel.send({})\n",
              "        if (message.buffers) {\n",
              "          for (const buffer of message.buffers) {\n",
              "            buffers.push(buffer);\n",
              "            downloaded += buffer.byteLength;\n",
              "            progress.value = downloaded;\n",
              "          }\n",
              "        }\n",
              "      }\n",
              "      const blob = new Blob(buffers, {type: 'application/binary'});\n",
              "      const a = document.createElement('a');\n",
              "      a.href = window.URL.createObjectURL(blob);\n",
              "      a.download = filename;\n",
              "      div.appendChild(a);\n",
              "      a.click();\n",
              "      div.remove();\n",
              "    }\n",
              "  "
            ]
          },
          "metadata": {}
        },
        {
          "output_type": "display_data",
          "data": {
            "text/plain": [
              "<IPython.core.display.Javascript object>"
            ],
            "application/javascript": [
              "download(\"download_a9daf453-21d7-44f8-a90e-4f965e3ba862\", \"app.py\", 6223)"
            ]
          },
          "metadata": {}
        }
      ]
    },
    {
      "cell_type": "markdown",
      "source": [
        "**Kill ngrok Sessions**"
      ],
      "metadata": {
        "id": "jDqLNB66aGfm"
      }
    },
    {
      "cell_type": "code",
      "source": [
        "!pkill ngrok\n"
      ],
      "metadata": {
        "id": "TN2ttjpD5HEf"
      },
      "execution_count": 10,
      "outputs": []
    },
    {
      "cell_type": "markdown",
      "source": [
        "### **Run Streamlit in background and expose via ngrok**"
      ],
      "metadata": {
        "id": "3DFzuoUpaS3N"
      }
    },
    {
      "cell_type": "code",
      "source": [
        "import os\n",
        "from pyngrok import ngrok\n",
        "import time\n",
        "\n",
        "os.system(\"nohup streamlit run app.py &\")\n",
        "time.sleep(5)\n",
        "public_url = ngrok.connect(8501)\n",
        "print(\"Open the UI Web App here:\", public_url)\n"
      ],
      "metadata": {
        "colab": {
          "base_uri": "https://localhost:8080/"
        },
        "id": "_Yofzkk-2NL5",
        "outputId": "998a8349-7930-4206-a6cb-ee9141b4584f"
      },
      "execution_count": 12,
      "outputs": [
        {
          "output_type": "stream",
          "name": "stdout",
          "text": [
            "Open the UI Web App here: NgrokTunnel: \"https://unregistrable-eleanora-hedgiest.ngrok-free.dev\" -> \"http://localhost:8501\"\n"
          ]
        }
      ]
    },
    {
      "cell_type": "markdown",
      "source": [
        "- Runs the Streamlit app in the background using nohup so it continues after the cell finishes.\n",
        "\n",
        "- Pauses 5 seconds to allow the server to start.\n",
        "\n",
        "- Opens an ngrok tunnel on port 8501, exposing the local Streamlit app to the internet.\n",
        "\n",
        "- Prints the public ngrok URL for accessing the dashboard from any browser.\n",
        "\n",
        "-------------------------------"
      ],
      "metadata": {
        "id": "CXX5bTbZc3fU"
      }
    },
    {
      "cell_type": "markdown",
      "source": [
        "### **Deployment Conclusion**\n",
        "\n",
        "\n",
        "1. The trained neural network and scaler were packaged into best_nn_model.h5, best_nn_model_joblib.pkl, and scaler.pkl, then served via a Streamlit dashboard exposed through an ngrok tunnel.\n",
        "\n",
        "2. This setup provides clinicians with an interactive web UI to input single-patient data or upload CSV batches, receiving real-time multimorbidity risk scores with styled alerts and gauge charts.\n",
        "\n",
        " 3.  The dashboard’s architecture ensures consistent preprocessing, reliable inference, and seamless export of results for integration into existing healthcare workflows.\n",
        "\n",
        "-----------------------\n"
      ],
      "metadata": {
        "id": "bOirBFBNd5YK"
      }
    },
    {
      "cell_type": "markdown",
      "source": [
        "### **Future Enhancements**\n",
        "\n",
        "- Integrate real-world EHR connectivity for automatic data ingestion and continuous model retraining.\n",
        "\n",
        "\n",
        "- Deploy the app on a scalable cloud platform (AWS/GCP/Azure) with CI/CD pipelines and secure authentication.\n",
        "\n",
        "- Extend the CTGAN framework to synthesize longitudinal patient trajectories, enabling time-series risk forecasting.\n",
        "\n",
        "- Incorporate additional data modalities (lab results, imaging features, genomics) to enrich model inputs and improve robustness.\n",
        "\n",
        "- Implement automated monitoring of model drift and performance, with alerts for retraining triggers.\n",
        "\n",
        "------------------------"
      ],
      "metadata": {
        "id": "7aOOPhqvd94G"
      }
    },
    {
      "cell_type": "markdown",
      "source": [
        "# **Overall Project Conclusion**\n",
        "\n",
        "\n",
        "From initial data collection and hypothesis testing through model development and CTGAN-driven augmentation, this project established statistically validated associations between patient characteristics and multimorbidity, then built and compared multiple classifiers. Traditional models highlighted the severity of class imbalance, while CTGAN-augmented neural networks achieved near-perfect discrimination (ROC-AUC 0.998) and high recall for rare, high-risk cases. The end-to-end pipeline—from EDA and hypothesis validation to synthetic data generation, model training, evaluation, and deployment—demonstrates a robust framework for developing clinically actionable predictive systems in healthcare."
      ],
      "metadata": {
        "id": "QkCK9YZqeBVi"
      }
    },
    {
      "cell_type": "markdown",
      "source": [
        "# **END OF THE PIPELINE !**"
      ],
      "metadata": {
        "id": "_i9w163keiV4"
      }
    }
  ]
}